{
  "nbformat": 4,
  "nbformat_minor": 0,
  "metadata": {
    "colab": {
      "provenance": [],
      "include_colab_link": true
    },
    "kernelspec": {
      "name": "python3",
      "display_name": "Python 3"
    },
    "language_info": {
      "name": "python"
    }
  },
  "cells": [
    {
      "cell_type": "markdown",
      "metadata": {
        "id": "view-in-github",
        "colab_type": "text"
      },
      "source": [
        "<a href=\"https://colab.research.google.com/github/ZahraShahlaie/multi_label_text_classification/blob/main/multi_label_text_classification.ipynb\" target=\"_parent\"><img src=\"https://colab.research.google.com/assets/colab-badge.svg\" alt=\"Open In Colab\"/></a>"
      ]
    },
    {
      "cell_type": "markdown",
      "source": [
        "# Multi-label text classification\n",
        "\n",
        "**Author:** [Farrokh Karimi](https://farrokhkarimi.github.io/)  \n",
        "**Improver:** [Zahra Shahlaie](https://github.com/ZahraShahlaie)\n",
        "\n",
        "**Description:** In this notebook, we want to classify the Ronash dataset into 20 category."
      ],
      "metadata": {
        "id": "Bij91pNWQOR5"
      }
    },
    {
      "cell_type": "code",
      "source": [
        "import re\n",
        "import numpy as np\n",
        "import pandas as pd\n",
        "import tensorflow as tf\n",
        "import plotly.express as px\n",
        "\n",
        "\n",
        "from collections import Counter\n",
        "import matplotlib.pyplot as plt\n",
        "import plotly.graph_objects as go\n",
        "import plotly.figure_factory as ff\n",
        "from sklearn.utils import resample\n",
        "\n",
        "\n",
        "from tensorflow.keras import layers\n",
        "from sklearn.model_selection import train_test_split\n",
        "from sklearn.metrics import confusion_matrix, classification_report\n",
        "\n"
      ],
      "metadata": {
        "id": "sL739kMAEsU9"
      },
      "execution_count": 67,
      "outputs": []
    },
    {
      "cell_type": "code",
      "source": [
        "# downloading Data from the Google Drive link\n",
        "!gdown 1Yq3XTnACkvaIiNlhX09Zth55nOau7jQy"
      ],
      "metadata": {
        "colab": {
          "base_uri": "https://localhost:8080/"
        },
        "id": "SHa9m3aLEbyP",
        "outputId": "a35c04d1-704f-4f47-f973-72a4244948d1"
      },
      "execution_count": 3,
      "outputs": [
        {
          "output_type": "stream",
          "name": "stdout",
          "text": [
            "Downloading...\n",
            "From: https://drive.google.com/uc?id=1Yq3XTnACkvaIiNlhX09Zth55nOau7jQy\n",
            "To: /content/Ronash_DS_Assignment.csv\n",
            "\r  0% 0.00/1.05M [00:00<?, ?B/s]\r100% 1.05M/1.05M [00:00<00:00, 25.9MB/s]\n"
          ]
        }
      ]
    },
    {
      "cell_type": "code",
      "source": [
        "ls"
      ],
      "metadata": {
        "colab": {
          "base_uri": "https://localhost:8080/"
        },
        "id": "6QpBuoWrC5QS",
        "outputId": "f4cbcb6d-6330-4214-ad06-74b9522a7b91"
      },
      "execution_count": 4,
      "outputs": [
        {
          "output_type": "stream",
          "name": "stdout",
          "text": [
            "Ronash_DS_Assignment.csv  \u001b[0m\u001b[01;34msample_data\u001b[0m/\n"
          ]
        }
      ]
    },
    {
      "cell_type": "code",
      "source": [
        "# reading the csv file as a dataframe\n",
        "df = pd.read_csv('Ronash_DS_Assignment.csv')\n",
        "df"
      ],
      "metadata": {
        "colab": {
          "base_uri": "https://localhost:8080/",
          "height": 423
        },
        "id": "722bMOmzF4_H",
        "outputId": "5832122b-ce26-45f7-85d6-17b2f9c65b89"
      },
      "execution_count": 5,
      "outputs": [
        {
          "output_type": "execute_result",
          "data": {
            "text/plain": [
              "         product_id                                              title  \\\n",
              "0     3937721221199    Fidele Super Premium Adult Large Breed Dog Food   \n",
              "1     7353058033889                    Foldable Pet Toys Linen Storage   \n",
              "2     6594773549129                                     Bok Dok Diaper   \n",
              "3     4802008318014                              Tastybone Toy Chicken   \n",
              "4     1779705151539                Leather Leash Tab - Short Dog Leash   \n",
              "...             ...                                                ...   \n",
              "5265  4637089464407                              Candylab MOO Milk Van   \n",
              "5266  4996632444987  Truck - Modern Era Vehicles -- Red, White -  S...   \n",
              "5267  5528541003927  Car Sticker Flags Decal American Flag Sticker for   \n",
              "5268  1395163889730          Lazer Helmets Bayamo Pit Bull - Full Face   \n",
              "5269  3535679324240                             Deutz Agrotron Tractor   \n",
              "\n",
              "                 vendor                                               tags  \\\n",
              "0                Fidele  ['Adult', 'Bangalore', 'Chennai', 'Chicken', '...   \n",
              "1             Cap Point                                                 []   \n",
              "2             Pets Home  ['Brand_Pet Arabia', 'Category_Pets Home', 'Ca...   \n",
              "3             TastyBone                                                 []   \n",
              "4            Mighty Paw                 ['Leash', 'Leash Tab', 'Training']   \n",
              "...                 ...                                                ...   \n",
              "5265           Candylab  ['3 Years +', 'candylab', 'Discount Products',...   \n",
              "5266   Woodland Scenics  ['HO Scale', 'ho-scale-items', 'vehicles', 'wo...   \n",
              "5267        Cyan Selene                                          ['Other']   \n",
              "5268  OPEN BOX BARGAINS  ['65061090', 'Antiscratch Pinlock Ready Visor'...   \n",
              "5269               Siku  ['$0 to $25', 'diecast-models', 'gift-finder',...   \n",
              "\n",
              "                    category  \n",
              "0     Animals & Pet Supplies  \n",
              "1     Animals & Pet Supplies  \n",
              "2     Animals & Pet Supplies  \n",
              "3     Animals & Pet Supplies  \n",
              "4     Animals & Pet Supplies  \n",
              "...                      ...  \n",
              "5265        Vehicles & Parts  \n",
              "5266        Vehicles & Parts  \n",
              "5267        Vehicles & Parts  \n",
              "5268        Vehicles & Parts  \n",
              "5269        Vehicles & Parts  \n",
              "\n",
              "[5270 rows x 5 columns]"
            ],
            "text/html": [
              "\n",
              "  <div id=\"df-609e4df3-163f-40ee-a7b9-4d887c20d026\" class=\"colab-df-container\">\n",
              "    <div>\n",
              "<style scoped>\n",
              "    .dataframe tbody tr th:only-of-type {\n",
              "        vertical-align: middle;\n",
              "    }\n",
              "\n",
              "    .dataframe tbody tr th {\n",
              "        vertical-align: top;\n",
              "    }\n",
              "\n",
              "    .dataframe thead th {\n",
              "        text-align: right;\n",
              "    }\n",
              "</style>\n",
              "<table border=\"1\" class=\"dataframe\">\n",
              "  <thead>\n",
              "    <tr style=\"text-align: right;\">\n",
              "      <th></th>\n",
              "      <th>product_id</th>\n",
              "      <th>title</th>\n",
              "      <th>vendor</th>\n",
              "      <th>tags</th>\n",
              "      <th>category</th>\n",
              "    </tr>\n",
              "  </thead>\n",
              "  <tbody>\n",
              "    <tr>\n",
              "      <th>0</th>\n",
              "      <td>3937721221199</td>\n",
              "      <td>Fidele Super Premium Adult Large Breed Dog Food</td>\n",
              "      <td>Fidele</td>\n",
              "      <td>['Adult', 'Bangalore', 'Chennai', 'Chicken', '...</td>\n",
              "      <td>Animals &amp; Pet Supplies</td>\n",
              "    </tr>\n",
              "    <tr>\n",
              "      <th>1</th>\n",
              "      <td>7353058033889</td>\n",
              "      <td>Foldable Pet Toys Linen Storage</td>\n",
              "      <td>Cap Point</td>\n",
              "      <td>[]</td>\n",
              "      <td>Animals &amp; Pet Supplies</td>\n",
              "    </tr>\n",
              "    <tr>\n",
              "      <th>2</th>\n",
              "      <td>6594773549129</td>\n",
              "      <td>Bok Dok Diaper</td>\n",
              "      <td>Pets Home</td>\n",
              "      <td>['Brand_Pet Arabia', 'Category_Pets Home', 'Ca...</td>\n",
              "      <td>Animals &amp; Pet Supplies</td>\n",
              "    </tr>\n",
              "    <tr>\n",
              "      <th>3</th>\n",
              "      <td>4802008318014</td>\n",
              "      <td>Tastybone Toy Chicken</td>\n",
              "      <td>TastyBone</td>\n",
              "      <td>[]</td>\n",
              "      <td>Animals &amp; Pet Supplies</td>\n",
              "    </tr>\n",
              "    <tr>\n",
              "      <th>4</th>\n",
              "      <td>1779705151539</td>\n",
              "      <td>Leather Leash Tab - Short Dog Leash</td>\n",
              "      <td>Mighty Paw</td>\n",
              "      <td>['Leash', 'Leash Tab', 'Training']</td>\n",
              "      <td>Animals &amp; Pet Supplies</td>\n",
              "    </tr>\n",
              "    <tr>\n",
              "      <th>...</th>\n",
              "      <td>...</td>\n",
              "      <td>...</td>\n",
              "      <td>...</td>\n",
              "      <td>...</td>\n",
              "      <td>...</td>\n",
              "    </tr>\n",
              "    <tr>\n",
              "      <th>5265</th>\n",
              "      <td>4637089464407</td>\n",
              "      <td>Candylab MOO Milk Van</td>\n",
              "      <td>Candylab</td>\n",
              "      <td>['3 Years +', 'candylab', 'Discount Products',...</td>\n",
              "      <td>Vehicles &amp; Parts</td>\n",
              "    </tr>\n",
              "    <tr>\n",
              "      <th>5266</th>\n",
              "      <td>4996632444987</td>\n",
              "      <td>Truck - Modern Era Vehicles -- Red, White -  S...</td>\n",
              "      <td>Woodland Scenics</td>\n",
              "      <td>['HO Scale', 'ho-scale-items', 'vehicles', 'wo...</td>\n",
              "      <td>Vehicles &amp; Parts</td>\n",
              "    </tr>\n",
              "    <tr>\n",
              "      <th>5267</th>\n",
              "      <td>5528541003927</td>\n",
              "      <td>Car Sticker Flags Decal American Flag Sticker for</td>\n",
              "      <td>Cyan Selene</td>\n",
              "      <td>['Other']</td>\n",
              "      <td>Vehicles &amp; Parts</td>\n",
              "    </tr>\n",
              "    <tr>\n",
              "      <th>5268</th>\n",
              "      <td>1395163889730</td>\n",
              "      <td>Lazer Helmets Bayamo Pit Bull - Full Face</td>\n",
              "      <td>OPEN BOX BARGAINS</td>\n",
              "      <td>['65061090', 'Antiscratch Pinlock Ready Visor'...</td>\n",
              "      <td>Vehicles &amp; Parts</td>\n",
              "    </tr>\n",
              "    <tr>\n",
              "      <th>5269</th>\n",
              "      <td>3535679324240</td>\n",
              "      <td>Deutz Agrotron Tractor</td>\n",
              "      <td>Siku</td>\n",
              "      <td>['$0 to $25', 'diecast-models', 'gift-finder',...</td>\n",
              "      <td>Vehicles &amp; Parts</td>\n",
              "    </tr>\n",
              "  </tbody>\n",
              "</table>\n",
              "<p>5270 rows × 5 columns</p>\n",
              "</div>\n",
              "    <div class=\"colab-df-buttons\">\n",
              "\n",
              "  <div class=\"colab-df-container\">\n",
              "    <button class=\"colab-df-convert\" onclick=\"convertToInteractive('df-609e4df3-163f-40ee-a7b9-4d887c20d026')\"\n",
              "            title=\"Convert this dataframe to an interactive table.\"\n",
              "            style=\"display:none;\">\n",
              "\n",
              "  <svg xmlns=\"http://www.w3.org/2000/svg\" height=\"24px\" viewBox=\"0 -960 960 960\">\n",
              "    <path d=\"M120-120v-720h720v720H120Zm60-500h600v-160H180v160Zm220 220h160v-160H400v160Zm0 220h160v-160H400v160ZM180-400h160v-160H180v160Zm440 0h160v-160H620v160ZM180-180h160v-160H180v160Zm440 0h160v-160H620v160Z\"/>\n",
              "  </svg>\n",
              "    </button>\n",
              "\n",
              "  <style>\n",
              "    .colab-df-container {\n",
              "      display:flex;\n",
              "      gap: 12px;\n",
              "    }\n",
              "\n",
              "    .colab-df-convert {\n",
              "      background-color: #E8F0FE;\n",
              "      border: none;\n",
              "      border-radius: 50%;\n",
              "      cursor: pointer;\n",
              "      display: none;\n",
              "      fill: #1967D2;\n",
              "      height: 32px;\n",
              "      padding: 0 0 0 0;\n",
              "      width: 32px;\n",
              "    }\n",
              "\n",
              "    .colab-df-convert:hover {\n",
              "      background-color: #E2EBFA;\n",
              "      box-shadow: 0px 1px 2px rgba(60, 64, 67, 0.3), 0px 1px 3px 1px rgba(60, 64, 67, 0.15);\n",
              "      fill: #174EA6;\n",
              "    }\n",
              "\n",
              "    .colab-df-buttons div {\n",
              "      margin-bottom: 4px;\n",
              "    }\n",
              "\n",
              "    [theme=dark] .colab-df-convert {\n",
              "      background-color: #3B4455;\n",
              "      fill: #D2E3FC;\n",
              "    }\n",
              "\n",
              "    [theme=dark] .colab-df-convert:hover {\n",
              "      background-color: #434B5C;\n",
              "      box-shadow: 0px 1px 3px 1px rgba(0, 0, 0, 0.15);\n",
              "      filter: drop-shadow(0px 1px 2px rgba(0, 0, 0, 0.3));\n",
              "      fill: #FFFFFF;\n",
              "    }\n",
              "  </style>\n",
              "\n",
              "    <script>\n",
              "      const buttonEl =\n",
              "        document.querySelector('#df-609e4df3-163f-40ee-a7b9-4d887c20d026 button.colab-df-convert');\n",
              "      buttonEl.style.display =\n",
              "        google.colab.kernel.accessAllowed ? 'block' : 'none';\n",
              "\n",
              "      async function convertToInteractive(key) {\n",
              "        const element = document.querySelector('#df-609e4df3-163f-40ee-a7b9-4d887c20d026');\n",
              "        const dataTable =\n",
              "          await google.colab.kernel.invokeFunction('convertToInteractive',\n",
              "                                                    [key], {});\n",
              "        if (!dataTable) return;\n",
              "\n",
              "        const docLinkHtml = 'Like what you see? Visit the ' +\n",
              "          '<a target=\"_blank\" href=https://colab.research.google.com/notebooks/data_table.ipynb>data table notebook</a>'\n",
              "          + ' to learn more about interactive tables.';\n",
              "        element.innerHTML = '';\n",
              "        dataTable['output_type'] = 'display_data';\n",
              "        await google.colab.output.renderOutput(dataTable, element);\n",
              "        const docLink = document.createElement('div');\n",
              "        docLink.innerHTML = docLinkHtml;\n",
              "        element.appendChild(docLink);\n",
              "      }\n",
              "    </script>\n",
              "  </div>\n",
              "\n",
              "\n",
              "<div id=\"df-bc081de5-68b8-476d-9f24-654aecd402f1\">\n",
              "  <button class=\"colab-df-quickchart\" onclick=\"quickchart('df-bc081de5-68b8-476d-9f24-654aecd402f1')\"\n",
              "            title=\"Suggest charts\"\n",
              "            style=\"display:none;\">\n",
              "\n",
              "<svg xmlns=\"http://www.w3.org/2000/svg\" height=\"24px\"viewBox=\"0 0 24 24\"\n",
              "     width=\"24px\">\n",
              "    <g>\n",
              "        <path d=\"M19 3H5c-1.1 0-2 .9-2 2v14c0 1.1.9 2 2 2h14c1.1 0 2-.9 2-2V5c0-1.1-.9-2-2-2zM9 17H7v-7h2v7zm4 0h-2V7h2v10zm4 0h-2v-4h2v4z\"/>\n",
              "    </g>\n",
              "</svg>\n",
              "  </button>\n",
              "\n",
              "<style>\n",
              "  .colab-df-quickchart {\n",
              "      --bg-color: #E8F0FE;\n",
              "      --fill-color: #1967D2;\n",
              "      --hover-bg-color: #E2EBFA;\n",
              "      --hover-fill-color: #174EA6;\n",
              "      --disabled-fill-color: #AAA;\n",
              "      --disabled-bg-color: #DDD;\n",
              "  }\n",
              "\n",
              "  [theme=dark] .colab-df-quickchart {\n",
              "      --bg-color: #3B4455;\n",
              "      --fill-color: #D2E3FC;\n",
              "      --hover-bg-color: #434B5C;\n",
              "      --hover-fill-color: #FFFFFF;\n",
              "      --disabled-bg-color: #3B4455;\n",
              "      --disabled-fill-color: #666;\n",
              "  }\n",
              "\n",
              "  .colab-df-quickchart {\n",
              "    background-color: var(--bg-color);\n",
              "    border: none;\n",
              "    border-radius: 50%;\n",
              "    cursor: pointer;\n",
              "    display: none;\n",
              "    fill: var(--fill-color);\n",
              "    height: 32px;\n",
              "    padding: 0;\n",
              "    width: 32px;\n",
              "  }\n",
              "\n",
              "  .colab-df-quickchart:hover {\n",
              "    background-color: var(--hover-bg-color);\n",
              "    box-shadow: 0 1px 2px rgba(60, 64, 67, 0.3), 0 1px 3px 1px rgba(60, 64, 67, 0.15);\n",
              "    fill: var(--button-hover-fill-color);\n",
              "  }\n",
              "\n",
              "  .colab-df-quickchart-complete:disabled,\n",
              "  .colab-df-quickchart-complete:disabled:hover {\n",
              "    background-color: var(--disabled-bg-color);\n",
              "    fill: var(--disabled-fill-color);\n",
              "    box-shadow: none;\n",
              "  }\n",
              "\n",
              "  .colab-df-spinner {\n",
              "    border: 2px solid var(--fill-color);\n",
              "    border-color: transparent;\n",
              "    border-bottom-color: var(--fill-color);\n",
              "    animation:\n",
              "      spin 1s steps(1) infinite;\n",
              "  }\n",
              "\n",
              "  @keyframes spin {\n",
              "    0% {\n",
              "      border-color: transparent;\n",
              "      border-bottom-color: var(--fill-color);\n",
              "      border-left-color: var(--fill-color);\n",
              "    }\n",
              "    20% {\n",
              "      border-color: transparent;\n",
              "      border-left-color: var(--fill-color);\n",
              "      border-top-color: var(--fill-color);\n",
              "    }\n",
              "    30% {\n",
              "      border-color: transparent;\n",
              "      border-left-color: var(--fill-color);\n",
              "      border-top-color: var(--fill-color);\n",
              "      border-right-color: var(--fill-color);\n",
              "    }\n",
              "    40% {\n",
              "      border-color: transparent;\n",
              "      border-right-color: var(--fill-color);\n",
              "      border-top-color: var(--fill-color);\n",
              "    }\n",
              "    60% {\n",
              "      border-color: transparent;\n",
              "      border-right-color: var(--fill-color);\n",
              "    }\n",
              "    80% {\n",
              "      border-color: transparent;\n",
              "      border-right-color: var(--fill-color);\n",
              "      border-bottom-color: var(--fill-color);\n",
              "    }\n",
              "    90% {\n",
              "      border-color: transparent;\n",
              "      border-bottom-color: var(--fill-color);\n",
              "    }\n",
              "  }\n",
              "</style>\n",
              "\n",
              "  <script>\n",
              "    async function quickchart(key) {\n",
              "      const quickchartButtonEl =\n",
              "        document.querySelector('#' + key + ' button');\n",
              "      quickchartButtonEl.disabled = true;  // To prevent multiple clicks.\n",
              "      quickchartButtonEl.classList.add('colab-df-spinner');\n",
              "      try {\n",
              "        const charts = await google.colab.kernel.invokeFunction(\n",
              "            'suggestCharts', [key], {});\n",
              "      } catch (error) {\n",
              "        console.error('Error during call to suggestCharts:', error);\n",
              "      }\n",
              "      quickchartButtonEl.classList.remove('colab-df-spinner');\n",
              "      quickchartButtonEl.classList.add('colab-df-quickchart-complete');\n",
              "    }\n",
              "    (() => {\n",
              "      let quickchartButtonEl =\n",
              "        document.querySelector('#df-bc081de5-68b8-476d-9f24-654aecd402f1 button');\n",
              "      quickchartButtonEl.style.display =\n",
              "        google.colab.kernel.accessAllowed ? 'block' : 'none';\n",
              "    })();\n",
              "  </script>\n",
              "</div>\n",
              "\n",
              "  <div id=\"id_685da706-dfad-4e69-a48e-feacd048b172\">\n",
              "    <style>\n",
              "      .colab-df-generate {\n",
              "        background-color: #E8F0FE;\n",
              "        border: none;\n",
              "        border-radius: 50%;\n",
              "        cursor: pointer;\n",
              "        display: none;\n",
              "        fill: #1967D2;\n",
              "        height: 32px;\n",
              "        padding: 0 0 0 0;\n",
              "        width: 32px;\n",
              "      }\n",
              "\n",
              "      .colab-df-generate:hover {\n",
              "        background-color: #E2EBFA;\n",
              "        box-shadow: 0px 1px 2px rgba(60, 64, 67, 0.3), 0px 1px 3px 1px rgba(60, 64, 67, 0.15);\n",
              "        fill: #174EA6;\n",
              "      }\n",
              "\n",
              "      [theme=dark] .colab-df-generate {\n",
              "        background-color: #3B4455;\n",
              "        fill: #D2E3FC;\n",
              "      }\n",
              "\n",
              "      [theme=dark] .colab-df-generate:hover {\n",
              "        background-color: #434B5C;\n",
              "        box-shadow: 0px 1px 3px 1px rgba(0, 0, 0, 0.15);\n",
              "        filter: drop-shadow(0px 1px 2px rgba(0, 0, 0, 0.3));\n",
              "        fill: #FFFFFF;\n",
              "      }\n",
              "    </style>\n",
              "    <button class=\"colab-df-generate\" onclick=\"generateWithVariable('df')\"\n",
              "            title=\"Generate code using this dataframe.\"\n",
              "            style=\"display:none;\">\n",
              "\n",
              "  <svg xmlns=\"http://www.w3.org/2000/svg\" height=\"24px\"viewBox=\"0 0 24 24\"\n",
              "       width=\"24px\">\n",
              "    <path d=\"M7,19H8.4L18.45,9,17,7.55,7,17.6ZM5,21V16.75L18.45,3.32a2,2,0,0,1,2.83,0l1.4,1.43a1.91,1.91,0,0,1,.58,1.4,1.91,1.91,0,0,1-.58,1.4L9.25,21ZM18.45,9,17,7.55Zm-12,3A5.31,5.31,0,0,0,4.9,8.1,5.31,5.31,0,0,0,1,6.5,5.31,5.31,0,0,0,4.9,4.9,5.31,5.31,0,0,0,6.5,1,5.31,5.31,0,0,0,8.1,4.9,5.31,5.31,0,0,0,12,6.5,5.46,5.46,0,0,0,6.5,12Z\"/>\n",
              "  </svg>\n",
              "    </button>\n",
              "    <script>\n",
              "      (() => {\n",
              "      const buttonEl =\n",
              "        document.querySelector('#id_685da706-dfad-4e69-a48e-feacd048b172 button.colab-df-generate');\n",
              "      buttonEl.style.display =\n",
              "        google.colab.kernel.accessAllowed ? 'block' : 'none';\n",
              "\n",
              "      buttonEl.onclick = () => {\n",
              "        google.colab.notebook.generateWithVariable('df');\n",
              "      }\n",
              "      })();\n",
              "    </script>\n",
              "  </div>\n",
              "\n",
              "    </div>\n",
              "  </div>\n"
            ],
            "application/vnd.google.colaboratory.intrinsic+json": {
              "type": "dataframe",
              "variable_name": "df",
              "summary": "{\n  \"name\": \"df\",\n  \"rows\": 5270,\n  \"fields\": [\n    {\n      \"column\": \"product_id\",\n      \"properties\": {\n        \"dtype\": \"number\",\n        \"std\": 2259001635349,\n        \"min\": 21156692,\n        \"max\": 7935895798000,\n        \"num_unique_values\": 5270,\n        \"samples\": [\n          1998932181054,\n          4693403861072,\n          4430708080736\n        ],\n        \"semantic_type\": \"\",\n        \"description\": \"\"\n      }\n    },\n    {\n      \"column\": \"title\",\n      \"properties\": {\n        \"dtype\": \"string\",\n        \"num_unique_values\": 5270,\n        \"samples\": [\n          \"Herschel Sulfur Spring/Olive Night Reflective Heritage Youth XL Backpack\",\n          \"Kazoo Tough Giraffe Dog Toy\",\n          \"DK Twist | Jaded Dreams\"\n        ],\n        \"semantic_type\": \"\",\n        \"description\": \"\"\n      }\n    },\n    {\n      \"column\": \"vendor\",\n      \"properties\": {\n        \"dtype\": \"string\",\n        \"num_unique_values\": 4013,\n        \"samples\": [\n          \"Boon\",\n          \"Clarins\",\n          \"Maiwa\"\n        ],\n        \"semantic_type\": \"\",\n        \"description\": \"\"\n      }\n    },\n    {\n      \"column\": \"tags\",\n      \"properties\": {\n        \"dtype\": \"string\",\n        \"num_unique_values\": 4554,\n        \"samples\": [\n          \"['Collections: All Jewellery', 'Collections: Earrings', 'La Dolce Vita', 'Material: 21ct gold plated on recycled brass', 'Pearl']\",\n          \"['Proof_75 - 100 (37.5 - 50% ABV)', 'sipwhiskey', 'Type_Whiskey', 'Whiskey_Rye']\",\n          \"['Dog Treats']\"\n        ],\n        \"semantic_type\": \"\",\n        \"description\": \"\"\n      }\n    },\n    {\n      \"column\": \"category\",\n      \"properties\": {\n        \"dtype\": \"category\",\n        \"num_unique_values\": 20,\n        \"samples\": [\n          \"Animals & Pet Supplies\",\n          \"Sporting Goods\",\n          \"Religious & Ceremonial\"\n        ],\n        \"semantic_type\": \"\",\n        \"description\": \"\"\n      }\n    }\n  ]\n}"
            }
          },
          "metadata": {},
          "execution_count": 5
        }
      ]
    },
    {
      "cell_type": "code",
      "source": [
        "# counting the number of each label\n",
        "df['category'].value_counts()"
      ],
      "metadata": {
        "colab": {
          "base_uri": "https://localhost:8080/"
        },
        "id": "6E1ZDXyPlr6y",
        "outputId": "085dea87-60cf-433c-9569-0a0290aaf09c"
      },
      "execution_count": 6,
      "outputs": [
        {
          "output_type": "execute_result",
          "data": {
            "text/plain": [
              "category\n",
              "Apparel & Accessories        1000\n",
              "Animals & Pet Supplies        500\n",
              "Food, Beverages & Tobacco     400\n",
              "Sporting Goods                400\n",
              "Luggage & Bags                400\n",
              "Home & Garden                 400\n",
              "Health & Beauty               400\n",
              "Media                         300\n",
              "Toys & Games                  300\n",
              "Furniture                     200\n",
              "Baby & Toddler                200\n",
              "Arts & Entertainment          200\n",
              "Electronics                   100\n",
              "Business & Industrial         100\n",
              "Office Supplies               100\n",
              "Vehicles & Parts              100\n",
              "Hardware                       50\n",
              "Cameras & Optics               50\n",
              "Software                       50\n",
              "Religious & Ceremonial         20\n",
              "Name: count, dtype: int64"
            ]
          },
          "metadata": {},
          "execution_count": 6
        }
      ]
    },
    {
      "cell_type": "code",
      "source": [
        "# counting how many indices are duplicated in each column\n",
        "print(f\"There are {sum(df['title'].duplicated())} duplicate title.\")\n",
        "print(f\"There are {sum(df['vendor'].duplicated())} duplicate vondor.\")\n",
        "print(f\"There are {sum(df['tags'].duplicated())} duplicate tags.\")"
      ],
      "metadata": {
        "colab": {
          "base_uri": "https://localhost:8080/"
        },
        "id": "Un_ggKoLUAEf",
        "outputId": "54b39eed-760d-49f0-94b9-ced08b953954"
      },
      "execution_count": 7,
      "outputs": [
        {
          "output_type": "stream",
          "name": "stdout",
          "text": [
            "There are 0 duplicate title.\n",
            "There are 1256 duplicate vondor.\n",
            "There are 716 duplicate tags.\n"
          ]
        }
      ]
    },
    {
      "cell_type": "code",
      "source": [
        "# counting the number of Nan samples\n",
        "df.isnull().values.sum()"
      ],
      "metadata": {
        "colab": {
          "base_uri": "https://localhost:8080/"
        },
        "id": "VD95efZwCRYT",
        "outputId": "a105c3ac-28f4-4ebf-ecfa-15076904a4aa"
      },
      "execution_count": 8,
      "outputs": [
        {
          "output_type": "execute_result",
          "data": {
            "text/plain": [
              "3"
            ]
          },
          "metadata": {},
          "execution_count": 8
        }
      ]
    },
    {
      "cell_type": "markdown",
      "source": [
        "There are just 3 Nan samples in the dataset so we can ignore them.\n",
        "\n",
        "\n"
      ],
      "metadata": {
        "id": "rhPJQuDEb8oN"
      }
    },
    {
      "cell_type": "markdown",
      "source": [
        "# EDA"
      ],
      "metadata": {
        "id": "zjSWYNaoi7Oz"
      }
    },
    {
      "cell_type": "markdown",
      "source": [
        "#### 1. Distribution of products by vendors."
      ],
      "metadata": {
        "id": "dVBgDlEzj_7W"
      }
    },
    {
      "cell_type": "code",
      "source": [
        "# Count products by vendor\n",
        "vendor_counts = df['vendor'].value_counts().head(10)\n",
        "\n",
        "# Displays the distribution based on its tendency\n",
        "plt.figure(figsize=(10, 6))\n",
        "vendor_counts.plot(kind='bar')\n",
        "plt.title('Distribution of Products by Vendors')\n",
        "plt.xlabel('Vendor')\n",
        "plt.ylabel('Number of Products')\n",
        "plt.xticks(rotation=45)\n",
        "plt.tight_layout()\n",
        "plt.show()"
      ],
      "metadata": {
        "colab": {
          "base_uri": "https://localhost:8080/",
          "height": 607
        },
        "id": "WirUKppvjREb",
        "outputId": "6307ae1e-6dd7-4a97-8a94-7faae52d5182"
      },
      "execution_count": 14,
      "outputs": [
        {
          "output_type": "display_data",
          "data": {
            "text/plain": [
              "<Figure size 1000x600 with 1 Axes>"
            ],
            "image/png": "[encoded data removed]"
          },
          "metadata": {}
        }
      ]
    },
    {
      "cell_type": "markdown",
      "source": [
        "2.Pie chart of product distribution by category with Plotly"
      ],
      "metadata": {
        "id": "Nqbxx6TqlHW7"
      }
    },
    {
      "cell_type": "code",
      "source": [
        "# Grouping by the 'category' column and counting the number of products in each category\n",
        "category_counts = df['category'].value_counts()\n",
        "\n",
        "# Preparing data for Plotly pie chart\n",
        "fig = px.pie(category_counts, values=category_counts.values, names=category_counts.index,\n",
        "             title='Product Distribution by Category')\n",
        "\n",
        "# Display the plot\n",
        "fig.show()\n"
      ],
      "metadata": {
        "colab": {
          "base_uri": "https://localhost:8080/",
          "height": 542
        },
        "id": "FCWKsyZrlJqv",
        "outputId": "a9cf623b-bfb9-40c9-d5d7-ac77f40260bb"
      },
      "execution_count": 17,
      "outputs": [
        {
          "output_type": "display_data",
          "data": {
            "text/html": [
              "<html>\n",
              "<head><meta charset=\"utf-8\" /></head>\n",
              "<body>\n",
              "    <div>            <script src=\"https://cdnjs.cloudflare.com/ajax/libs/mathjax/2.7.5/MathJax.js?config=TeX-AMS-MML_SVG\"></script><script type=\"text/javascript\">if (window.MathJax && window.MathJax.Hub && window.MathJax.Hub.Config) {window.MathJax.Hub.Config({SVG: {font: \"STIX-Web\"}});}</script>                <script type=\"text/javascript\">window.PlotlyConfig = {MathJaxConfig: 'local'};</script>\n",
              "        <script charset=\"utf-8\" src=\"https://cdn.plot.ly/plotly-2.24.1.min.js\"></script>                <div id=\"a2eff68a-fd07-4ae8-90c0-414507d2db8d\" class=\"plotly-graph-div\" style=\"height:525px; width:100%;\"></div>            <script type=\"text/javascript\">                                    window.PLOTLYENV=window.PLOTLYENV || {};                                    if (document.getElementById(\"a2eff68a-fd07-4ae8-90c0-414507d2db8d\")) {                    Plotly.newPlot(                        \"a2eff68a-fd07-4ae8-90c0-414507d2db8d\",                        [{\"domain\":{\"x\":[0.0,1.0],\"y\":[0.0,1.0]},\"hovertemplate\":\"category=%{label}\\u003cbr\\u003evalue=%{value}\\u003cextra\\u003e\\u003c\\u002fextra\\u003e\",\"labels\":[\"Apparel & Accessories\",\"Animals & Pet Supplies\",\"Food, Beverages & Tobacco\",\"Sporting Goods\",\"Luggage & Bags\",\"Home & Garden\",\"Health & Beauty\",\"Media\",\"Toys & Games\",\"Furniture\",\"Baby & Toddler\",\"Arts & Entertainment\",\"Electronics\",\"Business & Industrial\",\"Office Supplies\",\"Vehicles & Parts\",\"Hardware\",\"Cameras & Optics\",\"Software\",\"Religious & Ceremonial\"],\"legendgroup\":\"\",\"name\":\"\",\"showlegend\":true,\"values\":[1000,500,400,400,400,400,400,300,300,200,200,200,100,100,100,100,50,50,50,20],\"type\":\"pie\"}],                        {\"template\":{\"data\":{\"histogram2dcontour\":[{\"type\":\"histogram2dcontour\",\"colorbar\":{\"outlinewidth\":0,\"ticks\":\"\"},\"colorscale\":[[0.0,\"#0d0887\"],[0.1111111111111111,\"#46039f\"],[0.2222222222222222,\"#7201a8\"],[0.3333333333333333,\"#9c179e\"],[0.4444444444444444,\"#bd3786\"],[0.5555555555555556,\"#d8576b\"],[0.6666666666666666,\"#ed7953\"],[0.7777777777777778,\"#fb9f3a\"],[0.8888888888888888,\"#fdca26\"],[1.0,\"#f0f921\"]]}],\"choropleth\":[{\"type\":\"choropleth\",\"colorbar\":{\"outlinewidth\":0,\"ticks\":\"\"}}],\"histogram2d\":[{\"type\":\"histogram2d\",\"colorbar\":{\"outlinewidth\":0,\"ticks\":\"\"},\"colorscale\":[[0.0,\"#0d0887\"],[0.1111111111111111,\"#46039f\"],[0.2222222222222222,\"#7201a8\"],[0.3333333333333333,\"#9c179e\"],[0.4444444444444444,\"#bd3786\"],[0.5555555555555556,\"#d8576b\"],[0.6666666666666666,\"#ed7953\"],[0.7777777777777778,\"#fb9f3a\"],[0.8888888888888888,\"#fdca26\"],[1.0,\"#f0f921\"]]}],\"heatmap\":[{\"type\":\"heatmap\",\"colorbar\":{\"outlinewidth\":0,\"ticks\":\"\"},\"colorscale\":[[0.0,\"#0d0887\"],[0.1111111111111111,\"#46039f\"],[0.2222222222222222,\"#7201a8\"],[0.3333333333333333,\"#9c179e\"],[0.4444444444444444,\"#bd3786\"],[0.5555555555555556,\"#d8576b\"],[0.6666666666666666,\"#ed7953\"],[0.7777777777777778,\"#fb9f3a\"],[0.8888888888888888,\"#fdca26\"],[1.0,\"#f0f921\"]]}],\"heatmapgl\":[{\"type\":\"heatmapgl\",\"colorbar\":{\"outlinewidth\":0,\"ticks\":\"\"},\"colorscale\":[[0.0,\"#0d0887\"],[0.1111111111111111,\"#46039f\"],[0.2222222222222222,\"#7201a8\"],[0.3333333333333333,\"#9c179e\"],[0.4444444444444444,\"#bd3786\"],[0.5555555555555556,\"#d8576b\"],[0.6666666666666666,\"#ed7953\"],[0.7777777777777778,\"#fb9f3a\"],[0.8888888888888888,\"#fdca26\"],[1.0,\"#f0f921\"]]}],\"contourcarpet\":[{\"type\":\"contourcarpet\",\"colorbar\":{\"outlinewidth\":0,\"ticks\":\"\"}}],\"contour\":[{\"type\":\"contour\",\"colorbar\":{\"outlinewidth\":0,\"ticks\":\"\"},\"colorscale\":[[0.0,\"#0d0887\"],[0.1111111111111111,\"#46039f\"],[0.2222222222222222,\"#7201a8\"],[0.3333333333333333,\"#9c179e\"],[0.4444444444444444,\"#bd3786\"],[0.5555555555555556,\"#d8576b\"],[0.6666666666666666,\"#ed7953\"],[0.7777777777777778,\"#fb9f3a\"],[0.8888888888888888,\"#fdca26\"],[1.0,\"#f0f921\"]]}],\"surface\":[{\"type\":\"surface\",\"colorbar\":{\"outlinewidth\":0,\"ticks\":\"\"},\"colorscale\":[[0.0,\"#0d0887\"],[0.1111111111111111,\"#46039f\"],[0.2222222222222222,\"#7201a8\"],[0.3333333333333333,\"#9c179e\"],[0.4444444444444444,\"#bd3786\"],[0.5555555555555556,\"#d8576b\"],[0.6666666666666666,\"#ed7953\"],[0.7777777777777778,\"#fb9f3a\"],[0.8888888888888888,\"#fdca26\"],[1.0,\"#f0f921\"]]}],\"mesh3d\":[{\"type\":\"mesh3d\",\"colorbar\":{\"outlinewidth\":0,\"ticks\":\"\"}}],\"scatter\":[{\"fillpattern\":{\"fillmode\":\"overlay\",\"size\":10,\"solidity\":0.2},\"type\":\"scatter\"}],\"parcoords\":[{\"type\":\"parcoords\",\"line\":{\"colorbar\":{\"outlinewidth\":0,\"ticks\":\"\"}}}],\"scatterpolargl\":[{\"type\":\"scatterpolargl\",\"marker\":{\"colorbar\":{\"outlinewidth\":0,\"ticks\":\"\"}}}],\"bar\":[{\"error_x\":{\"color\":\"#2a3f5f\"},\"error_y\":{\"color\":\"#2a3f5f\"},\"marker\":{\"line\":{\"color\":\"#E5ECF6\",\"width\":0.5},\"pattern\":{\"fillmode\":\"overlay\",\"size\":10,\"solidity\":0.2}},\"type\":\"bar\"}],\"scattergeo\":[{\"type\":\"scattergeo\",\"marker\":{\"colorbar\":{\"outlinewidth\":0,\"ticks\":\"\"}}}],\"scatterpolar\":[{\"type\":\"scatterpolar\",\"marker\":{\"colorbar\":{\"outlinewidth\":0,\"ticks\":\"\"}}}],\"histogram\":[{\"marker\":{\"pattern\":{\"fillmode\":\"overlay\",\"size\":10,\"solidity\":0.2}},\"type\":\"histogram\"}],\"scattergl\":[{\"type\":\"scattergl\",\"marker\":{\"colorbar\":{\"outlinewidth\":0,\"ticks\":\"\"}}}],\"scatter3d\":[{\"type\":\"scatter3d\",\"line\":{\"colorbar\":{\"outlinewidth\":0,\"ticks\":\"\"}},\"marker\":{\"colorbar\":{\"outlinewidth\":0,\"ticks\":\"\"}}}],\"scattermapbox\":[{\"type\":\"scattermapbox\",\"marker\":{\"colorbar\":{\"outlinewidth\":0,\"ticks\":\"\"}}}],\"scatterternary\":[{\"type\":\"scatterternary\",\"marker\":{\"colorbar\":{\"outlinewidth\":0,\"ticks\":\"\"}}}],\"scattercarpet\":[{\"type\":\"scattercarpet\",\"marker\":{\"colorbar\":{\"outlinewidth\":0,\"ticks\":\"\"}}}],\"carpet\":[{\"aaxis\":{\"endlinecolor\":\"#2a3f5f\",\"gridcolor\":\"white\",\"linecolor\":\"white\",\"minorgridcolor\":\"white\",\"startlinecolor\":\"#2a3f5f\"},\"baxis\":{\"endlinecolor\":\"#2a3f5f\",\"gridcolor\":\"white\",\"linecolor\":\"white\",\"minorgridcolor\":\"white\",\"startlinecolor\":\"#2a3f5f\"},\"type\":\"carpet\"}],\"table\":[{\"cells\":{\"fill\":{\"color\":\"#EBF0F8\"},\"line\":{\"color\":\"white\"}},\"header\":{\"fill\":{\"color\":\"#C8D4E3\"},\"line\":{\"color\":\"white\"}},\"type\":\"table\"}],\"barpolar\":[{\"marker\":{\"line\":{\"color\":\"#E5ECF6\",\"width\":0.5},\"pattern\":{\"fillmode\":\"overlay\",\"size\":10,\"solidity\":0.2}},\"type\":\"barpolar\"}],\"pie\":[{\"automargin\":true,\"type\":\"pie\"}]},\"layout\":{\"autotypenumbers\":\"strict\",\"colorway\":[\"#636efa\",\"#EF553B\",\"#00cc96\",\"#ab63fa\",\"#FFA15A\",\"#19d3f3\",\"#FF6692\",\"#B6E880\",\"#FF97FF\",\"#FECB52\"],\"font\":{\"color\":\"#2a3f5f\"},\"hovermode\":\"closest\",\"hoverlabel\":{\"align\":\"left\"},\"paper_bgcolor\":\"white\",\"plot_bgcolor\":\"#E5ECF6\",\"polar\":{\"bgcolor\":\"#E5ECF6\",\"angularaxis\":{\"gridcolor\":\"white\",\"linecolor\":\"white\",\"ticks\":\"\"},\"radialaxis\":{\"gridcolor\":\"white\",\"linecolor\":\"white\",\"ticks\":\"\"}},\"ternary\":{\"bgcolor\":\"#E5ECF6\",\"aaxis\":{\"gridcolor\":\"white\",\"linecolor\":\"white\",\"ticks\":\"\"},\"baxis\":{\"gridcolor\":\"white\",\"linecolor\":\"white\",\"ticks\":\"\"},\"caxis\":{\"gridcolor\":\"white\",\"linecolor\":\"white\",\"ticks\":\"\"}},\"coloraxis\":{\"colorbar\":{\"outlinewidth\":0,\"ticks\":\"\"}},\"colorscale\":{\"sequential\":[[0.0,\"#0d0887\"],[0.1111111111111111,\"#46039f\"],[0.2222222222222222,\"#7201a8\"],[0.3333333333333333,\"#9c179e\"],[0.4444444444444444,\"#bd3786\"],[0.5555555555555556,\"#d8576b\"],[0.6666666666666666,\"#ed7953\"],[0.7777777777777778,\"#fb9f3a\"],[0.8888888888888888,\"#fdca26\"],[1.0,\"#f0f921\"]],\"sequentialminus\":[[0.0,\"#0d0887\"],[0.1111111111111111,\"#46039f\"],[0.2222222222222222,\"#7201a8\"],[0.3333333333333333,\"#9c179e\"],[0.4444444444444444,\"#bd3786\"],[0.5555555555555556,\"#d8576b\"],[0.6666666666666666,\"#ed7953\"],[0.7777777777777778,\"#fb9f3a\"],[0.8888888888888888,\"#fdca26\"],[1.0,\"#f0f921\"]],\"diverging\":[[0,\"#8e0152\"],[0.1,\"#c51b7d\"],[0.2,\"#de77ae\"],[0.3,\"#f1b6da\"],[0.4,\"#fde0ef\"],[0.5,\"#f7f7f7\"],[0.6,\"#e6f5d0\"],[0.7,\"#b8e186\"],[0.8,\"#7fbc41\"],[0.9,\"#4d9221\"],[1,\"#276419\"]]},\"xaxis\":{\"gridcolor\":\"white\",\"linecolor\":\"white\",\"ticks\":\"\",\"title\":{\"standoff\":15},\"zerolinecolor\":\"white\",\"automargin\":true,\"zerolinewidth\":2},\"yaxis\":{\"gridcolor\":\"white\",\"linecolor\":\"white\",\"ticks\":\"\",\"title\":{\"standoff\":15},\"zerolinecolor\":\"white\",\"automargin\":true,\"zerolinewidth\":2},\"scene\":{\"xaxis\":{\"backgroundcolor\":\"#E5ECF6\",\"gridcolor\":\"white\",\"linecolor\":\"white\",\"showbackground\":true,\"ticks\":\"\",\"zerolinecolor\":\"white\",\"gridwidth\":2},\"yaxis\":{\"backgroundcolor\":\"#E5ECF6\",\"gridcolor\":\"white\",\"linecolor\":\"white\",\"showbackground\":true,\"ticks\":\"\",\"zerolinecolor\":\"white\",\"gridwidth\":2},\"zaxis\":{\"backgroundcolor\":\"#E5ECF6\",\"gridcolor\":\"white\",\"linecolor\":\"white\",\"showbackground\":true,\"ticks\":\"\",\"zerolinecolor\":\"white\",\"gridwidth\":2}},\"shapedefaults\":{\"line\":{\"color\":\"#2a3f5f\"}},\"annotationdefaults\":{\"arrowcolor\":\"#2a3f5f\",\"arrowhead\":0,\"arrowwidth\":1},\"geo\":{\"bgcolor\":\"white\",\"landcolor\":\"#E5ECF6\",\"subunitcolor\":\"white\",\"showland\":true,\"showlakes\":true,\"lakecolor\":\"white\"},\"title\":{\"x\":0.05},\"mapbox\":{\"style\":\"light\"}}},\"legend\":{\"tracegroupgap\":0},\"title\":{\"text\":\"Product Distribution by Category\"}},                        {\"responsive\": true}                    ).then(function(){\n",
              "                            \n",
              "var gd = document.getElementById('a2eff68a-fd07-4ae8-90c0-414507d2db8d');\n",
              "var x = new MutationObserver(function (mutations, observer) {{\n",
              "        var display = window.getComputedStyle(gd).display;\n",
              "        if (!display || display === 'none') {{\n",
              "            console.log([gd, 'removed!']);\n",
              "            Plotly.purge(gd);\n",
              "            observer.disconnect();\n",
              "        }}\n",
              "}});\n",
              "\n",
              "// Listen for the removal of the full notebook cells\n",
              "var notebookContainer = gd.closest('#notebook-container');\n",
              "if (notebookContainer) {{\n",
              "    x.observe(notebookContainer, {childList: true});\n",
              "}}\n",
              "\n",
              "// Listen for the clearing of the current output cell\n",
              "var outputEl = gd.closest('.output');\n",
              "if (outputEl) {{\n",
              "    x.observe(outputEl, {childList: true});\n",
              "}}\n",
              "\n",
              "                        })                };                            </script>        </div>\n",
              "</body>\n",
              "</html>"
            ]
          },
          "metadata": {}
        }
      ]
    },
    {
      "cell_type": "markdown",
      "source": [
        "3. Histogram of the number of tags associated with each product."
      ],
      "metadata": {
        "id": "MqlHciYql6uh"
      }
    },
    {
      "cell_type": "code",
      "source": [
        "# Count the number of tags for each product\n",
        "df['num_tags'] = df['tags'].apply(lambda x: len(eval(x)))\n",
        "\n",
        "# Plotting histogram of number of tags\n",
        "fig = px.histogram(df, x='num_tags', title='Histogram of Number of Tags per Product')\n",
        "\n",
        "# Customizing layout (optional)\n",
        "fig.update_layout(\n",
        "    xaxis_title_text='Number of Tags',\n",
        "    yaxis_title_text='Count',\n",
        ")\n",
        "\n",
        "# Display the plot\n",
        "fig.show()\n"
      ],
      "metadata": {
        "colab": {
          "base_uri": "https://localhost:8080/",
          "height": 542
        },
        "id": "HuHwPmx_l6PB",
        "outputId": "a5824cba-a7cd-4b72-aadd-aed0b2e25770"
      },
      "execution_count": 19,
      "outputs": [
        {
          "output_type": "display_data",
          "data": {
            "text/html": [
              "<html>\n",
              "<head><meta charset=\"utf-8\" /></head>\n",
              "<body>\n",
              "    <div>            <script src=\"https://cdnjs.cloudflare.com/ajax/libs/mathjax/2.7.5/MathJax.js?config=TeX-AMS-MML_SVG\"></script><script type=\"text/javascript\">if (window.MathJax && window.MathJax.Hub && window.MathJax.Hub.Config) {window.MathJax.Hub.Config({SVG: {font: \"STIX-Web\"}});}</script>                <script type=\"text/javascript\">window.PlotlyConfig = {MathJaxConfig: 'local'};</script>\n",
              "        <script charset=\"utf-8\" src=\"https://cdn.plot.ly/plotly-2.24.1.min.js\"></script>                <div id=\"1704c9b7-4b45-49c0-82dd-9e333f3e3320\" class=\"plotly-graph-div\" style=\"height:525px; width:100%;\"></div>            <script type=\"text/javascript\">                                    window.PLOTLYENV=window.PLOTLYENV || {};                                    if (document.getElementById(\"1704c9b7-4b45-49c0-82dd-9e333f3e3320\")) {                    Plotly.newPlot(                        \"1704c9b7-4b45-49c0-82dd-9e333f3e3320\",                        [{\"alignmentgroup\":\"True\",\"bingroup\":\"x\",\"hovertemplate\":\"num_tags=%{x}\\u003cbr\\u003ecount=%{y}\\u003cextra\\u003e\\u003c\\u002fextra\\u003e\",\"legendgroup\":\"\",\"marker\":{\"color\":\"#636efa\",\"pattern\":{\"shape\":\"\"}},\"name\":\"\",\"offsetgroup\":\"\",\"orientation\":\"v\",\"showlegend\":false,\"x\":[18,0,5,0,3,2,16,3,5,8,11,5,8,0,0,11,13,3,11,5,0,25,13,2,5,5,0,10,1,8,17,1,7,3,0,7,3,5,1,4,5,1,1,1,16,4,2,5,21,6,1,5,20,1,1,4,1,14,9,6,2,7,3,5,5,6,7,5,4,3,9,11,2,2,2,21,7,1,5,3,6,14,6,2,4,5,4,1,7,0,5,18,4,6,6,6,1,1,4,10,5,13,3,0,3,27,1,1,5,3,2,4,3,11,13,6,9,7,2,4,2,12,3,0,0,5,1,6,4,6,5,4,1,6,2,3,5,1,3,9,6,5,13,2,17,3,0,9,28,7,0,0,11,2,27,7,12,1,12,18,5,14,13,9,6,13,16,10,13,6,17,8,9,6,14,3,17,10,0,0,2,4,6,7,7,11,6,6,1,3,6,10,2,18,5,8,3,13,10,0,14,0,2,2,11,5,9,2,5,7,7,8,4,3,0,0,8,2,16,5,6,6,21,4,1,1,4,20,5,15,3,13,7,5,12,15,4,6,1,3,3,11,2,2,1,1,4,13,19,3,3,2,3,3,6,4,1,3,9,20,10,16,0,10,8,1,14,16,5,9,7,4,3,1,9,1,1,14,6,3,11,0,3,4,8,16,3,18,5,28,0,1,4,8,3,0,1,1,0,5,3,4,15,7,3,4,9,6,4,2,3,9,3,4,0,4,15,3,7,4,1,17,13,0,2,11,8,1,7,1,0,0,0,4,5,8,0,16,6,20,5,1,15,3,6,3,6,17,7,5,1,8,9,0,1,1,17,0,1,3,12,1,1,1,4,7,0,11,0,12,13,21,1,0,0,13,2,3,7,3,2,5,4,8,28,10,9,6,6,13,4,6,5,4,4,3,1,5,4,6,10,6,3,25,1,8,6,3,4,2,20,16,2,2,1,6,4,6,0,4,7,7,13,3,3,1,11,5,32,2,1,8,10,23,3,5,9,12,1,0,1,7,1,9,19,4,6,3,0,0,33,2,20,10,1,3,0,15,5,3,14,0,2,4,1,14,8,1,5,1,8,0,9,7,7,2,13,5,1,6,4,25,16,1,3,5,0,5,0,1,0,6,23,5,9,6,0,10,5,1,4,0,14,1,13,9,0,5,6,0,4,14,18,30,10,18,1,8,8,0,12,0,2,12,70,65,5,2,43,11,5,17,5,0,1,2,6,5,19,18,3,1,50,17,5,12,19,1,3,23,3,8,26,25,17,0,1,3,15,24,34,2,20,1,3,31,18,4,0,13,12,14,1,11,9,1,5,5,3,9,1,9,3,12,17,23,2,12,13,3,1,1,6,4,10,1,94,19,67,10,7,9,43,11,5,14,2,1,1,1,7,1,10,17,9,1,11,5,14,0,49,9,12,4,10,1,8,4,8,8,2,24,6,8,18,1,18,4,1,1,4,1,17,5,12,2,32,19,11,1,19,38,12,16,13,8,9,8,38,6,2,9,12,28,17,1,6,12,10,15,20,13,4,13,8,15,22,1,7,15,1,17,0,4,3,1,6,73,1,3,14,11,9,18,0,1,3,1,27,2,27,12,2,17,4,8,7,7,47,7,3,6,17,14,2,0,1,20,2,2,1,6,9,2,7,0,9,10,3,26,8,7,7,20,10,4,3,3,2,6,6,3,4,6,2,14,20,2,16,6,3,11,6,9,0,10,6,2,23,2,5,6,5,29,4,10,8,2,8,1,6,2,0,18,16,0,0,12,19,7,5,3,28,15,1,5,12,8,18,9,11,6,9,2,12,11,13,2,8,20,1,100,5,24,6,2,6,3,1,10,13,22,18,4,17,8,6,3,13,90,18,23,20,2,16,14,16,3,3,7,12,7,6,18,1,8,23,9,5,0,13,24,16,0,44,8,16,10,1,10,1,4,8,1,10,14,4,12,16,6,6,6,1,2,5,16,4,17,9,4,6,6,11,16,40,33,2,7,12,6,5,6,3,12,3,1,6,1,1,10,7,0,0,1,17,6,8,2,10,9,9,4,4,0,7,0,10,5,23,10,10,0,16,11,8,8,9,10,2,16,3,6,30,9,8,2,1,4,3,15,9,6,15,14,3,6,13,18,0,4,0,6,22,2,0,10,8,2,7,10,1,22,30,2,20,15,0,25,13,5,12,8,21,6,15,20,11,3,6,5,5,0,5,9,0,12,8,1,4,4,6,19,9,11,4,2,6,2,13,7,28,10,2,3,17,15,0,10,2,0,4,14,1,10,20,12,0,0,0,11,7,3,3,5,3,21,5,1,3,25,11,1,4,19,1,11,8,7,2,4,9,15,5,5,8,0,14,2,7,2,3,78,7,14,13,10,14,2,9,2,5,2,21,5,13,1,3,25,4,7,8,18,17,0,1,10,7,79,4,3,6,11,7,14,1,5,0,13,11,2,18,6,1,7,1,2,8,0,4,0,11,9,4,0,28,4,45,3,5,6,1,18,18,4,1,4,3,16,2,0,1,5,6,1,10,12,11,9,26,12,13,1,14,14,6,5,25,0,2,17,1,9,9,4,1,11,37,9,11,46,3,14,9,13,17,0,18,35,4,10,17,4,5,1,6,6,1,1,4,15,42,0,24,7,3,6,6,5,9,13,6,17,12,2,6,9,25,12,6,3,1,7,7,3,0,8,13,1,1,5,21,10,0,5,54,12,12,3,31,1,3,0,3,5,1,3,11,8,5,6,14,10,25,29,2,26,8,9,3,2,12,9,4,8,8,2,1,6,19,2,0,11,9,6,6,3,6,1,5,2,2,3,6,15,3,4,9,5,13,17,3,52,75,4,7,8,2,13,14,3,0,6,11,7,17,57,0,1,8,14,4,9,16,12,2,7,4,3,2,1,14,4,0,0,11,14,2,2,1,5,7,9,1,0,14,1,1,1,17,9,30,3,11,6,8,3,1,8,1,0,8,4,10,5,13,39,15,13,4,17,8,1,4,2,0,1,6,30,11,2,11,1,4,11,0,3,48,17,7,9,13,4,9,5,3,15,21,5,0,13,23,4,30,1,8,20,41,8,3,0,15,6,8,19,19,12,5,7,2,3,16,2,4,101,13,9,0,1,4,5,12,0,6,7,10,6,60,1,17,11,13,6,4,1,15,17,8,2,0,11,5,8,15,22,2,10,4,0,1,24,19,5,3,15,30,3,26,11,5,10,10,8,2,37,6,8,3,17,10,7,4,4,6,2,0,6,17,26,0,2,11,15,5,2,12,17,1,0,2,14,2,18,1,2,14,1,7,16,8,11,16,12,11,6,12,3,4,2,6,14,0,8,7,3,15,4,43,6,27,6,6,0,12,13,2,0,4,2,3,38,3,5,1,1,4,4,1,6,16,15,3,5,1,1,3,8,7,4,10,2,1,4,54,19,2,6,9,14,7,24,11,3,1,25,0,4,7,13,63,14,5,22,3,10,21,4,8,10,30,9,20,3,9,15,0,60,8,1,19,3,1,2,4,5,2,3,2,15,1,0,7,7,1,10,4,13,1,4,2,10,2,6,7,4,13,1,2,9,8,15,4,2,1,8,5,6,4,11,16,31,7,24,2,2,3,10,11,16,64,0,22,5,11,4,14,2,23,10,4,2,1,32,1,40,1,17,5,1,3,5,2,6,12,9,3,6,5,3,6,12,1,7,0,6,2,4,56,1,2,0,14,1,10,17,5,6,10,17,9,33,5,1,6,36,2,12,1,2,9,2,37,0,0,0,3,5,10,4,9,0,17,13,4,5,6,5,6,22,6,5,11,1,10,21,5,1,10,5,9,9,7,40,4,0,7,13,15,7,2,5,4,17,4,1,6,6,15,2,9,13,0,1,9,5,4,13,22,11,10,14,7,1,2,0,1,3,3,0,2,2,12,6,2,15,1,8,1,30,2,3,18,9,3,0,2,3,4,1,10,6,6,2,9,12,1,7,6,8,4,0,22,4,5,8,4,11,8,5,3,5,13,10,2,9,8,15,6,5,7,2,2,2,12,0,1,5,0,4,8,12,12,18,6,0,4,3,14,10,2,0,4,3,5,5,3,12,12,4,0,0,3,5,3,1,4,5,19,7,2,2,2,3,4,14,0,3,7,0,7,5,2,4,10,3,4,3,8,11,8,4,10,1,14,16,3,1,0,3,4,10,9,1,9,2,12,3,16,5,15,5,0,3,0,8,1,13,4,10,0,8,7,3,14,9,11,14,15,8,4,30,2,4,7,17,10,14,11,23,6,7,0,0,2,16,8,5,14,7,6,1,5,9,8,15,5,8,7,8,16,16,5,0,8,4,14,5,0,5,8,4,4,0,35,28,5,9,2,4,7,3,1,13,7,5,2,10,2,10,4,1,1,1,14,8,6,14,8,6,2,5,5,0,1,2,1,3,16,4,6,9,10,8,6,8,1,2,0,1,17,9,1,0,7,4,7,7,5,3,16,5,25,7,8,1,12,3,6,3,7,1,5,4,4,6,18,8,7,3,9,3,20,1,21,6,20,8,2,5,16,14,9,14,2,28,1,23,6,15,22,24,22,6,0,1,24,1,3,1,2,13,6,9,6,0,4,17,26,2,19,1,42,7,35,2,0,1,2,2,26,0,4,5,3,2,5,3,1,5,0,7,11,7,13,1,10,1,4,0,4,4,7,2,1,6,3,8,1,3,4,1,2,5,0,2,2,8,2,1,8,4,19,3,0,0,2,8,5,4,7,0,0,0,9,20,0,3,2,1,1,3,3,0,3,8,2,17,1,4,7,2,2,14,4,0,2,0,1,15,4,38,4,1,6,0,5,3,2,1,0,0,2,12,4,7,4,6,4,0,0,4,4,8,12,1,0,0,1,2,1,2,0,4,2,4,3,18,6,9,3,3,0,1,4,5,1,26,4,2,8,1,5,1,4,3,7,7,8,1,0,7,0,7,5,5,0,2,11,4,5,1,12,22,4,7,6,8,0,2,12,2,5,8,0,7,3,0,11,4,7,6,4,0,3,15,1,0,2,9,3,4,8,7,1,1,1,1,9,6,5,11,1,3,3,4,2,1,9,9,0,9,2,4,4,0,3,8,9,5,24,3,3,3,5,10,11,6,4,2,3,10,6,13,5,27,4,21,4,3,1,2,7,5,7,0,1,6,2,0,7,11,6,7,4,18,0,13,12,10,3,8,5,8,10,5,4,4,4,1,7,5,4,0,1,0,1,5,7,7,1,12,3,1,5,62,3,15,6,4,6,4,0,3,1,4,1,13,10,2,0,4,9,0,4,1,6,16,5,27,9,1,0,10,11,5,5,2,3,5,13,10,6,4,3,4,5,2,5,5,4,2,4,7,13,7,8,4,4,9,5,8,1,0,4,5,5,0,7,6,8,1,8,1,5,3,9,5,4,9,2,7,7,12,10,0,9,1,0,0,4,15,11,2,3,5,11,1,6,5,9,4,0,2,5,1,3,3,11,6,2,5,13,0,1,0,6,2,7,2,6,1,2,2,3,0,3,13,2,4,1,9,8,4,5,1,9,14,0,2,2,6,5,1,12,1,10,23,3,2,0,3,6,4,2,8,5,9,6,12,8,11,11,7,4,5,3,1,6,0,2,4,7,2,1,3,6,6,5,3,0,3,1,4,8,5,8,0,13,5,1,5,34,4,0,6,2,12,15,20,1,9,10,34,4,2,4,1,3,6,14,8,22,3,1,5,0,15,0,8,8,6,6,1,8,3,2,1,2,4,2,1,2,20,3,0,3,3,2,10,3,9,26,24,6,14,6,3,1,5,1,6,9,3,16,3,3,1,8,4,1,10,2,3,3,2,0,0,21,3,3,0,3,3,16,12,10,9,3,2,12,4,4,19,5,12,2,6,6,3,21,3,8,1,12,2,4,7,13,1,15,3,3,0,9,0,0,4,7,12,0,3,3,1,7,3,3,1,1,5,2,1,3,11,0,8,7,14,14,11,1,6,10,3,3,8,4,6,3,1,2,5,5,3,3,8,7,8,3,10,3,0,4,2,2,8,3,3,6,13,20,17,6,9,18,13,14,2,18,3,3,19,0,3,6,5,9,1,4,3,6,4,3,12,10,3,0,2,2,5,3,0,0,4,18,0,7,6,9,3,0,0,12,11,5,0,2,8,1,10,7,1,1,13,1,9,1,8,10,7,1,9,7,5,8,9,8,10,10,2,8,3,3,4,12,2,0,8,2,6,7,11,0,3,2,2,4,5,3,1,0,3,4,0,1,3,16,0,11,2,5,5,2,34,1,4,10,1,0,1,0,1,6,6,2,1,0,6,6,4,1,0,3,1,6,5,1,0,5,3,0,5,4,0,5,11,10,4,10,5,5,12,3,6,9,3,1,17,5,0,6,10,13,0,1,4,3,1,2,4,2,3,1,1,3,0,12,7,6,2,13,0,2,1,28,1,1,1,2,10,2,1,8,5,5,12,2,11,0,12,7,3,3,5,35,6,0,3,2,2,3,0,5,5,5,14,26,7,21,0,9,1,4,10,5,2,1,2,4,13,0,19,7,1,6,2,1,8,0,6,7,11,8,2,5,3,3,6,19,8,3,12,3,0,13,1,3,6,10,3,3,3,4,5,3,9,0,0,16,0,1,1,7,34,4,57,11,3,4,7,0,22,3,14,8,0,5,14,14,1,7,3,14,6,1,4,0,5,2,7,3,12,30,5,18,3,16,0,1,6,11,1,1,2,23,9,1,1,7,10,2,4,2,7,0,14,10,1,15,16,11,13,2,6,3,0,2,10,4,20,1,5,1,8,2,13,6,4,2,5,6,4,4,1,18,5,0,5,4,0,6,3,7,5,1,0,66,3,5,3,4,22,2,0,24,9,7,42,14,4,3,4,13,1,8,5,4,3,7,3,3,3,0,7,15,8,8,5,6,6,5,1,3,1,4,4,2,1,10,2,0,1,5,5,4,0,1,7,10,9,0,6,6,2,1,12,10,0,6,11,33,1,11,2,6,3,10,15,3,6,10,2,10,3,1,5,8,1,34,2,8,2,25,5,29,0,2,4,4,2,2,3,1,19,9,4,3,6,0,11,5,9,0,15,1,10,5,3,30,5,24,4,10,8,3,1,2,5,6,11,3,14,11,0,6,6,6,5,77,1,6,16,3,25,10,2,0,3,12,2,6,3,4,1,6,5,9,66,1,1,4,1,0,2,3,10,6,20,0,3,5,5,5,5,6,0,19,0,7,11,0,5,0,9,8,5,12,9,7,2,4,0,5,6,5,5,0,2,18,0,13,46,8,7,3,0,7,7,8,0,13,18,5,10,10,7,3,41,5,81,7,1,3,12,2,8,7,5,3,10,14,16,6,5,3,11,1,5,9,15,16,1,2,13,0,4,10,9,8,1,10,6,9,0,2,4,3,2,2,2,15,1,18,6,0,2,9,1,1,0,3,7,3,2,1,4,1,2,0,2,22,3,3,7,24,32,8,8,11,18,17,4,0,1,2,18,2,2,0,3,9,20,3,18,6,0,14,8,0,20,62,5,12,11,3,5,1,3,31,9,4,18,6,1,3,5,0,7,2,4,6,7,14,13,45,3,3,0,5,7,30,5,7,21,10,10,5,3,7,13,3,2,11,16,17,7,3,10,12,10,16,6,2,9,7,16,8,15,21,20,9,1,5,0,10,0,1,7,17,0,12,5,2,58,0,11,9,25,1,7,14,9,5,18,1,20,1,2,1,4,5,11,20,0,8,0,4,14,7,1,0,0,8,12,14,10,16,6,7,6,14,12,5,1,3,3,1,5,10,11,9,12,3,14,1,1,12,2,3,15,6,13,1,9,7,11,5,0,18,1,4,13,5,16,8,6,6,0,9,5,1,3,1,19,11,2,19,5,5,13,3,6,6,6,8,23,1,14,4,3,1,12,2,6,9,18,18,8,0,38,28,5,8,6,22,7,2,0,2,17,1,25,2,21,2,0,16,4,7,18,1,6,8,9,5,2,4,8,18,5,13,7,0,9,3,9,6,0,8,4,3,6,10,5,1,0,5,5,3,0,3,22,4,5,3,3,3,7,7,6,3,3,0,1,12,7,6,3,12,21,7,0,13,16,12,4,8,11,8,11,12,2,13,2,10,17,1,7,3,5,4,3,5,2,10,3,15,13,4,9,2,1,2,3,1,6,1,6,2,0,4,2,4,2,9,0,3,10,4,4,7,7,11,2,6,2,25,7,7,2,4,1,1,0,8,15,5,31,6,11,1,5,6,1,1,1,9,11,0,3,1,17,1,2,10,0,5,5,24,7,1,12,7,5,14,9,12,2,4,0,4,7,8,6,0,3,1,2,3,0,14,5,4,5,3,7,6,2,0,0,1,0,7,19,5,0,6,7,0,16,2,2,1,13,5,9,11,11,3,12,13,6,5,1,17,13,1,6,8,18,2,0,0,1,1,1,4,19,3,0,47,3,0,1,0,0,4,4,7,2,4,30,3,14,14,2,8,1,8,4,2,5,1,1,32,5,11,3,15,1,7,8,10,9,31,5,4,5,7,1,1,0,2,9,17,0,2,2,10,3,2,7,10,0,6,0,10,7,2,18,7,3,7,2,19,8,0,7,20,1,6,19,2,1,4,12,0,5,0,3,2,0,2,5,6,1,3,12,1,4,6,3,19,7,2,3,1,11,6,0,36,5,2,8,26,14,1,7,3,3,1,0,2,3,9,19,5,1,2,10,13,4,10,1,7,3,7,2,3,2,8,0,7,6,9,6,1,56,27,1,0,6,2,0,8,2,4,0,1,4,3,18,4,7,5,6,4,8,5,6,4,0,0,2,9,44,1,33,4,9,1,4,2,14,9,2,9,10,7,6,1,6,0,3,3,24,5,1,1,5,5,1,9,8,3,6,0,11,3,14,13,10,5,7,3,23,26,7,2,17,4,3,8,1,0,2,1,2,12,4,8,14,2,2,2,20,7,3,2,27,10,0,3,2,1,21,1,1,1,22,67,0,4,14,10,0,2,31,6,10,5,1,0,3,8,13,2,1,1,7,1,5,11,9,11,3,7,1,6,21,3,6,8,1,1,24,8,8,10,3,5,8,4,5,8,8,1,13,1,21,5,9,11,10,9,2,2,2,5,5,4,0,11,3,10,9,4,6,5,12,9,15,0,4,7,1,1,11,4,3,10,8,15,2,7,2,14,0,21,5,6,10,13,9,1,10,3,21,1,5,6,11,11,10,10,6,16,1,3,3,1,1,4,8,7,4,21,8,7,20,6,7,19,8,10,7,9,8,3,1,1,4,12,4,4,7,16,3,8,4,3,4,8,7,13,2,14,12,21,7,3,1,1,18,4,7,7,1,0,6,5,1,8,4,9,13,1,3,9,9,15,8,5,1,6,12,1,1,16,3,5,5,12,9,7,7,0,0,3,9,11,5,6,6,22,9,1,4,7,13,7,5,1,8,4,10,14,7,7,8,6,1,7,23,9,14,10,2,7,25,4,7,6,1,0,18,9,8,4,6,1,2,5,2,0,8,8,3,9,9,1,15,1,7,5,3,3,16,4,1,6,0,1,3,18,6,7,6,1,1,4,1,7,7,8,9,14,1,2,1,9,6,19,2,2,3,4,7,8,19,1,22,7,3,19,14,4,7,3,7,2,5,0,4,1,1,0,8,5,1,8,0,9,1,16,12,1,1,4,4,5,2,2,0,7,9,4,10,1,2,4,1,1,8,2,18,2,10,2,5,1,18,0,4,1,1,3,3,9,21,3,13,16,1,4,11,2,6,1,2,13,2,0,2,4,13,3,1,0,20,3,5,12,11,1,0,1,2,6,4,4,2,1,2,1,6,7,2,1,1,0,3,7,0,14,13,0,6,1,5,11,12,1,1,1,0,2,7,0,2,1,13,1,8,5,2,9,19,3,12,3,2,3,4,1,2,2,19,0,21,1,1,2,12,2,6,15,1,1,7,20,1,6,24,23,24,4,0,9,5,0,23,24,0,6,15,3,0,14,6,16,6,24,5,10,27,7,2,28,2,3,1,0,6,5,4,4,8,0,1,2,23,24,8,2,2,3,1,24,10,1,3,0,7,1,6,8,4,5,6,11,3,7,3,4,12,0,2,2,2,4,0,3,0,3,1,2,6,2,10,6,3,2,8,1,23,3,0,7,2,1,2,12,9,6,10,1,1,0,1,5,19,2,6,14,3,2,1,1,2,8,6,11,6,2,5,10,11,4,3,3,7,2,1,2,2,2,4,2,4,0,6,4,1,1,9,0,0,1,7,6,2,1,11,3,5,7,10,3,10,1,7,9,4,6,8,3,16,5,5,6,21,2,6,0,1,18,10,5,5,2,6,0,4,6,1,3,3,8,7,4,9,6,4,36,1,4,0,6,4,2,11,5,1,2,2,2,1,3,3,15,13,16,5,2,6,23,6,16,10,5,1,2,4,0,5,6,8,1,1,6,5,2,8,12,1,8,1,6,4,0,6,5,1,8,2,9,49,0,4,8,18,2,16,0,7,0,2,1,4,4,6,31,9,4,0,4,10,1,2,8,11,5,7,4,1,1,17,5,8,2,6,3,6,0,5,0,2,7,9,5,11,1,0,25,4,12,4,1,5,3,2,1,19,5,5,12,17,6,13,6,16,5,4,11,3,1,8,1,1,6,1,5,3,13,9,1,8,6,3,1,7,2,4,3,5,1,4,10,9,6,1,5,0,12,6,4,7,9,5,5,5,5,32,4,3,14,27,1,0,1,4,8,3,5,5,0,4,1,5,9,9,8,10,8,8,4,7,2,3,11,1,0,5,3,1,9,0,7,16,3,7,5,1,1,4,7,2,25,7,12,4,9,7,3,0,6,0,0,7,0,4,1,6,2,0,19,1,0,12,2,9,0,5,5,2,3,7,1,21,9,11,5,1,14,12,1,5,1,14,2,16,0,8,0,21,3,6,4,19,2,1,7,11,4,11,11,0,5,1,8,5,33,13,22,7,0,4,6,4,9,13,9,15,5,4,8,22,7,5,10,15,4,0,8,7,6,7,3,12,4,14,14,3,11,8,3,5,11,5,6,0,2,6,6,2,1,6,9,14,2,12,10,0,8,22,12,3,4,1,12,1,10,24,3,45,0,14,1,14,4,2,5,7,8,15,17,0,8,5,0,1,7,5,1,0,5,2,4,31,1,12,6,0,10,4,3,4,3,3,32,3,15,6,0,10,18,7,2,1,5,11,9,1,6,5,5,0,3,7,3,10,15,1,5,3,5,7,2,5,0,4,1,4,0,5,4,9,4,2,0,9,3,21,15,9,13,4,7,4,1,0,4,1,7,9,0,9,4,34,4,3,12,5,6,0,2,3,0,12,1,10,4,2,2,0,6,2,3,8,1,6,15,3,6,0,10,19,3,2,9,0,7,17,5,10,3,3,2,1,4,23,1,9,12,2,12,15,2,2,3,25,2,1,5,6,3,2,5,36,5,0,19,7,8,12,1,9,6,4,1,3,3,9,14,5,3,7,12,3,29,3,7,9,8,15,12,4,17,3,17,2,1,7,3,15,11,0,21,1,4,14,8,0,0,0,4,2,6,0,3,0,0,22,6,13,15,11,12,6,9,4,3,5,4,25,7,2,15,15,20,1,3,10,5,0,5,11,2,2,8,6,4,14,7,16,2,14,7,2,2,4,7,4,2,3,13,9,1,2,30,9,1,13,10,7,3,3,7,3,4,4,2,1,2,4,10,12,15,3,0,6,5,1,2,12,2,6,2,6,17,1,2,10,30,7,4,1,3,2,2,39,2,7,3,4,0,1,4,1,14,7,7,12,4,2,3,23,7,2,11,1,3,5,3,4,6,0,2,0,6,17,38,10,5,6,5,7,4,1,13,12],\"xaxis\":\"x\",\"yaxis\":\"y\",\"type\":\"histogram\"}],                        {\"template\":{\"data\":{\"histogram2dcontour\":[{\"type\":\"histogram2dcontour\",\"colorbar\":{\"outlinewidth\":0,\"ticks\":\"\"},\"colorscale\":[[0.0,\"#0d0887\"],[0.1111111111111111,\"#46039f\"],[0.2222222222222222,\"#7201a8\"],[0.3333333333333333,\"#9c179e\"],[0.4444444444444444,\"#bd3786\"],[0.5555555555555556,\"#d8576b\"],[0.6666666666666666,\"#ed7953\"],[0.7777777777777778,\"#fb9f3a\"],[0.8888888888888888,\"#fdca26\"],[1.0,\"#f0f921\"]]}],\"choropleth\":[{\"type\":\"choropleth\",\"colorbar\":{\"outlinewidth\":0,\"ticks\":\"\"}}],\"histogram2d\":[{\"type\":\"histogram2d\",\"colorbar\":{\"outlinewidth\":0,\"ticks\":\"\"},\"colorscale\":[[0.0,\"#0d0887\"],[0.1111111111111111,\"#46039f\"],[0.2222222222222222,\"#7201a8\"],[0.3333333333333333,\"#9c179e\"],[0.4444444444444444,\"#bd3786\"],[0.5555555555555556,\"#d8576b\"],[0.6666666666666666,\"#ed7953\"],[0.7777777777777778,\"#fb9f3a\"],[0.8888888888888888,\"#fdca26\"],[1.0,\"#f0f921\"]]}],\"heatmap\":[{\"type\":\"heatmap\",\"colorbar\":{\"outlinewidth\":0,\"ticks\":\"\"},\"colorscale\":[[0.0,\"#0d0887\"],[0.1111111111111111,\"#46039f\"],[0.2222222222222222,\"#7201a8\"],[0.3333333333333333,\"#9c179e\"],[0.4444444444444444,\"#bd3786\"],[0.5555555555555556,\"#d8576b\"],[0.6666666666666666,\"#ed7953\"],[0.7777777777777778,\"#fb9f3a\"],[0.8888888888888888,\"#fdca26\"],[1.0,\"#f0f921\"]]}],\"heatmapgl\":[{\"type\":\"heatmapgl\",\"colorbar\":{\"outlinewidth\":0,\"ticks\":\"\"},\"colorscale\":[[0.0,\"#0d0887\"],[0.1111111111111111,\"#46039f\"],[0.2222222222222222,\"#7201a8\"],[0.3333333333333333,\"#9c179e\"],[0.4444444444444444,\"#bd3786\"],[0.5555555555555556,\"#d8576b\"],[0.6666666666666666,\"#ed7953\"],[0.7777777777777778,\"#fb9f3a\"],[0.8888888888888888,\"#fdca26\"],[1.0,\"#f0f921\"]]}],\"contourcarpet\":[{\"type\":\"contourcarpet\",\"colorbar\":{\"outlinewidth\":0,\"ticks\":\"\"}}],\"contour\":[{\"type\":\"contour\",\"colorbar\":{\"outlinewidth\":0,\"ticks\":\"\"},\"colorscale\":[[0.0,\"#0d0887\"],[0.1111111111111111,\"#46039f\"],[0.2222222222222222,\"#7201a8\"],[0.3333333333333333,\"#9c179e\"],[0.4444444444444444,\"#bd3786\"],[0.5555555555555556,\"#d8576b\"],[0.6666666666666666,\"#ed7953\"],[0.7777777777777778,\"#fb9f3a\"],[0.8888888888888888,\"#fdca26\"],[1.0,\"#f0f921\"]]}],\"surface\":[{\"type\":\"surface\",\"colorbar\":{\"outlinewidth\":0,\"ticks\":\"\"},\"colorscale\":[[0.0,\"#0d0887\"],[0.1111111111111111,\"#46039f\"],[0.2222222222222222,\"#7201a8\"],[0.3333333333333333,\"#9c179e\"],[0.4444444444444444,\"#bd3786\"],[0.5555555555555556,\"#d8576b\"],[0.6666666666666666,\"#ed7953\"],[0.7777777777777778,\"#fb9f3a\"],[0.8888888888888888,\"#fdca26\"],[1.0,\"#f0f921\"]]}],\"mesh3d\":[{\"type\":\"mesh3d\",\"colorbar\":{\"outlinewidth\":0,\"ticks\":\"\"}}],\"scatter\":[{\"fillpattern\":{\"fillmode\":\"overlay\",\"size\":10,\"solidity\":0.2},\"type\":\"scatter\"}],\"parcoords\":[{\"type\":\"parcoords\",\"line\":{\"colorbar\":{\"outlinewidth\":0,\"ticks\":\"\"}}}],\"scatterpolargl\":[{\"type\":\"scatterpolargl\",\"marker\":{\"colorbar\":{\"outlinewidth\":0,\"ticks\":\"\"}}}],\"bar\":[{\"error_x\":{\"color\":\"#2a3f5f\"},\"error_y\":{\"color\":\"#2a3f5f\"},\"marker\":{\"line\":{\"color\":\"#E5ECF6\",\"width\":0.5},\"pattern\":{\"fillmode\":\"overlay\",\"size\":10,\"solidity\":0.2}},\"type\":\"bar\"}],\"scattergeo\":[{\"type\":\"scattergeo\",\"marker\":{\"colorbar\":{\"outlinewidth\":0,\"ticks\":\"\"}}}],\"scatterpolar\":[{\"type\":\"scatterpolar\",\"marker\":{\"colorbar\":{\"outlinewidth\":0,\"ticks\":\"\"}}}],\"histogram\":[{\"marker\":{\"pattern\":{\"fillmode\":\"overlay\",\"size\":10,\"solidity\":0.2}},\"type\":\"histogram\"}],\"scattergl\":[{\"type\":\"scattergl\",\"marker\":{\"colorbar\":{\"outlinewidth\":0,\"ticks\":\"\"}}}],\"scatter3d\":[{\"type\":\"scatter3d\",\"line\":{\"colorbar\":{\"outlinewidth\":0,\"ticks\":\"\"}},\"marker\":{\"colorbar\":{\"outlinewidth\":0,\"ticks\":\"\"}}}],\"scattermapbox\":[{\"type\":\"scattermapbox\",\"marker\":{\"colorbar\":{\"outlinewidth\":0,\"ticks\":\"\"}}}],\"scatterternary\":[{\"type\":\"scatterternary\",\"marker\":{\"colorbar\":{\"outlinewidth\":0,\"ticks\":\"\"}}}],\"scattercarpet\":[{\"type\":\"scattercarpet\",\"marker\":{\"colorbar\":{\"outlinewidth\":0,\"ticks\":\"\"}}}],\"carpet\":[{\"aaxis\":{\"endlinecolor\":\"#2a3f5f\",\"gridcolor\":\"white\",\"linecolor\":\"white\",\"minorgridcolor\":\"white\",\"startlinecolor\":\"#2a3f5f\"},\"baxis\":{\"endlinecolor\":\"#2a3f5f\",\"gridcolor\":\"white\",\"linecolor\":\"white\",\"minorgridcolor\":\"white\",\"startlinecolor\":\"#2a3f5f\"},\"type\":\"carpet\"}],\"table\":[{\"cells\":{\"fill\":{\"color\":\"#EBF0F8\"},\"line\":{\"color\":\"white\"}},\"header\":{\"fill\":{\"color\":\"#C8D4E3\"},\"line\":{\"color\":\"white\"}},\"type\":\"table\"}],\"barpolar\":[{\"marker\":{\"line\":{\"color\":\"#E5ECF6\",\"width\":0.5},\"pattern\":{\"fillmode\":\"overlay\",\"size\":10,\"solidity\":0.2}},\"type\":\"barpolar\"}],\"pie\":[{\"automargin\":true,\"type\":\"pie\"}]},\"layout\":{\"autotypenumbers\":\"strict\",\"colorway\":[\"#636efa\",\"#EF553B\",\"#00cc96\",\"#ab63fa\",\"#FFA15A\",\"#19d3f3\",\"#FF6692\",\"#B6E880\",\"#FF97FF\",\"#FECB52\"],\"font\":{\"color\":\"#2a3f5f\"},\"hovermode\":\"closest\",\"hoverlabel\":{\"align\":\"left\"},\"paper_bgcolor\":\"white\",\"plot_bgcolor\":\"#E5ECF6\",\"polar\":{\"bgcolor\":\"#E5ECF6\",\"angularaxis\":{\"gridcolor\":\"white\",\"linecolor\":\"white\",\"ticks\":\"\"},\"radialaxis\":{\"gridcolor\":\"white\",\"linecolor\":\"white\",\"ticks\":\"\"}},\"ternary\":{\"bgcolor\":\"#E5ECF6\",\"aaxis\":{\"gridcolor\":\"white\",\"linecolor\":\"white\",\"ticks\":\"\"},\"baxis\":{\"gridcolor\":\"white\",\"linecolor\":\"white\",\"ticks\":\"\"},\"caxis\":{\"gridcolor\":\"white\",\"linecolor\":\"white\",\"ticks\":\"\"}},\"coloraxis\":{\"colorbar\":{\"outlinewidth\":0,\"ticks\":\"\"}},\"colorscale\":{\"sequential\":[[0.0,\"#0d0887\"],[0.1111111111111111,\"#46039f\"],[0.2222222222222222,\"#7201a8\"],[0.3333333333333333,\"#9c179e\"],[0.4444444444444444,\"#bd3786\"],[0.5555555555555556,\"#d8576b\"],[0.6666666666666666,\"#ed7953\"],[0.7777777777777778,\"#fb9f3a\"],[0.8888888888888888,\"#fdca26\"],[1.0,\"#f0f921\"]],\"sequentialminus\":[[0.0,\"#0d0887\"],[0.1111111111111111,\"#46039f\"],[0.2222222222222222,\"#7201a8\"],[0.3333333333333333,\"#9c179e\"],[0.4444444444444444,\"#bd3786\"],[0.5555555555555556,\"#d8576b\"],[0.6666666666666666,\"#ed7953\"],[0.7777777777777778,\"#fb9f3a\"],[0.8888888888888888,\"#fdca26\"],[1.0,\"#f0f921\"]],\"diverging\":[[0,\"#8e0152\"],[0.1,\"#c51b7d\"],[0.2,\"#de77ae\"],[0.3,\"#f1b6da\"],[0.4,\"#fde0ef\"],[0.5,\"#f7f7f7\"],[0.6,\"#e6f5d0\"],[0.7,\"#b8e186\"],[0.8,\"#7fbc41\"],[0.9,\"#4d9221\"],[1,\"#276419\"]]},\"xaxis\":{\"gridcolor\":\"white\",\"linecolor\":\"white\",\"ticks\":\"\",\"title\":{\"standoff\":15},\"zerolinecolor\":\"white\",\"automargin\":true,\"zerolinewidth\":2},\"yaxis\":{\"gridcolor\":\"white\",\"linecolor\":\"white\",\"ticks\":\"\",\"title\":{\"standoff\":15},\"zerolinecolor\":\"white\",\"automargin\":true,\"zerolinewidth\":2},\"scene\":{\"xaxis\":{\"backgroundcolor\":\"#E5ECF6\",\"gridcolor\":\"white\",\"linecolor\":\"white\",\"showbackground\":true,\"ticks\":\"\",\"zerolinecolor\":\"white\",\"gridwidth\":2},\"yaxis\":{\"backgroundcolor\":\"#E5ECF6\",\"gridcolor\":\"white\",\"linecolor\":\"white\",\"showbackground\":true,\"ticks\":\"\",\"zerolinecolor\":\"white\",\"gridwidth\":2},\"zaxis\":{\"backgroundcolor\":\"#E5ECF6\",\"gridcolor\":\"white\",\"linecolor\":\"white\",\"showbackground\":true,\"ticks\":\"\",\"zerolinecolor\":\"white\",\"gridwidth\":2}},\"shapedefaults\":{\"line\":{\"color\":\"#2a3f5f\"}},\"annotationdefaults\":{\"arrowcolor\":\"#2a3f5f\",\"arrowhead\":0,\"arrowwidth\":1},\"geo\":{\"bgcolor\":\"white\",\"landcolor\":\"#E5ECF6\",\"subunitcolor\":\"white\",\"showland\":true,\"showlakes\":true,\"lakecolor\":\"white\"},\"title\":{\"x\":0.05},\"mapbox\":{\"style\":\"light\"}}},\"xaxis\":{\"anchor\":\"y\",\"domain\":[0.0,1.0],\"title\":{\"text\":\"Number of Tags\"}},\"yaxis\":{\"anchor\":\"x\",\"domain\":[0.0,1.0],\"title\":{\"text\":\"Count\"}},\"legend\":{\"tracegroupgap\":0},\"title\":{\"text\":\"Histogram of Number of Tags per Product\"},\"barmode\":\"relative\"},                        {\"responsive\": true}                    ).then(function(){\n",
              "                            \n",
              "var gd = document.getElementById('1704c9b7-4b45-49c0-82dd-9e333f3e3320');\n",
              "var x = new MutationObserver(function (mutations, observer) {{\n",
              "        var display = window.getComputedStyle(gd).display;\n",
              "        if (!display || display === 'none') {{\n",
              "            console.log([gd, 'removed!']);\n",
              "            Plotly.purge(gd);\n",
              "            observer.disconnect();\n",
              "        }}\n",
              "}});\n",
              "\n",
              "// Listen for the removal of the full notebook cells\n",
              "var notebookContainer = gd.closest('#notebook-container');\n",
              "if (notebookContainer) {{\n",
              "    x.observe(notebookContainer, {childList: true});\n",
              "}}\n",
              "\n",
              "// Listen for the clearing of the current output cell\n",
              "var outputEl = gd.closest('.output');\n",
              "if (outputEl) {{\n",
              "    x.observe(outputEl, {childList: true});\n",
              "}}\n",
              "\n",
              "                        })                };                            </script>        </div>\n",
              "</body>\n",
              "</html>"
            ]
          },
          "metadata": {}
        }
      ]
    },
    {
      "cell_type": "markdown",
      "source": [
        "#### 4. Bar plot of the top 10 most frequent tags."
      ],
      "metadata": {
        "id": "895f-f2toAUy"
      }
    },
    {
      "cell_type": "code",
      "source": [
        "# Convert tag strings to lists of tags\n",
        "df['tags_list'] = df['tags'].apply(eval)\n",
        "\n",
        "# Combine all tags into one list and count occurrences of each tag\n",
        "all_tags = []\n",
        "for tags in df['tags_list']:\n",
        "    all_tags.extend(tags)\n",
        "\n",
        "tag_counts = pd.Series(all_tags).value_counts()\n",
        "\n",
        "# Select the top 10 most frequent tags\n",
        "top_10_tags = tag_counts.head(10)\n",
        "\n",
        "# Prepare data for bar plot\n",
        "fig = px.bar(top_10_tags, x=top_10_tags.index, y=top_10_tags.values,\n",
        "             labels={'x': 'Tag', 'y': 'Frequency'},\n",
        "             title='Top 10 Most Frequent Tags')\n",
        "\n",
        "# Show the plot\n",
        "fig.show()\n"
      ],
      "metadata": {
        "colab": {
          "base_uri": "https://localhost:8080/",
          "height": 542
        },
        "id": "KGf0mTd_odUn",
        "outputId": "5ad753c0-7e18-4f6e-f736-45800cac07fe"
      },
      "execution_count": 20,
      "outputs": [
        {
          "output_type": "display_data",
          "data": {
            "text/html": [
              "<html>\n",
              "<head><meta charset=\"utf-8\" /></head>\n",
              "<body>\n",
              "    <div>            <script src=\"https://cdnjs.cloudflare.com/ajax/libs/mathjax/2.7.5/MathJax.js?config=TeX-AMS-MML_SVG\"></script><script type=\"text/javascript\">if (window.MathJax && window.MathJax.Hub && window.MathJax.Hub.Config) {window.MathJax.Hub.Config({SVG: {font: \"STIX-Web\"}});}</script>                <script type=\"text/javascript\">window.PlotlyConfig = {MathJaxConfig: 'local'};</script>\n",
              "        <script charset=\"utf-8\" src=\"https://cdn.plot.ly/plotly-2.24.1.min.js\"></script>                <div id=\"dc3cf21c-a0df-45dd-8661-7ff1bbef4bea\" class=\"plotly-graph-div\" style=\"height:525px; width:100%;\"></div>            <script type=\"text/javascript\">                                    window.PLOTLYENV=window.PLOTLYENV || {};                                    if (document.getElementById(\"dc3cf21c-a0df-45dd-8661-7ff1bbef4bea\")) {                    Plotly.newPlot(                        \"dc3cf21c-a0df-45dd-8661-7ff1bbef4bea\",                        [{\"alignmentgroup\":\"True\",\"hovertemplate\":\"index=%{x}\\u003cbr\\u003eFrequency=%{y}\\u003cextra\\u003e\\u003c\\u002fextra\\u003e\",\"legendgroup\":\"\",\"marker\":{\"color\":\"#636efa\",\"pattern\":{\"shape\":\"\"}},\"name\":\"\",\"offsetgroup\":\"\",\"orientation\":\"v\",\"showlegend\":false,\"textposition\":\"auto\",\"x\":[\"Black\",\"spo-disabled\",\"spo-default\",\"New\",\"new\",\"Toys\",\"Backpacks\",\"Accessories\",\"Books\",\"White\"],\"xaxis\":\"x\",\"y\":[101,99,86,84,83,78,75,70,69,62],\"yaxis\":\"y\",\"type\":\"bar\"}],                        {\"template\":{\"data\":{\"histogram2dcontour\":[{\"type\":\"histogram2dcontour\",\"colorbar\":{\"outlinewidth\":0,\"ticks\":\"\"},\"colorscale\":[[0.0,\"#0d0887\"],[0.1111111111111111,\"#46039f\"],[0.2222222222222222,\"#7201a8\"],[0.3333333333333333,\"#9c179e\"],[0.4444444444444444,\"#bd3786\"],[0.5555555555555556,\"#d8576b\"],[0.6666666666666666,\"#ed7953\"],[0.7777777777777778,\"#fb9f3a\"],[0.8888888888888888,\"#fdca26\"],[1.0,\"#f0f921\"]]}],\"choropleth\":[{\"type\":\"choropleth\",\"colorbar\":{\"outlinewidth\":0,\"ticks\":\"\"}}],\"histogram2d\":[{\"type\":\"histogram2d\",\"colorbar\":{\"outlinewidth\":0,\"ticks\":\"\"},\"colorscale\":[[0.0,\"#0d0887\"],[0.1111111111111111,\"#46039f\"],[0.2222222222222222,\"#7201a8\"],[0.3333333333333333,\"#9c179e\"],[0.4444444444444444,\"#bd3786\"],[0.5555555555555556,\"#d8576b\"],[0.6666666666666666,\"#ed7953\"],[0.7777777777777778,\"#fb9f3a\"],[0.8888888888888888,\"#fdca26\"],[1.0,\"#f0f921\"]]}],\"heatmap\":[{\"type\":\"heatmap\",\"colorbar\":{\"outlinewidth\":0,\"ticks\":\"\"},\"colorscale\":[[0.0,\"#0d0887\"],[0.1111111111111111,\"#46039f\"],[0.2222222222222222,\"#7201a8\"],[0.3333333333333333,\"#9c179e\"],[0.4444444444444444,\"#bd3786\"],[0.5555555555555556,\"#d8576b\"],[0.6666666666666666,\"#ed7953\"],[0.7777777777777778,\"#fb9f3a\"],[0.8888888888888888,\"#fdca26\"],[1.0,\"#f0f921\"]]}],\"heatmapgl\":[{\"type\":\"heatmapgl\",\"colorbar\":{\"outlinewidth\":0,\"ticks\":\"\"},\"colorscale\":[[0.0,\"#0d0887\"],[0.1111111111111111,\"#46039f\"],[0.2222222222222222,\"#7201a8\"],[0.3333333333333333,\"#9c179e\"],[0.4444444444444444,\"#bd3786\"],[0.5555555555555556,\"#d8576b\"],[0.6666666666666666,\"#ed7953\"],[0.7777777777777778,\"#fb9f3a\"],[0.8888888888888888,\"#fdca26\"],[1.0,\"#f0f921\"]]}],\"contourcarpet\":[{\"type\":\"contourcarpet\",\"colorbar\":{\"outlinewidth\":0,\"ticks\":\"\"}}],\"contour\":[{\"type\":\"contour\",\"colorbar\":{\"outlinewidth\":0,\"ticks\":\"\"},\"colorscale\":[[0.0,\"#0d0887\"],[0.1111111111111111,\"#46039f\"],[0.2222222222222222,\"#7201a8\"],[0.3333333333333333,\"#9c179e\"],[0.4444444444444444,\"#bd3786\"],[0.5555555555555556,\"#d8576b\"],[0.6666666666666666,\"#ed7953\"],[0.7777777777777778,\"#fb9f3a\"],[0.8888888888888888,\"#fdca26\"],[1.0,\"#f0f921\"]]}],\"surface\":[{\"type\":\"surface\",\"colorbar\":{\"outlinewidth\":0,\"ticks\":\"\"},\"colorscale\":[[0.0,\"#0d0887\"],[0.1111111111111111,\"#46039f\"],[0.2222222222222222,\"#7201a8\"],[0.3333333333333333,\"#9c179e\"],[0.4444444444444444,\"#bd3786\"],[0.5555555555555556,\"#d8576b\"],[0.6666666666666666,\"#ed7953\"],[0.7777777777777778,\"#fb9f3a\"],[0.8888888888888888,\"#fdca26\"],[1.0,\"#f0f921\"]]}],\"mesh3d\":[{\"type\":\"mesh3d\",\"colorbar\":{\"outlinewidth\":0,\"ticks\":\"\"}}],\"scatter\":[{\"fillpattern\":{\"fillmode\":\"overlay\",\"size\":10,\"solidity\":0.2},\"type\":\"scatter\"}],\"parcoords\":[{\"type\":\"parcoords\",\"line\":{\"colorbar\":{\"outlinewidth\":0,\"ticks\":\"\"}}}],\"scatterpolargl\":[{\"type\":\"scatterpolargl\",\"marker\":{\"colorbar\":{\"outlinewidth\":0,\"ticks\":\"\"}}}],\"bar\":[{\"error_x\":{\"color\":\"#2a3f5f\"},\"error_y\":{\"color\":\"#2a3f5f\"},\"marker\":{\"line\":{\"color\":\"#E5ECF6\",\"width\":0.5},\"pattern\":{\"fillmode\":\"overlay\",\"size\":10,\"solidity\":0.2}},\"type\":\"bar\"}],\"scattergeo\":[{\"type\":\"scattergeo\",\"marker\":{\"colorbar\":{\"outlinewidth\":0,\"ticks\":\"\"}}}],\"scatterpolar\":[{\"type\":\"scatterpolar\",\"marker\":{\"colorbar\":{\"outlinewidth\":0,\"ticks\":\"\"}}}],\"histogram\":[{\"marker\":{\"pattern\":{\"fillmode\":\"overlay\",\"size\":10,\"solidity\":0.2}},\"type\":\"histogram\"}],\"scattergl\":[{\"type\":\"scattergl\",\"marker\":{\"colorbar\":{\"outlinewidth\":0,\"ticks\":\"\"}}}],\"scatter3d\":[{\"type\":\"scatter3d\",\"line\":{\"colorbar\":{\"outlinewidth\":0,\"ticks\":\"\"}},\"marker\":{\"colorbar\":{\"outlinewidth\":0,\"ticks\":\"\"}}}],\"scattermapbox\":[{\"type\":\"scattermapbox\",\"marker\":{\"colorbar\":{\"outlinewidth\":0,\"ticks\":\"\"}}}],\"scatterternary\":[{\"type\":\"scatterternary\",\"marker\":{\"colorbar\":{\"outlinewidth\":0,\"ticks\":\"\"}}}],\"scattercarpet\":[{\"type\":\"scattercarpet\",\"marker\":{\"colorbar\":{\"outlinewidth\":0,\"ticks\":\"\"}}}],\"carpet\":[{\"aaxis\":{\"endlinecolor\":\"#2a3f5f\",\"gridcolor\":\"white\",\"linecolor\":\"white\",\"minorgridcolor\":\"white\",\"startlinecolor\":\"#2a3f5f\"},\"baxis\":{\"endlinecolor\":\"#2a3f5f\",\"gridcolor\":\"white\",\"linecolor\":\"white\",\"minorgridcolor\":\"white\",\"startlinecolor\":\"#2a3f5f\"},\"type\":\"carpet\"}],\"table\":[{\"cells\":{\"fill\":{\"color\":\"#EBF0F8\"},\"line\":{\"color\":\"white\"}},\"header\":{\"fill\":{\"color\":\"#C8D4E3\"},\"line\":{\"color\":\"white\"}},\"type\":\"table\"}],\"barpolar\":[{\"marker\":{\"line\":{\"color\":\"#E5ECF6\",\"width\":0.5},\"pattern\":{\"fillmode\":\"overlay\",\"size\":10,\"solidity\":0.2}},\"type\":\"barpolar\"}],\"pie\":[{\"automargin\":true,\"type\":\"pie\"}]},\"layout\":{\"autotypenumbers\":\"strict\",\"colorway\":[\"#636efa\",\"#EF553B\",\"#00cc96\",\"#ab63fa\",\"#FFA15A\",\"#19d3f3\",\"#FF6692\",\"#B6E880\",\"#FF97FF\",\"#FECB52\"],\"font\":{\"color\":\"#2a3f5f\"},\"hovermode\":\"closest\",\"hoverlabel\":{\"align\":\"left\"},\"paper_bgcolor\":\"white\",\"plot_bgcolor\":\"#E5ECF6\",\"polar\":{\"bgcolor\":\"#E5ECF6\",\"angularaxis\":{\"gridcolor\":\"white\",\"linecolor\":\"white\",\"ticks\":\"\"},\"radialaxis\":{\"gridcolor\":\"white\",\"linecolor\":\"white\",\"ticks\":\"\"}},\"ternary\":{\"bgcolor\":\"#E5ECF6\",\"aaxis\":{\"gridcolor\":\"white\",\"linecolor\":\"white\",\"ticks\":\"\"},\"baxis\":{\"gridcolor\":\"white\",\"linecolor\":\"white\",\"ticks\":\"\"},\"caxis\":{\"gridcolor\":\"white\",\"linecolor\":\"white\",\"ticks\":\"\"}},\"coloraxis\":{\"colorbar\":{\"outlinewidth\":0,\"ticks\":\"\"}},\"colorscale\":{\"sequential\":[[0.0,\"#0d0887\"],[0.1111111111111111,\"#46039f\"],[0.2222222222222222,\"#7201a8\"],[0.3333333333333333,\"#9c179e\"],[0.4444444444444444,\"#bd3786\"],[0.5555555555555556,\"#d8576b\"],[0.6666666666666666,\"#ed7953\"],[0.7777777777777778,\"#fb9f3a\"],[0.8888888888888888,\"#fdca26\"],[1.0,\"#f0f921\"]],\"sequentialminus\":[[0.0,\"#0d0887\"],[0.1111111111111111,\"#46039f\"],[0.2222222222222222,\"#7201a8\"],[0.3333333333333333,\"#9c179e\"],[0.4444444444444444,\"#bd3786\"],[0.5555555555555556,\"#d8576b\"],[0.6666666666666666,\"#ed7953\"],[0.7777777777777778,\"#fb9f3a\"],[0.8888888888888888,\"#fdca26\"],[1.0,\"#f0f921\"]],\"diverging\":[[0,\"#8e0152\"],[0.1,\"#c51b7d\"],[0.2,\"#de77ae\"],[0.3,\"#f1b6da\"],[0.4,\"#fde0ef\"],[0.5,\"#f7f7f7\"],[0.6,\"#e6f5d0\"],[0.7,\"#b8e186\"],[0.8,\"#7fbc41\"],[0.9,\"#4d9221\"],[1,\"#276419\"]]},\"xaxis\":{\"gridcolor\":\"white\",\"linecolor\":\"white\",\"ticks\":\"\",\"title\":{\"standoff\":15},\"zerolinecolor\":\"white\",\"automargin\":true,\"zerolinewidth\":2},\"yaxis\":{\"gridcolor\":\"white\",\"linecolor\":\"white\",\"ticks\":\"\",\"title\":{\"standoff\":15},\"zerolinecolor\":\"white\",\"automargin\":true,\"zerolinewidth\":2},\"scene\":{\"xaxis\":{\"backgroundcolor\":\"#E5ECF6\",\"gridcolor\":\"white\",\"linecolor\":\"white\",\"showbackground\":true,\"ticks\":\"\",\"zerolinecolor\":\"white\",\"gridwidth\":2},\"yaxis\":{\"backgroundcolor\":\"#E5ECF6\",\"gridcolor\":\"white\",\"linecolor\":\"white\",\"showbackground\":true,\"ticks\":\"\",\"zerolinecolor\":\"white\",\"gridwidth\":2},\"zaxis\":{\"backgroundcolor\":\"#E5ECF6\",\"gridcolor\":\"white\",\"linecolor\":\"white\",\"showbackground\":true,\"ticks\":\"\",\"zerolinecolor\":\"white\",\"gridwidth\":2}},\"shapedefaults\":{\"line\":{\"color\":\"#2a3f5f\"}},\"annotationdefaults\":{\"arrowcolor\":\"#2a3f5f\",\"arrowhead\":0,\"arrowwidth\":1},\"geo\":{\"bgcolor\":\"white\",\"landcolor\":\"#E5ECF6\",\"subunitcolor\":\"white\",\"showland\":true,\"showlakes\":true,\"lakecolor\":\"white\"},\"title\":{\"x\":0.05},\"mapbox\":{\"style\":\"light\"}}},\"xaxis\":{\"anchor\":\"y\",\"domain\":[0.0,1.0],\"title\":{\"text\":\"index\"}},\"yaxis\":{\"anchor\":\"x\",\"domain\":[0.0,1.0],\"title\":{\"text\":\"Frequency\"}},\"legend\":{\"tracegroupgap\":0},\"title\":{\"text\":\"Top 10 Most Frequent Tags\"},\"barmode\":\"relative\"},                        {\"responsive\": true}                    ).then(function(){\n",
              "                            \n",
              "var gd = document.getElementById('dc3cf21c-a0df-45dd-8661-7ff1bbef4bea');\n",
              "var x = new MutationObserver(function (mutations, observer) {{\n",
              "        var display = window.getComputedStyle(gd).display;\n",
              "        if (!display || display === 'none') {{\n",
              "            console.log([gd, 'removed!']);\n",
              "            Plotly.purge(gd);\n",
              "            observer.disconnect();\n",
              "        }}\n",
              "}});\n",
              "\n",
              "// Listen for the removal of the full notebook cells\n",
              "var notebookContainer = gd.closest('#notebook-container');\n",
              "if (notebookContainer) {{\n",
              "    x.observe(notebookContainer, {childList: true});\n",
              "}}\n",
              "\n",
              "// Listen for the clearing of the current output cell\n",
              "var outputEl = gd.closest('.output');\n",
              "if (outputEl) {{\n",
              "    x.observe(outputEl, {childList: true});\n",
              "}}\n",
              "\n",
              "                        })                };                            </script>        </div>\n",
              "</body>\n",
              "</html>"
            ]
          },
          "metadata": {}
        }
      ]
    },
    {
      "cell_type": "markdown",
      "source": [
        "### Tokenizing and Standardizing\n",
        "\n",
        "\n",
        "Tokenize and standardizing the sentences. Also filtering the words based on a predefined regex."
      ],
      "metadata": {
        "id": "c7313-sro-3f"
      }
    },
    {
      "cell_type": "code",
      "source": [
        "# the function for extracting and standardizing the sentences\n",
        "def text_extraction(dfi):\n",
        "  # in this function, we concatenate text feature parts of the data as a sentence\n",
        "  sentence = ' '.join([dfi['title'], str(dfi['vendor']), dfi['tags']])\n",
        "  # Remove punctuations\n",
        "  sentence = re.sub('[^a-zA-Z0-9$.]', ' ', sentence)\n",
        "  # Single character removal\n",
        "  sentence = re.sub(r\"\\s+[a-zA-Z]\\s+\", ' ', sentence)\n",
        "  # Removing multiple spaces\n",
        "  sentence = re.sub(r'\\s+', ' ', sentence)\n",
        "  # Changint to lowercase\n",
        "  sentence = sentence.lower()\n",
        "  return sentence\n",
        "\n",
        "# printing 10 sample sentences\n",
        "for i in range(10):\n",
        "  print(text_extraction(df.iloc[i]))"
      ],
      "metadata": {
        "colab": {
          "base_uri": "https://localhost:8080/"
        },
        "id": "aH9UzP7-__P2",
        "outputId": "9cc2fa66-89de-4344-bc2d-2969a1b2c4e9"
      },
      "execution_count": 24,
      "outputs": [
        {
          "output_type": "stream",
          "name": "stdout",
          "text": [
            "fidele super premium adult large breed dog food fidele adult bangalore chennai chicken doberman dog dry foods fidele german shepherd golden retriever great dane highpriority imported labrador less than 1000 less than 2000 less than 500 mastiff orange pet nutrition \n",
            "foldable pet toys linen storage cap point \n",
            "bok dok diaper pets home brand pet arabia category pets home category small pets supplies type pet home type pet supplies \n",
            "tastybone toy chicken tastybone \n",
            "leather leash tab short dog leash mighty paw leash leash tab training \n",
            "pridebites texas guitar dog toy pride bites brand pridebites toy type plush \n",
            "burns sensitive pork potato burns 10 25 25 50 50 75 adult burns coat dog food food delivery jansale18 natural nonsale19 sensitive size 12kg size 2kg size 6kg skin \n",
            "bully sticks dog toy adog.co bully sticks dog chew toys dog toys \n",
            "kazoo tough giraffe dog toy kazoo brand kazoo june2021 kazoo material plush plush \n",
            "orgo dog biscuits fresh milk petku brand orgo category dogs dogs lifestage all lifestages orgo price rp 0 to rp 100.000 subcategory treats treats \n"
          ]
        }
      ]
    },
    {
      "cell_type": "code",
      "source": [
        "# initializing the dataset\n",
        "dataset = pd.DataFrame(columns=['text', 'label'])\n",
        "\n",
        "# list to hold the new rows\n",
        "rows = []\n",
        "\n",
        "for i in range(len(df)):\n",
        "    row = {'text': text_extraction(df.iloc[i]), 'label': df.iloc[i]['category']}\n",
        "    rows.append(row)\n",
        "\n",
        "# concatenate rows to the dataset\n",
        "dataset = pd.concat([dataset, pd.DataFrame(rows)], ignore_index=True)\n",
        "\n",
        "# creating integer labels for multiclass training\n",
        "dataset['label_int'] = pd.Categorical(dataset['label']).codes\n",
        "dataset"
      ],
      "metadata": {
        "colab": {
          "base_uri": "https://localhost:8080/",
          "height": 423
        },
        "id": "7x4WG7NC9Xz3",
        "outputId": "68e439ba-6d6c-4701-ce4b-6da2be88f5ad"
      },
      "execution_count": 27,
      "outputs": [
        {
          "output_type": "execute_result",
          "data": {
            "text/plain": [
              "                                                   text  \\\n",
              "0     fidele super premium adult large breed dog foo...   \n",
              "1            foldable pet toys linen storage cap point    \n",
              "2     bok dok diaper pets home brand pet arabia cate...   \n",
              "3                      tastybone toy chicken tastybone    \n",
              "4     leather leash tab short dog leash mighty paw l...   \n",
              "...                                                 ...   \n",
              "5265  candylab moo milk van candylab 3 years candyla...   \n",
              "5266  truck modern era vehicles red white scale ho w...   \n",
              "5267  car sticker flags decal american flag sticker ...   \n",
              "5268  lazer helmets bayamo pit bull full face open b...   \n",
              "5269  deutz agrotron tractor siku $0 to $25 diecast ...   \n",
              "\n",
              "                       label  label_int  \n",
              "0     Animals & Pet Supplies          0  \n",
              "1     Animals & Pet Supplies          0  \n",
              "2     Animals & Pet Supplies          0  \n",
              "3     Animals & Pet Supplies          0  \n",
              "4     Animals & Pet Supplies          0  \n",
              "...                      ...        ...  \n",
              "5265        Vehicles & Parts         19  \n",
              "5266        Vehicles & Parts         19  \n",
              "5267        Vehicles & Parts         19  \n",
              "5268        Vehicles & Parts         19  \n",
              "5269        Vehicles & Parts         19  \n",
              "\n",
              "[5270 rows x 3 columns]"
            ],
            "text/html": [
              "\n",
              "  <div id=\"df-76ef04a7-7bea-4f9f-a43b-cff10a88416a\" class=\"colab-df-container\">\n",
              "    <div>\n",
              "<style scoped>\n",
              "    .dataframe tbody tr th:only-of-type {\n",
              "        vertical-align: middle;\n",
              "    }\n",
              "\n",
              "    .dataframe tbody tr th {\n",
              "        vertical-align: top;\n",
              "    }\n",
              "\n",
              "    .dataframe thead th {\n",
              "        text-align: right;\n",
              "    }\n",
              "</style>\n",
              "<table border=\"1\" class=\"dataframe\">\n",
              "  <thead>\n",
              "    <tr style=\"text-align: right;\">\n",
              "      <th></th>\n",
              "      <th>text</th>\n",
              "      <th>label</th>\n",
              "      <th>label_int</th>\n",
              "    </tr>\n",
              "  </thead>\n",
              "  <tbody>\n",
              "    <tr>\n",
              "      <th>0</th>\n",
              "      <td>fidele super premium adult large breed dog foo...</td>\n",
              "      <td>Animals &amp; Pet Supplies</td>\n",
              "      <td>0</td>\n",
              "    </tr>\n",
              "    <tr>\n",
              "      <th>1</th>\n",
              "      <td>foldable pet toys linen storage cap point</td>\n",
              "      <td>Animals &amp; Pet Supplies</td>\n",
              "      <td>0</td>\n",
              "    </tr>\n",
              "    <tr>\n",
              "      <th>2</th>\n",
              "      <td>bok dok diaper pets home brand pet arabia cate...</td>\n",
              "      <td>Animals &amp; Pet Supplies</td>\n",
              "      <td>0</td>\n",
              "    </tr>\n",
              "    <tr>\n",
              "      <th>3</th>\n",
              "      <td>tastybone toy chicken tastybone</td>\n",
              "      <td>Animals &amp; Pet Supplies</td>\n",
              "      <td>0</td>\n",
              "    </tr>\n",
              "    <tr>\n",
              "      <th>4</th>\n",
              "      <td>leather leash tab short dog leash mighty paw l...</td>\n",
              "      <td>Animals &amp; Pet Supplies</td>\n",
              "      <td>0</td>\n",
              "    </tr>\n",
              "    <tr>\n",
              "      <th>...</th>\n",
              "      <td>...</td>\n",
              "      <td>...</td>\n",
              "      <td>...</td>\n",
              "    </tr>\n",
              "    <tr>\n",
              "      <th>5265</th>\n",
              "      <td>candylab moo milk van candylab 3 years candyla...</td>\n",
              "      <td>Vehicles &amp; Parts</td>\n",
              "      <td>19</td>\n",
              "    </tr>\n",
              "    <tr>\n",
              "      <th>5266</th>\n",
              "      <td>truck modern era vehicles red white scale ho w...</td>\n",
              "      <td>Vehicles &amp; Parts</td>\n",
              "      <td>19</td>\n",
              "    </tr>\n",
              "    <tr>\n",
              "      <th>5267</th>\n",
              "      <td>car sticker flags decal american flag sticker ...</td>\n",
              "      <td>Vehicles &amp; Parts</td>\n",
              "      <td>19</td>\n",
              "    </tr>\n",
              "    <tr>\n",
              "      <th>5268</th>\n",
              "      <td>lazer helmets bayamo pit bull full face open b...</td>\n",
              "      <td>Vehicles &amp; Parts</td>\n",
              "      <td>19</td>\n",
              "    </tr>\n",
              "    <tr>\n",
              "      <th>5269</th>\n",
              "      <td>deutz agrotron tractor siku $0 to $25 diecast ...</td>\n",
              "      <td>Vehicles &amp; Parts</td>\n",
              "      <td>19</td>\n",
              "    </tr>\n",
              "  </tbody>\n",
              "</table>\n",
              "<p>5270 rows × 3 columns</p>\n",
              "</div>\n",
              "    <div class=\"colab-df-buttons\">\n",
              "\n",
              "  <div class=\"colab-df-container\">\n",
              "    <button class=\"colab-df-convert\" onclick=\"convertToInteractive('df-76ef04a7-7bea-4f9f-a43b-cff10a88416a')\"\n",
              "            title=\"Convert this dataframe to an interactive table.\"\n",
              "            style=\"display:none;\">\n",
              "\n",
              "  <svg xmlns=\"http://www.w3.org/2000/svg\" height=\"24px\" viewBox=\"0 -960 960 960\">\n",
              "    <path d=\"M120-120v-720h720v720H120Zm60-500h600v-160H180v160Zm220 220h160v-160H400v160Zm0 220h160v-160H400v160ZM180-400h160v-160H180v160Zm440 0h160v-160H620v160ZM180-180h160v-160H180v160Zm440 0h160v-160H620v160Z\"/>\n",
              "  </svg>\n",
              "    </button>\n",
              "\n",
              "  <style>\n",
              "    .colab-df-container {\n",
              "      display:flex;\n",
              "      gap: 12px;\n",
              "    }\n",
              "\n",
              "    .colab-df-convert {\n",
              "      background-color: #E8F0FE;\n",
              "      border: none;\n",
              "      border-radius: 50%;\n",
              "      cursor: pointer;\n",
              "      display: none;\n",
              "      fill: #1967D2;\n",
              "      height: 32px;\n",
              "      padding: 0 0 0 0;\n",
              "      width: 32px;\n",
              "    }\n",
              "\n",
              "    .colab-df-convert:hover {\n",
              "      background-color: #E2EBFA;\n",
              "      box-shadow: 0px 1px 2px rgba(60, 64, 67, 0.3), 0px 1px 3px 1px rgba(60, 64, 67, 0.15);\n",
              "      fill: #174EA6;\n",
              "    }\n",
              "\n",
              "    .colab-df-buttons div {\n",
              "      margin-bottom: 4px;\n",
              "    }\n",
              "\n",
              "    [theme=dark] .colab-df-convert {\n",
              "      background-color: #3B4455;\n",
              "      fill: #D2E3FC;\n",
              "    }\n",
              "\n",
              "    [theme=dark] .colab-df-convert:hover {\n",
              "      background-color: #434B5C;\n",
              "      box-shadow: 0px 1px 3px 1px rgba(0, 0, 0, 0.15);\n",
              "      filter: drop-shadow(0px 1px 2px rgba(0, 0, 0, 0.3));\n",
              "      fill: #FFFFFF;\n",
              "    }\n",
              "  </style>\n",
              "\n",
              "    <script>\n",
              "      const buttonEl =\n",
              "        document.querySelector('#df-76ef04a7-7bea-4f9f-a43b-cff10a88416a button.colab-df-convert');\n",
              "      buttonEl.style.display =\n",
              "        google.colab.kernel.accessAllowed ? 'block' : 'none';\n",
              "\n",
              "      async function convertToInteractive(key) {\n",
              "        const element = document.querySelector('#df-76ef04a7-7bea-4f9f-a43b-cff10a88416a');\n",
              "        const dataTable =\n",
              "          await google.colab.kernel.invokeFunction('convertToInteractive',\n",
              "                                                    [key], {});\n",
              "        if (!dataTable) return;\n",
              "\n",
              "        const docLinkHtml = 'Like what you see? Visit the ' +\n",
              "          '<a target=\"_blank\" href=https://colab.research.google.com/notebooks/data_table.ipynb>data table notebook</a>'\n",
              "          + ' to learn more about interactive tables.';\n",
              "        element.innerHTML = '';\n",
              "        dataTable['output_type'] = 'display_data';\n",
              "        await google.colab.output.renderOutput(dataTable, element);\n",
              "        const docLink = document.createElement('div');\n",
              "        docLink.innerHTML = docLinkHtml;\n",
              "        element.appendChild(docLink);\n",
              "      }\n",
              "    </script>\n",
              "  </div>\n",
              "\n",
              "\n",
              "<div id=\"df-73461505-cff5-4a9d-a6c0-13bf61597732\">\n",
              "  <button class=\"colab-df-quickchart\" onclick=\"quickchart('df-73461505-cff5-4a9d-a6c0-13bf61597732')\"\n",
              "            title=\"Suggest charts\"\n",
              "            style=\"display:none;\">\n",
              "\n",
              "<svg xmlns=\"http://www.w3.org/2000/svg\" height=\"24px\"viewBox=\"0 0 24 24\"\n",
              "     width=\"24px\">\n",
              "    <g>\n",
              "        <path d=\"M19 3H5c-1.1 0-2 .9-2 2v14c0 1.1.9 2 2 2h14c1.1 0 2-.9 2-2V5c0-1.1-.9-2-2-2zM9 17H7v-7h2v7zm4 0h-2V7h2v10zm4 0h-2v-4h2v4z\"/>\n",
              "    </g>\n",
              "</svg>\n",
              "  </button>\n",
              "\n",
              "<style>\n",
              "  .colab-df-quickchart {\n",
              "      --bg-color: #E8F0FE;\n",
              "      --fill-color: #1967D2;\n",
              "      --hover-bg-color: #E2EBFA;\n",
              "      --hover-fill-color: #174EA6;\n",
              "      --disabled-fill-color: #AAA;\n",
              "      --disabled-bg-color: #DDD;\n",
              "  }\n",
              "\n",
              "  [theme=dark] .colab-df-quickchart {\n",
              "      --bg-color: #3B4455;\n",
              "      --fill-color: #D2E3FC;\n",
              "      --hover-bg-color: #434B5C;\n",
              "      --hover-fill-color: #FFFFFF;\n",
              "      --disabled-bg-color: #3B4455;\n",
              "      --disabled-fill-color: #666;\n",
              "  }\n",
              "\n",
              "  .colab-df-quickchart {\n",
              "    background-color: var(--bg-color);\n",
              "    border: none;\n",
              "    border-radius: 50%;\n",
              "    cursor: pointer;\n",
              "    display: none;\n",
              "    fill: var(--fill-color);\n",
              "    height: 32px;\n",
              "    padding: 0;\n",
              "    width: 32px;\n",
              "  }\n",
              "\n",
              "  .colab-df-quickchart:hover {\n",
              "    background-color: var(--hover-bg-color);\n",
              "    box-shadow: 0 1px 2px rgba(60, 64, 67, 0.3), 0 1px 3px 1px rgba(60, 64, 67, 0.15);\n",
              "    fill: var(--button-hover-fill-color);\n",
              "  }\n",
              "\n",
              "  .colab-df-quickchart-complete:disabled,\n",
              "  .colab-df-quickchart-complete:disabled:hover {\n",
              "    background-color: var(--disabled-bg-color);\n",
              "    fill: var(--disabled-fill-color);\n",
              "    box-shadow: none;\n",
              "  }\n",
              "\n",
              "  .colab-df-spinner {\n",
              "    border: 2px solid var(--fill-color);\n",
              "    border-color: transparent;\n",
              "    border-bottom-color: var(--fill-color);\n",
              "    animation:\n",
              "      spin 1s steps(1) infinite;\n",
              "  }\n",
              "\n",
              "  @keyframes spin {\n",
              "    0% {\n",
              "      border-color: transparent;\n",
              "      border-bottom-color: var(--fill-color);\n",
              "      border-left-color: var(--fill-color);\n",
              "    }\n",
              "    20% {\n",
              "      border-color: transparent;\n",
              "      border-left-color: var(--fill-color);\n",
              "      border-top-color: var(--fill-color);\n",
              "    }\n",
              "    30% {\n",
              "      border-color: transparent;\n",
              "      border-left-color: var(--fill-color);\n",
              "      border-top-color: var(--fill-color);\n",
              "      border-right-color: var(--fill-color);\n",
              "    }\n",
              "    40% {\n",
              "      border-color: transparent;\n",
              "      border-right-color: var(--fill-color);\n",
              "      border-top-color: var(--fill-color);\n",
              "    }\n",
              "    60% {\n",
              "      border-color: transparent;\n",
              "      border-right-color: var(--fill-color);\n",
              "    }\n",
              "    80% {\n",
              "      border-color: transparent;\n",
              "      border-right-color: var(--fill-color);\n",
              "      border-bottom-color: var(--fill-color);\n",
              "    }\n",
              "    90% {\n",
              "      border-color: transparent;\n",
              "      border-bottom-color: var(--fill-color);\n",
              "    }\n",
              "  }\n",
              "</style>\n",
              "\n",
              "  <script>\n",
              "    async function quickchart(key) {\n",
              "      const quickchartButtonEl =\n",
              "        document.querySelector('#' + key + ' button');\n",
              "      quickchartButtonEl.disabled = true;  // To prevent multiple clicks.\n",
              "      quickchartButtonEl.classList.add('colab-df-spinner');\n",
              "      try {\n",
              "        const charts = await google.colab.kernel.invokeFunction(\n",
              "            'suggestCharts', [key], {});\n",
              "      } catch (error) {\n",
              "        console.error('Error during call to suggestCharts:', error);\n",
              "      }\n",
              "      quickchartButtonEl.classList.remove('colab-df-spinner');\n",
              "      quickchartButtonEl.classList.add('colab-df-quickchart-complete');\n",
              "    }\n",
              "    (() => {\n",
              "      let quickchartButtonEl =\n",
              "        document.querySelector('#df-73461505-cff5-4a9d-a6c0-13bf61597732 button');\n",
              "      quickchartButtonEl.style.display =\n",
              "        google.colab.kernel.accessAllowed ? 'block' : 'none';\n",
              "    })();\n",
              "  </script>\n",
              "</div>\n",
              "\n",
              "  <div id=\"id_212e6901-1b72-483e-837f-b7a21832df54\">\n",
              "    <style>\n",
              "      .colab-df-generate {\n",
              "        background-color: #E8F0FE;\n",
              "        border: none;\n",
              "        border-radius: 50%;\n",
              "        cursor: pointer;\n",
              "        display: none;\n",
              "        fill: #1967D2;\n",
              "        height: 32px;\n",
              "        padding: 0 0 0 0;\n",
              "        width: 32px;\n",
              "      }\n",
              "\n",
              "      .colab-df-generate:hover {\n",
              "        background-color: #E2EBFA;\n",
              "        box-shadow: 0px 1px 2px rgba(60, 64, 67, 0.3), 0px 1px 3px 1px rgba(60, 64, 67, 0.15);\n",
              "        fill: #174EA6;\n",
              "      }\n",
              "\n",
              "      [theme=dark] .colab-df-generate {\n",
              "        background-color: #3B4455;\n",
              "        fill: #D2E3FC;\n",
              "      }\n",
              "\n",
              "      [theme=dark] .colab-df-generate:hover {\n",
              "        background-color: #434B5C;\n",
              "        box-shadow: 0px 1px 3px 1px rgba(0, 0, 0, 0.15);\n",
              "        filter: drop-shadow(0px 1px 2px rgba(0, 0, 0, 0.3));\n",
              "        fill: #FFFFFF;\n",
              "      }\n",
              "    </style>\n",
              "    <button class=\"colab-df-generate\" onclick=\"generateWithVariable('dataset')\"\n",
              "            title=\"Generate code using this dataframe.\"\n",
              "            style=\"display:none;\">\n",
              "\n",
              "  <svg xmlns=\"http://www.w3.org/2000/svg\" height=\"24px\"viewBox=\"0 0 24 24\"\n",
              "       width=\"24px\">\n",
              "    <path d=\"M7,19H8.4L18.45,9,17,7.55,7,17.6ZM5,21V16.75L18.45,3.32a2,2,0,0,1,2.83,0l1.4,1.43a1.91,1.91,0,0,1,.58,1.4,1.91,1.91,0,0,1-.58,1.4L9.25,21ZM18.45,9,17,7.55Zm-12,3A5.31,5.31,0,0,0,4.9,8.1,5.31,5.31,0,0,0,1,6.5,5.31,5.31,0,0,0,4.9,4.9,5.31,5.31,0,0,0,6.5,1,5.31,5.31,0,0,0,8.1,4.9,5.31,5.31,0,0,0,12,6.5,5.46,5.46,0,0,0,6.5,12Z\"/>\n",
              "  </svg>\n",
              "    </button>\n",
              "    <script>\n",
              "      (() => {\n",
              "      const buttonEl =\n",
              "        document.querySelector('#id_212e6901-1b72-483e-837f-b7a21832df54 button.colab-df-generate');\n",
              "      buttonEl.style.display =\n",
              "        google.colab.kernel.accessAllowed ? 'block' : 'none';\n",
              "\n",
              "      buttonEl.onclick = () => {\n",
              "        google.colab.notebook.generateWithVariable('dataset');\n",
              "      }\n",
              "      })();\n",
              "    </script>\n",
              "  </div>\n",
              "\n",
              "    </div>\n",
              "  </div>\n"
            ],
            "application/vnd.google.colaboratory.intrinsic+json": {
              "type": "dataframe",
              "variable_name": "dataset",
              "summary": "{\n  \"name\": \"dataset\",\n  \"rows\": 5270,\n  \"fields\": [\n    {\n      \"column\": \"text\",\n      \"properties\": {\n        \"dtype\": \"string\",\n        \"num_unique_values\": 5270,\n        \"samples\": [\n          \"herschel sulfur spring olive night reflective heritage youth xl backpack herschel back to school backpack herschel ss19 \",\n          \"kazoo tough giraffe dog toy kazoo brand kazoo june2021 kazoo material plush plush \",\n          \"dk twist jaded dreams mad tosh 2020 dk dk twist dk weight dkt extra mad150 yarn \"\n        ],\n        \"semantic_type\": \"\",\n        \"description\": \"\"\n      }\n    },\n    {\n      \"column\": \"label\",\n      \"properties\": {\n        \"dtype\": \"category\",\n        \"num_unique_values\": 20,\n        \"samples\": [\n          \"Animals & Pet Supplies\",\n          \"Sporting Goods\",\n          \"Religious & Ceremonial\"\n        ],\n        \"semantic_type\": \"\",\n        \"description\": \"\"\n      }\n    },\n    {\n      \"column\": \"label_int\",\n      \"properties\": {\n        \"dtype\": \"int8\",\n        \"num_unique_values\": 20,\n        \"samples\": [\n          0,\n          17,\n          15\n        ],\n        \"semantic_type\": \"\",\n        \"description\": \"\"\n      }\n    }\n  ]\n}"
            }
          },
          "metadata": {},
          "execution_count": 27
        }
      ]
    },
    {
      "cell_type": "code",
      "source": [
        "# extracting the names of the labels\n",
        "labels_names = list(Counter(dataset['label']).keys())\n",
        "labels_names"
      ],
      "metadata": {
        "colab": {
          "base_uri": "https://localhost:8080/"
        },
        "id": "9uHdTY3p9Xfr",
        "outputId": "c627770e-fe80-4505-9202-5ffd47c61877"
      },
      "execution_count": 28,
      "outputs": [
        {
          "output_type": "execute_result",
          "data": {
            "text/plain": [
              "['Animals & Pet Supplies',\n",
              " 'Apparel & Accessories',\n",
              " 'Arts & Entertainment',\n",
              " 'Baby & Toddler',\n",
              " 'Business & Industrial',\n",
              " 'Cameras & Optics',\n",
              " 'Electronics',\n",
              " 'Food, Beverages & Tobacco',\n",
              " 'Furniture',\n",
              " 'Hardware',\n",
              " 'Health & Beauty',\n",
              " 'Home & Garden',\n",
              " 'Luggage & Bags',\n",
              " 'Media',\n",
              " 'Office Supplies',\n",
              " 'Religious & Ceremonial',\n",
              " 'Software',\n",
              " 'Sporting Goods',\n",
              " 'Toys & Games',\n",
              " 'Vehicles & Parts']"
            ]
          },
          "metadata": {},
          "execution_count": 28
        }
      ]
    },
    {
      "cell_type": "code",
      "source": [
        "# printing each integer label and its corresponding name label\n",
        "for i, label in enumerate(labels_names):\n",
        "  print(\"Label\", i, \"corresponds to\", label)"
      ],
      "metadata": {
        "colab": {
          "base_uri": "https://localhost:8080/"
        },
        "id": "QXCgd6QTC_k6",
        "outputId": "d49c76a1-2e36-4b82-8ee1-14cc851c4684"
      },
      "execution_count": 29,
      "outputs": [
        {
          "output_type": "stream",
          "name": "stdout",
          "text": [
            "Label 0 corresponds to Animals & Pet Supplies\n",
            "Label 1 corresponds to Apparel & Accessories\n",
            "Label 2 corresponds to Arts & Entertainment\n",
            "Label 3 corresponds to Baby & Toddler\n",
            "Label 4 corresponds to Business & Industrial\n",
            "Label 5 corresponds to Cameras & Optics\n",
            "Label 6 corresponds to Electronics\n",
            "Label 7 corresponds to Food, Beverages & Tobacco\n",
            "Label 8 corresponds to Furniture\n",
            "Label 9 corresponds to Hardware\n",
            "Label 10 corresponds to Health & Beauty\n",
            "Label 11 corresponds to Home & Garden\n",
            "Label 12 corresponds to Luggage & Bags\n",
            "Label 13 corresponds to Media\n",
            "Label 14 corresponds to Office Supplies\n",
            "Label 15 corresponds to Religious & Ceremonial\n",
            "Label 16 corresponds to Software\n",
            "Label 17 corresponds to Sporting Goods\n",
            "Label 18 corresponds to Toys & Games\n",
            "Label 19 corresponds to Vehicles & Parts\n"
          ]
        }
      ]
    },
    {
      "cell_type": "markdown",
      "source": [
        "### Balance the Classes\n",
        "Upsampling:"
      ],
      "metadata": {
        "id": "Wzm_UKxTppTf"
      }
    },
    {
      "cell_type": "code",
      "source": [
        "max_samples = dataset['label'].value_counts().max()\n",
        "max_samples"
      ],
      "metadata": {
        "colab": {
          "base_uri": "https://localhost:8080/"
        },
        "id": "7zL6XEANqMDk",
        "outputId": "d5f178df-4927-4015-f3f7-fe46616efefb"
      },
      "execution_count": 30,
      "outputs": [
        {
          "output_type": "execute_result",
          "data": {
            "text/plain": [
              "1000"
            ]
          },
          "metadata": {},
          "execution_count": 30
        }
      ]
    },
    {
      "cell_type": "code",
      "source": [
        "for class_name, group in dataset.groupby('label'):\n",
        " print(f\"Number of {class_name} samples: {len(group)}\")"
      ],
      "metadata": {
        "colab": {
          "base_uri": "https://localhost:8080/"
        },
        "id": "3tkmCBpzuAIj",
        "outputId": "61de2819-aad6-4065-e179-fcb32f18a3a0"
      },
      "execution_count": 32,
      "outputs": [
        {
          "output_type": "stream",
          "name": "stdout",
          "text": [
            "Number of Animals & Pet Supplies samples: 500\n",
            "Number of Apparel & Accessories samples: 1000\n",
            "Number of Arts & Entertainment samples: 200\n",
            "Number of Baby & Toddler samples: 200\n",
            "Number of Business & Industrial samples: 100\n",
            "Number of Cameras & Optics samples: 50\n",
            "Number of Electronics samples: 100\n",
            "Number of Food, Beverages & Tobacco samples: 400\n",
            "Number of Furniture samples: 200\n",
            "Number of Hardware samples: 50\n",
            "Number of Health & Beauty samples: 400\n",
            "Number of Home & Garden samples: 400\n",
            "Number of Luggage & Bags samples: 400\n",
            "Number of Media samples: 300\n",
            "Number of Office Supplies samples: 100\n",
            "Number of Religious & Ceremonial samples: 20\n",
            "Number of Software samples: 50\n",
            "Number of Sporting Goods samples: 400\n",
            "Number of Toys & Games samples: 300\n",
            "Number of Vehicles & Parts samples: 100\n"
          ]
        }
      ]
    },
    {
      "cell_type": "code",
      "source": [
        "balanced_data_list = []\n",
        "\n",
        "for class_name, group in dataset.groupby('label'):\n",
        "    if len(group) < max_samples:\n",
        "        upsampled_group = resample(group,\n",
        "                                   replace=True,\n",
        "                                   n_samples=max_samples,\n",
        "                                   random_state=42)\n",
        "    else:\n",
        "        upsampled_group = group\n",
        "\n",
        "    balanced_data_list.append(upsampled_group)\n",
        "\n",
        "balanced_data = pd.concat(balanced_data_list)\n",
        "balanced_data"
      ],
      "metadata": {
        "colab": {
          "base_uri": "https://localhost:8080/",
          "height": 423
        },
        "id": "-qs5jiUArHse",
        "outputId": "ba81b942-c48f-468c-8a69-34e775b8fd3b"
      },
      "execution_count": 34,
      "outputs": [
        {
          "output_type": "execute_result",
          "data": {
            "text/plain": [
              "                                                   text  \\\n",
              "102   premium boxer dog reflective harness ploocy bo...   \n",
              "435   midwest icrate fold and carry double door coll...   \n",
              "348   gourmet deli wfish herring rollover brand roll...   \n",
              "270   porkhide knotted bone rollover brand rollover ...   \n",
              "106              jbj protein skimmer jbj regular price    \n",
              "...                                                 ...   \n",
              "5179  extractor shampoo low foam 3d car care carpet ...   \n",
              "5236  motorcycle amber red turn signal light unbrand...   \n",
              "5187  bennett one box indication unit for bolt elect...   \n",
              "5269  deutz agrotron tractor siku $0 to $25 diecast ...   \n",
              "5255               mystery motorcycle gloves fast mask    \n",
              "\n",
              "                       label  label_int  \n",
              "102   Animals & Pet Supplies          0  \n",
              "435   Animals & Pet Supplies          0  \n",
              "348   Animals & Pet Supplies          0  \n",
              "270   Animals & Pet Supplies          0  \n",
              "106   Animals & Pet Supplies          0  \n",
              "...                      ...        ...  \n",
              "5179        Vehicles & Parts         19  \n",
              "5236        Vehicles & Parts         19  \n",
              "5187        Vehicles & Parts         19  \n",
              "5269        Vehicles & Parts         19  \n",
              "5255        Vehicles & Parts         19  \n",
              "\n",
              "[20000 rows x 3 columns]"
            ],
            "text/html": [
              "\n",
              "  <div id=\"df-4718498e-89a6-4ecb-aa37-d5771b36c87e\" class=\"colab-df-container\">\n",
              "    <div>\n",
              "<style scoped>\n",
              "    .dataframe tbody tr th:only-of-type {\n",
              "        vertical-align: middle;\n",
              "    }\n",
              "\n",
              "    .dataframe tbody tr th {\n",
              "        vertical-align: top;\n",
              "    }\n",
              "\n",
              "    .dataframe thead th {\n",
              "        text-align: right;\n",
              "    }\n",
              "</style>\n",
              "<table border=\"1\" class=\"dataframe\">\n",
              "  <thead>\n",
              "    <tr style=\"text-align: right;\">\n",
              "      <th></th>\n",
              "      <th>text</th>\n",
              "      <th>label</th>\n",
              "      <th>label_int</th>\n",
              "    </tr>\n",
              "  </thead>\n",
              "  <tbody>\n",
              "    <tr>\n",
              "      <th>102</th>\n",
              "      <td>premium boxer dog reflective harness ploocy bo...</td>\n",
              "      <td>Animals &amp; Pet Supplies</td>\n",
              "      <td>0</td>\n",
              "    </tr>\n",
              "    <tr>\n",
              "      <th>435</th>\n",
              "      <td>midwest icrate fold and carry double door coll...</td>\n",
              "      <td>Animals &amp; Pet Supplies</td>\n",
              "      <td>0</td>\n",
              "    </tr>\n",
              "    <tr>\n",
              "      <th>348</th>\n",
              "      <td>gourmet deli wfish herring rollover brand roll...</td>\n",
              "      <td>Animals &amp; Pet Supplies</td>\n",
              "      <td>0</td>\n",
              "    </tr>\n",
              "    <tr>\n",
              "      <th>270</th>\n",
              "      <td>porkhide knotted bone rollover brand rollover ...</td>\n",
              "      <td>Animals &amp; Pet Supplies</td>\n",
              "      <td>0</td>\n",
              "    </tr>\n",
              "    <tr>\n",
              "      <th>106</th>\n",
              "      <td>jbj protein skimmer jbj regular price</td>\n",
              "      <td>Animals &amp; Pet Supplies</td>\n",
              "      <td>0</td>\n",
              "    </tr>\n",
              "    <tr>\n",
              "      <th>...</th>\n",
              "      <td>...</td>\n",
              "      <td>...</td>\n",
              "      <td>...</td>\n",
              "    </tr>\n",
              "    <tr>\n",
              "      <th>5179</th>\n",
              "      <td>extractor shampoo low foam 3d car care carpet ...</td>\n",
              "      <td>Vehicles &amp; Parts</td>\n",
              "      <td>19</td>\n",
              "    </tr>\n",
              "    <tr>\n",
              "      <th>5236</th>\n",
              "      <td>motorcycle amber red turn signal light unbrand...</td>\n",
              "      <td>Vehicles &amp; Parts</td>\n",
              "      <td>19</td>\n",
              "    </tr>\n",
              "    <tr>\n",
              "      <th>5187</th>\n",
              "      <td>bennett one box indication unit for bolt elect...</td>\n",
              "      <td>Vehicles &amp; Parts</td>\n",
              "      <td>19</td>\n",
              "    </tr>\n",
              "    <tr>\n",
              "      <th>5269</th>\n",
              "      <td>deutz agrotron tractor siku $0 to $25 diecast ...</td>\n",
              "      <td>Vehicles &amp; Parts</td>\n",
              "      <td>19</td>\n",
              "    </tr>\n",
              "    <tr>\n",
              "      <th>5255</th>\n",
              "      <td>mystery motorcycle gloves fast mask</td>\n",
              "      <td>Vehicles &amp; Parts</td>\n",
              "      <td>19</td>\n",
              "    </tr>\n",
              "  </tbody>\n",
              "</table>\n",
              "<p>20000 rows × 3 columns</p>\n",
              "</div>\n",
              "    <div class=\"colab-df-buttons\">\n",
              "\n",
              "  <div class=\"colab-df-container\">\n",
              "    <button class=\"colab-df-convert\" onclick=\"convertToInteractive('df-4718498e-89a6-4ecb-aa37-d5771b36c87e')\"\n",
              "            title=\"Convert this dataframe to an interactive table.\"\n",
              "            style=\"display:none;\">\n",
              "\n",
              "  <svg xmlns=\"http://www.w3.org/2000/svg\" height=\"24px\" viewBox=\"0 -960 960 960\">\n",
              "    <path d=\"M120-120v-720h720v720H120Zm60-500h600v-160H180v160Zm220 220h160v-160H400v160Zm0 220h160v-160H400v160ZM180-400h160v-160H180v160Zm440 0h160v-160H620v160ZM180-180h160v-160H180v160Zm440 0h160v-160H620v160Z\"/>\n",
              "  </svg>\n",
              "    </button>\n",
              "\n",
              "  <style>\n",
              "    .colab-df-container {\n",
              "      display:flex;\n",
              "      gap: 12px;\n",
              "    }\n",
              "\n",
              "    .colab-df-convert {\n",
              "      background-color: #E8F0FE;\n",
              "      border: none;\n",
              "      border-radius: 50%;\n",
              "      cursor: pointer;\n",
              "      display: none;\n",
              "      fill: #1967D2;\n",
              "      height: 32px;\n",
              "      padding: 0 0 0 0;\n",
              "      width: 32px;\n",
              "    }\n",
              "\n",
              "    .colab-df-convert:hover {\n",
              "      background-color: #E2EBFA;\n",
              "      box-shadow: 0px 1px 2px rgba(60, 64, 67, 0.3), 0px 1px 3px 1px rgba(60, 64, 67, 0.15);\n",
              "      fill: #174EA6;\n",
              "    }\n",
              "\n",
              "    .colab-df-buttons div {\n",
              "      margin-bottom: 4px;\n",
              "    }\n",
              "\n",
              "    [theme=dark] .colab-df-convert {\n",
              "      background-color: #3B4455;\n",
              "      fill: #D2E3FC;\n",
              "    }\n",
              "\n",
              "    [theme=dark] .colab-df-convert:hover {\n",
              "      background-color: #434B5C;\n",
              "      box-shadow: 0px 1px 3px 1px rgba(0, 0, 0, 0.15);\n",
              "      filter: drop-shadow(0px 1px 2px rgba(0, 0, 0, 0.3));\n",
              "      fill: #FFFFFF;\n",
              "    }\n",
              "  </style>\n",
              "\n",
              "    <script>\n",
              "      const buttonEl =\n",
              "        document.querySelector('#df-4718498e-89a6-4ecb-aa37-d5771b36c87e button.colab-df-convert');\n",
              "      buttonEl.style.display =\n",
              "        google.colab.kernel.accessAllowed ? 'block' : 'none';\n",
              "\n",
              "      async function convertToInteractive(key) {\n",
              "        const element = document.querySelector('#df-4718498e-89a6-4ecb-aa37-d5771b36c87e');\n",
              "        const dataTable =\n",
              "          await google.colab.kernel.invokeFunction('convertToInteractive',\n",
              "                                                    [key], {});\n",
              "        if (!dataTable) return;\n",
              "\n",
              "        const docLinkHtml = 'Like what you see? Visit the ' +\n",
              "          '<a target=\"_blank\" href=https://colab.research.google.com/notebooks/data_table.ipynb>data table notebook</a>'\n",
              "          + ' to learn more about interactive tables.';\n",
              "        element.innerHTML = '';\n",
              "        dataTable['output_type'] = 'display_data';\n",
              "        await google.colab.output.renderOutput(dataTable, element);\n",
              "        const docLink = document.createElement('div');\n",
              "        docLink.innerHTML = docLinkHtml;\n",
              "        element.appendChild(docLink);\n",
              "      }\n",
              "    </script>\n",
              "  </div>\n",
              "\n",
              "\n",
              "<div id=\"df-46884624-3e56-4b98-a0d4-c5ad0225ec97\">\n",
              "  <button class=\"colab-df-quickchart\" onclick=\"quickchart('df-46884624-3e56-4b98-a0d4-c5ad0225ec97')\"\n",
              "            title=\"Suggest charts\"\n",
              "            style=\"display:none;\">\n",
              "\n",
              "<svg xmlns=\"http://www.w3.org/2000/svg\" height=\"24px\"viewBox=\"0 0 24 24\"\n",
              "     width=\"24px\">\n",
              "    <g>\n",
              "        <path d=\"M19 3H5c-1.1 0-2 .9-2 2v14c0 1.1.9 2 2 2h14c1.1 0 2-.9 2-2V5c0-1.1-.9-2-2-2zM9 17H7v-7h2v7zm4 0h-2V7h2v10zm4 0h-2v-4h2v4z\"/>\n",
              "    </g>\n",
              "</svg>\n",
              "  </button>\n",
              "\n",
              "<style>\n",
              "  .colab-df-quickchart {\n",
              "      --bg-color: #E8F0FE;\n",
              "      --fill-color: #1967D2;\n",
              "      --hover-bg-color: #E2EBFA;\n",
              "      --hover-fill-color: #174EA6;\n",
              "      --disabled-fill-color: #AAA;\n",
              "      --disabled-bg-color: #DDD;\n",
              "  }\n",
              "\n",
              "  [theme=dark] .colab-df-quickchart {\n",
              "      --bg-color: #3B4455;\n",
              "      --fill-color: #D2E3FC;\n",
              "      --hover-bg-color: #434B5C;\n",
              "      --hover-fill-color: #FFFFFF;\n",
              "      --disabled-bg-color: #3B4455;\n",
              "      --disabled-fill-color: #666;\n",
              "  }\n",
              "\n",
              "  .colab-df-quickchart {\n",
              "    background-color: var(--bg-color);\n",
              "    border: none;\n",
              "    border-radius: 50%;\n",
              "    cursor: pointer;\n",
              "    display: none;\n",
              "    fill: var(--fill-color);\n",
              "    height: 32px;\n",
              "    padding: 0;\n",
              "    width: 32px;\n",
              "  }\n",
              "\n",
              "  .colab-df-quickchart:hover {\n",
              "    background-color: var(--hover-bg-color);\n",
              "    box-shadow: 0 1px 2px rgba(60, 64, 67, 0.3), 0 1px 3px 1px rgba(60, 64, 67, 0.15);\n",
              "    fill: var(--button-hover-fill-color);\n",
              "  }\n",
              "\n",
              "  .colab-df-quickchart-complete:disabled,\n",
              "  .colab-df-quickchart-complete:disabled:hover {\n",
              "    background-color: var(--disabled-bg-color);\n",
              "    fill: var(--disabled-fill-color);\n",
              "    box-shadow: none;\n",
              "  }\n",
              "\n",
              "  .colab-df-spinner {\n",
              "    border: 2px solid var(--fill-color);\n",
              "    border-color: transparent;\n",
              "    border-bottom-color: var(--fill-color);\n",
              "    animation:\n",
              "      spin 1s steps(1) infinite;\n",
              "  }\n",
              "\n",
              "  @keyframes spin {\n",
              "    0% {\n",
              "      border-color: transparent;\n",
              "      border-bottom-color: var(--fill-color);\n",
              "      border-left-color: var(--fill-color);\n",
              "    }\n",
              "    20% {\n",
              "      border-color: transparent;\n",
              "      border-left-color: var(--fill-color);\n",
              "      border-top-color: var(--fill-color);\n",
              "    }\n",
              "    30% {\n",
              "      border-color: transparent;\n",
              "      border-left-color: var(--fill-color);\n",
              "      border-top-color: var(--fill-color);\n",
              "      border-right-color: var(--fill-color);\n",
              "    }\n",
              "    40% {\n",
              "      border-color: transparent;\n",
              "      border-right-color: var(--fill-color);\n",
              "      border-top-color: var(--fill-color);\n",
              "    }\n",
              "    60% {\n",
              "      border-color: transparent;\n",
              "      border-right-color: var(--fill-color);\n",
              "    }\n",
              "    80% {\n",
              "      border-color: transparent;\n",
              "      border-right-color: var(--fill-color);\n",
              "      border-bottom-color: var(--fill-color);\n",
              "    }\n",
              "    90% {\n",
              "      border-color: transparent;\n",
              "      border-bottom-color: var(--fill-color);\n",
              "    }\n",
              "  }\n",
              "</style>\n",
              "\n",
              "  <script>\n",
              "    async function quickchart(key) {\n",
              "      const quickchartButtonEl =\n",
              "        document.querySelector('#' + key + ' button');\n",
              "      quickchartButtonEl.disabled = true;  // To prevent multiple clicks.\n",
              "      quickchartButtonEl.classList.add('colab-df-spinner');\n",
              "      try {\n",
              "        const charts = await google.colab.kernel.invokeFunction(\n",
              "            'suggestCharts', [key], {});\n",
              "      } catch (error) {\n",
              "        console.error('Error during call to suggestCharts:', error);\n",
              "      }\n",
              "      quickchartButtonEl.classList.remove('colab-df-spinner');\n",
              "      quickchartButtonEl.classList.add('colab-df-quickchart-complete');\n",
              "    }\n",
              "    (() => {\n",
              "      let quickchartButtonEl =\n",
              "        document.querySelector('#df-46884624-3e56-4b98-a0d4-c5ad0225ec97 button');\n",
              "      quickchartButtonEl.style.display =\n",
              "        google.colab.kernel.accessAllowed ? 'block' : 'none';\n",
              "    })();\n",
              "  </script>\n",
              "</div>\n",
              "\n",
              "  <div id=\"id_5f3c6e97-1917-4502-8271-a9a60ababeb9\">\n",
              "    <style>\n",
              "      .colab-df-generate {\n",
              "        background-color: #E8F0FE;\n",
              "        border: none;\n",
              "        border-radius: 50%;\n",
              "        cursor: pointer;\n",
              "        display: none;\n",
              "        fill: #1967D2;\n",
              "        height: 32px;\n",
              "        padding: 0 0 0 0;\n",
              "        width: 32px;\n",
              "      }\n",
              "\n",
              "      .colab-df-generate:hover {\n",
              "        background-color: #E2EBFA;\n",
              "        box-shadow: 0px 1px 2px rgba(60, 64, 67, 0.3), 0px 1px 3px 1px rgba(60, 64, 67, 0.15);\n",
              "        fill: #174EA6;\n",
              "      }\n",
              "\n",
              "      [theme=dark] .colab-df-generate {\n",
              "        background-color: #3B4455;\n",
              "        fill: #D2E3FC;\n",
              "      }\n",
              "\n",
              "      [theme=dark] .colab-df-generate:hover {\n",
              "        background-color: #434B5C;\n",
              "        box-shadow: 0px 1px 3px 1px rgba(0, 0, 0, 0.15);\n",
              "        filter: drop-shadow(0px 1px 2px rgba(0, 0, 0, 0.3));\n",
              "        fill: #FFFFFF;\n",
              "      }\n",
              "    </style>\n",
              "    <button class=\"colab-df-generate\" onclick=\"generateWithVariable('balanced_data')\"\n",
              "            title=\"Generate code using this dataframe.\"\n",
              "            style=\"display:none;\">\n",
              "\n",
              "  <svg xmlns=\"http://www.w3.org/2000/svg\" height=\"24px\"viewBox=\"0 0 24 24\"\n",
              "       width=\"24px\">\n",
              "    <path d=\"M7,19H8.4L18.45,9,17,7.55,7,17.6ZM5,21V16.75L18.45,3.32a2,2,0,0,1,2.83,0l1.4,1.43a1.91,1.91,0,0,1,.58,1.4,1.91,1.91,0,0,1-.58,1.4L9.25,21ZM18.45,9,17,7.55Zm-12,3A5.31,5.31,0,0,0,4.9,8.1,5.31,5.31,0,0,0,1,6.5,5.31,5.31,0,0,0,4.9,4.9,5.31,5.31,0,0,0,6.5,1,5.31,5.31,0,0,0,8.1,4.9,5.31,5.31,0,0,0,12,6.5,5.46,5.46,0,0,0,6.5,12Z\"/>\n",
              "  </svg>\n",
              "    </button>\n",
              "    <script>\n",
              "      (() => {\n",
              "      const buttonEl =\n",
              "        document.querySelector('#id_5f3c6e97-1917-4502-8271-a9a60ababeb9 button.colab-df-generate');\n",
              "      buttonEl.style.display =\n",
              "        google.colab.kernel.accessAllowed ? 'block' : 'none';\n",
              "\n",
              "      buttonEl.onclick = () => {\n",
              "        google.colab.notebook.generateWithVariable('balanced_data');\n",
              "      }\n",
              "      })();\n",
              "    </script>\n",
              "  </div>\n",
              "\n",
              "    </div>\n",
              "  </div>\n"
            ],
            "application/vnd.google.colaboratory.intrinsic+json": {
              "type": "dataframe",
              "variable_name": "balanced_data",
              "summary": "{\n  \"name\": \"balanced_data\",\n  \"rows\": 20000,\n  \"fields\": [\n    {\n      \"column\": \"text\",\n      \"properties\": {\n        \"dtype\": \"category\",\n        \"num_unique_values\": 4962,\n        \"samples\": [\n          \"woodpecker magnetic catch the worm cara valley age preschool age toddler dl 4w ffb ob price $0 $20 price $20 $50 store cn \",\n          \"pawesome treat snowflakes pawesome treat christmas christmas2020 dog treats pawesome treat under 10 \",\n          \"lekha earrings amama earrings jadau nihaar \"\n        ],\n        \"semantic_type\": \"\",\n        \"description\": \"\"\n      }\n    },\n    {\n      \"column\": \"label\",\n      \"properties\": {\n        \"dtype\": \"category\",\n        \"num_unique_values\": 20,\n        \"samples\": [\n          \"Animals & Pet Supplies\",\n          \"Sporting Goods\",\n          \"Religious & Ceremonial\"\n        ],\n        \"semantic_type\": \"\",\n        \"description\": \"\"\n      }\n    },\n    {\n      \"column\": \"label_int\",\n      \"properties\": {\n        \"dtype\": \"int8\",\n        \"num_unique_values\": 20,\n        \"samples\": [\n          0,\n          17,\n          15\n        ],\n        \"semantic_type\": \"\",\n        \"description\": \"\"\n      }\n    }\n  ]\n}"
            }
          },
          "metadata": {},
          "execution_count": 34
        }
      ]
    },
    {
      "cell_type": "code",
      "source": [
        "# Group the data by category and count the number of products in each category\n",
        "category_counts = balanced_data['label'].value_counts()\n",
        "\n",
        "# Create a pie chart\n",
        "fig = px.pie(category_counts, values=category_counts.values,\n",
        "             names=category_counts.index, title='Product Distribution by Category')\n",
        "\n",
        "fig.show()"
      ],
      "metadata": {
        "colab": {
          "base_uri": "https://localhost:8080/",
          "height": 542
        },
        "id": "_E4vcm0QugjM",
        "outputId": "f21bdede-740d-4742-c790-9b773cd0487b"
      },
      "execution_count": 35,
      "outputs": [
        {
          "output_type": "display_data",
          "data": {
            "text/html": [
              "<html>\n",
              "<head><meta charset=\"utf-8\" /></head>\n",
              "<body>\n",
              "    <div>            <script src=\"https://cdnjs.cloudflare.com/ajax/libs/mathjax/2.7.5/MathJax.js?config=TeX-AMS-MML_SVG\"></script><script type=\"text/javascript\">if (window.MathJax && window.MathJax.Hub && window.MathJax.Hub.Config) {window.MathJax.Hub.Config({SVG: {font: \"STIX-Web\"}});}</script>                <script type=\"text/javascript\">window.PlotlyConfig = {MathJaxConfig: 'local'};</script>\n",
              "        <script charset=\"utf-8\" src=\"https://cdn.plot.ly/plotly-2.24.1.min.js\"></script>                <div id=\"c1456418-aa1c-41b8-8a3d-a8b126d761a3\" class=\"plotly-graph-div\" style=\"height:525px; width:100%;\"></div>            <script type=\"text/javascript\">                                    window.PLOTLYENV=window.PLOTLYENV || {};                                    if (document.getElementById(\"c1456418-aa1c-41b8-8a3d-a8b126d761a3\")) {                    Plotly.newPlot(                        \"c1456418-aa1c-41b8-8a3d-a8b126d761a3\",                        [{\"domain\":{\"x\":[0.0,1.0],\"y\":[0.0,1.0]},\"hovertemplate\":\"label=%{label}\\u003cbr\\u003evalue=%{value}\\u003cextra\\u003e\\u003c\\u002fextra\\u003e\",\"labels\":[\"Animals & Pet Supplies\",\"Apparel & Accessories\",\"Toys & Games\",\"Sporting Goods\",\"Software\",\"Religious & Ceremonial\",\"Office Supplies\",\"Media\",\"Luggage & Bags\",\"Home & Garden\",\"Health & Beauty\",\"Hardware\",\"Furniture\",\"Food, Beverages & Tobacco\",\"Electronics\",\"Cameras & Optics\",\"Business & Industrial\",\"Baby & Toddler\",\"Arts & Entertainment\",\"Vehicles & Parts\"],\"legendgroup\":\"\",\"name\":\"\",\"showlegend\":true,\"values\":[1000,1000,1000,1000,1000,1000,1000,1000,1000,1000,1000,1000,1000,1000,1000,1000,1000,1000,1000,1000],\"type\":\"pie\"}],                        {\"template\":{\"data\":{\"histogram2dcontour\":[{\"type\":\"histogram2dcontour\",\"colorbar\":{\"outlinewidth\":0,\"ticks\":\"\"},\"colorscale\":[[0.0,\"#0d0887\"],[0.1111111111111111,\"#46039f\"],[0.2222222222222222,\"#7201a8\"],[0.3333333333333333,\"#9c179e\"],[0.4444444444444444,\"#bd3786\"],[0.5555555555555556,\"#d8576b\"],[0.6666666666666666,\"#ed7953\"],[0.7777777777777778,\"#fb9f3a\"],[0.8888888888888888,\"#fdca26\"],[1.0,\"#f0f921\"]]}],\"choropleth\":[{\"type\":\"choropleth\",\"colorbar\":{\"outlinewidth\":0,\"ticks\":\"\"}}],\"histogram2d\":[{\"type\":\"histogram2d\",\"colorbar\":{\"outlinewidth\":0,\"ticks\":\"\"},\"colorscale\":[[0.0,\"#0d0887\"],[0.1111111111111111,\"#46039f\"],[0.2222222222222222,\"#7201a8\"],[0.3333333333333333,\"#9c179e\"],[0.4444444444444444,\"#bd3786\"],[0.5555555555555556,\"#d8576b\"],[0.6666666666666666,\"#ed7953\"],[0.7777777777777778,\"#fb9f3a\"],[0.8888888888888888,\"#fdca26\"],[1.0,\"#f0f921\"]]}],\"heatmap\":[{\"type\":\"heatmap\",\"colorbar\":{\"outlinewidth\":0,\"ticks\":\"\"},\"colorscale\":[[0.0,\"#0d0887\"],[0.1111111111111111,\"#46039f\"],[0.2222222222222222,\"#7201a8\"],[0.3333333333333333,\"#9c179e\"],[0.4444444444444444,\"#bd3786\"],[0.5555555555555556,\"#d8576b\"],[0.6666666666666666,\"#ed7953\"],[0.7777777777777778,\"#fb9f3a\"],[0.8888888888888888,\"#fdca26\"],[1.0,\"#f0f921\"]]}],\"heatmapgl\":[{\"type\":\"heatmapgl\",\"colorbar\":{\"outlinewidth\":0,\"ticks\":\"\"},\"colorscale\":[[0.0,\"#0d0887\"],[0.1111111111111111,\"#46039f\"],[0.2222222222222222,\"#7201a8\"],[0.3333333333333333,\"#9c179e\"],[0.4444444444444444,\"#bd3786\"],[0.5555555555555556,\"#d8576b\"],[0.6666666666666666,\"#ed7953\"],[0.7777777777777778,\"#fb9f3a\"],[0.8888888888888888,\"#fdca26\"],[1.0,\"#f0f921\"]]}],\"contourcarpet\":[{\"type\":\"contourcarpet\",\"colorbar\":{\"outlinewidth\":0,\"ticks\":\"\"}}],\"contour\":[{\"type\":\"contour\",\"colorbar\":{\"outlinewidth\":0,\"ticks\":\"\"},\"colorscale\":[[0.0,\"#0d0887\"],[0.1111111111111111,\"#46039f\"],[0.2222222222222222,\"#7201a8\"],[0.3333333333333333,\"#9c179e\"],[0.4444444444444444,\"#bd3786\"],[0.5555555555555556,\"#d8576b\"],[0.6666666666666666,\"#ed7953\"],[0.7777777777777778,\"#fb9f3a\"],[0.8888888888888888,\"#fdca26\"],[1.0,\"#f0f921\"]]}],\"surface\":[{\"type\":\"surface\",\"colorbar\":{\"outlinewidth\":0,\"ticks\":\"\"},\"colorscale\":[[0.0,\"#0d0887\"],[0.1111111111111111,\"#46039f\"],[0.2222222222222222,\"#7201a8\"],[0.3333333333333333,\"#9c179e\"],[0.4444444444444444,\"#bd3786\"],[0.5555555555555556,\"#d8576b\"],[0.6666666666666666,\"#ed7953\"],[0.7777777777777778,\"#fb9f3a\"],[0.8888888888888888,\"#fdca26\"],[1.0,\"#f0f921\"]]}],\"mesh3d\":[{\"type\":\"mesh3d\",\"colorbar\":{\"outlinewidth\":0,\"ticks\":\"\"}}],\"scatter\":[{\"fillpattern\":{\"fillmode\":\"overlay\",\"size\":10,\"solidity\":0.2},\"type\":\"scatter\"}],\"parcoords\":[{\"type\":\"parcoords\",\"line\":{\"colorbar\":{\"outlinewidth\":0,\"ticks\":\"\"}}}],\"scatterpolargl\":[{\"type\":\"scatterpolargl\",\"marker\":{\"colorbar\":{\"outlinewidth\":0,\"ticks\":\"\"}}}],\"bar\":[{\"error_x\":{\"color\":\"#2a3f5f\"},\"error_y\":{\"color\":\"#2a3f5f\"},\"marker\":{\"line\":{\"color\":\"#E5ECF6\",\"width\":0.5},\"pattern\":{\"fillmode\":\"overlay\",\"size\":10,\"solidity\":0.2}},\"type\":\"bar\"}],\"scattergeo\":[{\"type\":\"scattergeo\",\"marker\":{\"colorbar\":{\"outlinewidth\":0,\"ticks\":\"\"}}}],\"scatterpolar\":[{\"type\":\"scatterpolar\",\"marker\":{\"colorbar\":{\"outlinewidth\":0,\"ticks\":\"\"}}}],\"histogram\":[{\"marker\":{\"pattern\":{\"fillmode\":\"overlay\",\"size\":10,\"solidity\":0.2}},\"type\":\"histogram\"}],\"scattergl\":[{\"type\":\"scattergl\",\"marker\":{\"colorbar\":{\"outlinewidth\":0,\"ticks\":\"\"}}}],\"scatter3d\":[{\"type\":\"scatter3d\",\"line\":{\"colorbar\":{\"outlinewidth\":0,\"ticks\":\"\"}},\"marker\":{\"colorbar\":{\"outlinewidth\":0,\"ticks\":\"\"}}}],\"scattermapbox\":[{\"type\":\"scattermapbox\",\"marker\":{\"colorbar\":{\"outlinewidth\":0,\"ticks\":\"\"}}}],\"scatterternary\":[{\"type\":\"scatterternary\",\"marker\":{\"colorbar\":{\"outlinewidth\":0,\"ticks\":\"\"}}}],\"scattercarpet\":[{\"type\":\"scattercarpet\",\"marker\":{\"colorbar\":{\"outlinewidth\":0,\"ticks\":\"\"}}}],\"carpet\":[{\"aaxis\":{\"endlinecolor\":\"#2a3f5f\",\"gridcolor\":\"white\",\"linecolor\":\"white\",\"minorgridcolor\":\"white\",\"startlinecolor\":\"#2a3f5f\"},\"baxis\":{\"endlinecolor\":\"#2a3f5f\",\"gridcolor\":\"white\",\"linecolor\":\"white\",\"minorgridcolor\":\"white\",\"startlinecolor\":\"#2a3f5f\"},\"type\":\"carpet\"}],\"table\":[{\"cells\":{\"fill\":{\"color\":\"#EBF0F8\"},\"line\":{\"color\":\"white\"}},\"header\":{\"fill\":{\"color\":\"#C8D4E3\"},\"line\":{\"color\":\"white\"}},\"type\":\"table\"}],\"barpolar\":[{\"marker\":{\"line\":{\"color\":\"#E5ECF6\",\"width\":0.5},\"pattern\":{\"fillmode\":\"overlay\",\"size\":10,\"solidity\":0.2}},\"type\":\"barpolar\"}],\"pie\":[{\"automargin\":true,\"type\":\"pie\"}]},\"layout\":{\"autotypenumbers\":\"strict\",\"colorway\":[\"#636efa\",\"#EF553B\",\"#00cc96\",\"#ab63fa\",\"#FFA15A\",\"#19d3f3\",\"#FF6692\",\"#B6E880\",\"#FF97FF\",\"#FECB52\"],\"font\":{\"color\":\"#2a3f5f\"},\"hovermode\":\"closest\",\"hoverlabel\":{\"align\":\"left\"},\"paper_bgcolor\":\"white\",\"plot_bgcolor\":\"#E5ECF6\",\"polar\":{\"bgcolor\":\"#E5ECF6\",\"angularaxis\":{\"gridcolor\":\"white\",\"linecolor\":\"white\",\"ticks\":\"\"},\"radialaxis\":{\"gridcolor\":\"white\",\"linecolor\":\"white\",\"ticks\":\"\"}},\"ternary\":{\"bgcolor\":\"#E5ECF6\",\"aaxis\":{\"gridcolor\":\"white\",\"linecolor\":\"white\",\"ticks\":\"\"},\"baxis\":{\"gridcolor\":\"white\",\"linecolor\":\"white\",\"ticks\":\"\"},\"caxis\":{\"gridcolor\":\"white\",\"linecolor\":\"white\",\"ticks\":\"\"}},\"coloraxis\":{\"colorbar\":{\"outlinewidth\":0,\"ticks\":\"\"}},\"colorscale\":{\"sequential\":[[0.0,\"#0d0887\"],[0.1111111111111111,\"#46039f\"],[0.2222222222222222,\"#7201a8\"],[0.3333333333333333,\"#9c179e\"],[0.4444444444444444,\"#bd3786\"],[0.5555555555555556,\"#d8576b\"],[0.6666666666666666,\"#ed7953\"],[0.7777777777777778,\"#fb9f3a\"],[0.8888888888888888,\"#fdca26\"],[1.0,\"#f0f921\"]],\"sequentialminus\":[[0.0,\"#0d0887\"],[0.1111111111111111,\"#46039f\"],[0.2222222222222222,\"#7201a8\"],[0.3333333333333333,\"#9c179e\"],[0.4444444444444444,\"#bd3786\"],[0.5555555555555556,\"#d8576b\"],[0.6666666666666666,\"#ed7953\"],[0.7777777777777778,\"#fb9f3a\"],[0.8888888888888888,\"#fdca26\"],[1.0,\"#f0f921\"]],\"diverging\":[[0,\"#8e0152\"],[0.1,\"#c51b7d\"],[0.2,\"#de77ae\"],[0.3,\"#f1b6da\"],[0.4,\"#fde0ef\"],[0.5,\"#f7f7f7\"],[0.6,\"#e6f5d0\"],[0.7,\"#b8e186\"],[0.8,\"#7fbc41\"],[0.9,\"#4d9221\"],[1,\"#276419\"]]},\"xaxis\":{\"gridcolor\":\"white\",\"linecolor\":\"white\",\"ticks\":\"\",\"title\":{\"standoff\":15},\"zerolinecolor\":\"white\",\"automargin\":true,\"zerolinewidth\":2},\"yaxis\":{\"gridcolor\":\"white\",\"linecolor\":\"white\",\"ticks\":\"\",\"title\":{\"standoff\":15},\"zerolinecolor\":\"white\",\"automargin\":true,\"zerolinewidth\":2},\"scene\":{\"xaxis\":{\"backgroundcolor\":\"#E5ECF6\",\"gridcolor\":\"white\",\"linecolor\":\"white\",\"showbackground\":true,\"ticks\":\"\",\"zerolinecolor\":\"white\",\"gridwidth\":2},\"yaxis\":{\"backgroundcolor\":\"#E5ECF6\",\"gridcolor\":\"white\",\"linecolor\":\"white\",\"showbackground\":true,\"ticks\":\"\",\"zerolinecolor\":\"white\",\"gridwidth\":2},\"zaxis\":{\"backgroundcolor\":\"#E5ECF6\",\"gridcolor\":\"white\",\"linecolor\":\"white\",\"showbackground\":true,\"ticks\":\"\",\"zerolinecolor\":\"white\",\"gridwidth\":2}},\"shapedefaults\":{\"line\":{\"color\":\"#2a3f5f\"}},\"annotationdefaults\":{\"arrowcolor\":\"#2a3f5f\",\"arrowhead\":0,\"arrowwidth\":1},\"geo\":{\"bgcolor\":\"white\",\"landcolor\":\"#E5ECF6\",\"subunitcolor\":\"white\",\"showland\":true,\"showlakes\":true,\"lakecolor\":\"white\"},\"title\":{\"x\":0.05},\"mapbox\":{\"style\":\"light\"}}},\"legend\":{\"tracegroupgap\":0},\"title\":{\"text\":\"Product Distribution by Category\"}},                        {\"responsive\": true}                    ).then(function(){\n",
              "                            \n",
              "var gd = document.getElementById('c1456418-aa1c-41b8-8a3d-a8b126d761a3');\n",
              "var x = new MutationObserver(function (mutations, observer) {{\n",
              "        var display = window.getComputedStyle(gd).display;\n",
              "        if (!display || display === 'none') {{\n",
              "            console.log([gd, 'removed!']);\n",
              "            Plotly.purge(gd);\n",
              "            observer.disconnect();\n",
              "        }}\n",
              "}});\n",
              "\n",
              "// Listen for the removal of the full notebook cells\n",
              "var notebookContainer = gd.closest('#notebook-container');\n",
              "if (notebookContainer) {{\n",
              "    x.observe(notebookContainer, {childList: true});\n",
              "}}\n",
              "\n",
              "// Listen for the clearing of the current output cell\n",
              "var outputEl = gd.closest('.output');\n",
              "if (outputEl) {{\n",
              "    x.observe(outputEl, {childList: true});\n",
              "}}\n",
              "\n",
              "                        })                };                            </script>        </div>\n",
              "</body>\n",
              "</html>"
            ]
          },
          "metadata": {}
        }
      ]
    },
    {
      "cell_type": "markdown",
      "source": [
        "### Data sampling\n",
        "After standardizing the dataset, It's time to **split** the dataset into train dataset and test datasets. The selected ratio of data is 80% of the dataset for training and 20% of the dataset is for testing and validation. 50% of the testing dataset is for validation and the rest is for testing our model."
      ],
      "metadata": {
        "id": "41abAweNu9AS"
      }
    },
    {
      "cell_type": "code",
      "source": [
        "# splitting dataset to train, validation, and test dataframes\n",
        "train_df, test_df= train_test_split(balanced_data, test_size=0.2, random_state=42)\n",
        "val_df = test_df.sample(frac=0.5)\n",
        "test_df.drop(val_df.index, inplace=True)\n",
        "\n",
        "print(f\"Number of samples in training set: {len(train_df)}\")\n",
        "print(f\"Number of samples in validation set: {len(val_df)}\")\n",
        "print(f\"Number of samples in test set: {len(test_df)}\")\n",
        "\n",
        "# extracting texts and labels from dataframes\n",
        "train_texts = train_df['text']\n",
        "train_labels = train_df['label_int']\n",
        "val_texts = val_df['text']\n",
        "val_labels = val_df['label_int']\n",
        "test_texts = test_df['text']\n",
        "test_labels = test_df['label_int']"
      ],
      "metadata": {
        "colab": {
          "base_uri": "https://localhost:8080/"
        },
        "id": "bWd2Rfp69X8g",
        "outputId": "a3961c36-69ad-4b3f-b776-cfd2e3d8c0b9"
      },
      "execution_count": 38,
      "outputs": [
        {
          "output_type": "stream",
          "name": "stdout",
          "text": [
            "Number of samples in training set: 16000\n",
            "Number of samples in validation set: 2000\n",
            "Number of samples in test set: 1073\n"
          ]
        }
      ]
    },
    {
      "cell_type": "code",
      "source": [
        "# creating data generators with batch size 32\n",
        "batch_size = 32\n",
        "raw_train_batch = tf.data.Dataset.from_tensor_slices((train_texts, train_labels)).batch(batch_size)\n",
        "raw_val_batch = tf.data.Dataset.from_tensor_slices((val_texts, val_labels)).batch(batch_size)\n",
        "raw_test_batch = tf.data.Dataset.from_tensor_slices((test_texts, test_labels)).batch(batch_size)\n",
        "\n",
        "# printing texts and labels of a batch of raw train\n",
        "for text, label in raw_train_batch.take(1):\n",
        "  print('Texts: {}'.format(text))\n",
        "  print('labels: {}'.format(label))"
      ],
      "metadata": {
        "colab": {
          "base_uri": "https://localhost:8080/"
        },
        "id": "C4kA4X60zkC3",
        "outputId": "e58b87c8-9260-4785-9758-8a602ba48a2d"
      },
      "execution_count": 39,
      "outputs": [
        {
          "output_type": "stream",
          "name": "stdout",
          "text": [
            "Texts: [b'blackrapid curve breathe black rapid brand black rapid straps slings style camera straps '\n",
            " b'bubba bear cot sheet baby jalebi bedding bedding cot sheets bubba bear condition new '\n",
            " b'stein world brendan table stein world assembled birch birchwood black cream elk inv elkgroupinternational legs living room furniture sale mdf round rustic stein world stein world accent tables '\n",
            " b'quadrello di bufala cheese cut wrapped by igourmet category cheese cut cheeses milk type buffalo nutrition full set origin italy shipping perishable texture semi soft type stinky and washed rind wholesale cheese collection '\n",
            " b'frida kahlo standing next to an agave plant toni frissell 2019 agave black white black and white botanicals burrow desert fashion frida frida kahlo frissell kahlo large medium mexico pd artist photography plant plants small toni toni frissell vintage vintage edition vintage editions vogue '\n",
            " b'distaut orszaghaz peter zeglis city green landscape photography print water '\n",
            " b'forever cute top strangers lovers top '\n",
            " b'goldendoodle bluetooth speaker teelaunch rr track bluetooth speaker rr track bluetoothspeaker rr track deanrusso rr track dog rr track dogs rr track golden doodle rr track goldendoodle rr track retail rr track speaker sidebar golden doodle sidebar goldendoodle teelaunch '\n",
            " b'daniel maidman enhanced life drawing daniel maidman art daniel maidman drawing figure new releases nude portrait '\n",
            " b'beakers printed graduations pp united scientific beakers laboratory supplies '\n",
            " b'romantic tarot deck themagickalearth clairvoyance divination psychic gifts tarot '\n",
            " b'prairie chicken kettle craft brand kettle craft flavor chicken made in canada pet cats price $0.00 $9.99 type soft '\n",
            " b'cat mystery treat toy box dofos pet centre treats '\n",
            " b'collagen sheet mask the latest scoop 060821 beauty finalsale health beauty md2021 vdayown '\n",
            " b'where chef eat guide to chef favorite restaurants phaidon press books '\n",
            " b'aloe vera banded shampoo conditioner faith in nature 400ml 99 natural aloe vera biodegradable bundle conditioner cruelty free dry hair free gift made in uk normal hair recyclable recycled shampoo vegan '\n",
            " b'broadcast production waves countdown software '\n",
            " b'crystal dog collar miu miu bedding home idit miu miu ss22 pet supplies '\n",
            " b'inside corner pipe holder american muscle docks fabrication hardware '\n",
            " b'hand held back massager closeoutservices case pack personal care '\n",
            " b'forcedark non cellular trail camera spypoint brand spypoint '\n",
            " b'car sound control led lights voice activated music rhythm ambient light seametal 32 led 18 colors car decorative lamp car ambient light car home rhythm decorative lamp car rgb led interior light car sound control led lights voice activated music rhythm ambient light '\n",
            " b'schnauzer notepad give fluff theme terrier type notepads '\n",
            " b'jocelyn co. parmesan artichoke dip mix vinovore $0 $15 cheese cheese snacks chips crackers '\n",
            " b'bnc barrel connector electromann sa camera '\n",
            " b'classic wreath little notes e. frances '\n",
            " b'flamme rouge meteo ozzie collectables board games lpg lpg board games lpg board games board game families lpg board games board game families flamme rouge lpg board games board game genres lpg board games board game genres multiplayer lpg board games board game genres racing lpg board games board game genres sports lpg board games multiplayer lpg board games publishers lpg board games publishers publishers t lpg board games publishers publishers t stronghold games lpg board games racing lpg board games sports lpg new arrivals lpg new arrivals arrivals archive lpg new arrivals arrivals archive arrived week of 12 10 2020 lpg new arrivals arrivals archive arrived week of 31 08 2020 lpg new arrivals arrived week of 12 10 2020 lpg publishers lpg publishers publishers t lpg publishers publishers t stronghold games multiplayer new arrivals racing spo default spo disabled sports '\n",
            " b'race tracks for boys car adventure toys ealingkids 2 to 4 year olds 3 6 years 4 to 6 year olds blocks play cars trucks city construction diy physical activity for boys for girls gifts for boys gifts for girls kids gifts for the builder magnetic tiles summer deals table games toys yaoyanxia '\n",
            " b'binalong bushman coffee binalong coffee store '\n",
            " b'comrad packable lightweight backpack roadrunnerbags backpack bike packing bag '\n",
            " b'temptations salmon flavour cat treats temptations baked biscuit brand temptations cat treats cats flavour salmon june2021 pet type cats salmon temptations treat type baked treat type biscuit under 25 '\n",
            " b'sesame street family bingo sesame street 1 business day age 8 years family games games gender boys gender girls kids toys sesame street shop by age 8 to 12 years shop by age over 12 years travel games vendor sesame street ']\n",
            "labels: [ 5  3  8  7  5  5  1  6  6  4 15  0  0 10 13 10 16  0  9 10  5 19 14  7\n",
            " 11 14 18 19  7 12  0 18]\n"
          ]
        }
      ]
    },
    {
      "cell_type": "code",
      "source": [
        "# counting how many words are there in the whole texts of the dataset\n",
        "num_of_words = 0\n",
        "for i in dataset['text']: num_of_words += len(i.split())\n",
        "\n",
        "print(num_of_words)"
      ],
      "metadata": {
        "colab": {
          "base_uri": "https://localhost:8080/"
        },
        "id": "P2QpUriFrsU_",
        "outputId": "16e3a430-fe26-4998-ce13-56c958dab3ff"
      },
      "execution_count": 41,
      "outputs": [
        {
          "output_type": "stream",
          "name": "stdout",
          "text": [
            "112572\n"
          ]
        }
      ]
    },
    {
      "cell_type": "markdown",
      "source": [
        "There are about 112000 words in the texts.\n",
        "\n"
      ],
      "metadata": {
        "id": "wfw3CqfZsWyT"
      }
    },
    {
      "cell_type": "code",
      "source": [
        "# counting max sequence length and how many non-repetitive words are there in the whole texts of the dataset\n",
        "l = []\n",
        "max_seq_lenght = 0\n",
        "for i in dataset['text']:\n",
        "  lenght = len(i.split())\n",
        "  if lenght > max_seq_lenght: max_seq_lenght = lenght\n",
        "  for j in i.split():\n",
        "    if j not in l: l.append(j)\n",
        "\n",
        "print(max_seq_lenght)\n",
        "print(len(l))"
      ],
      "metadata": {
        "colab": {
          "base_uri": "https://localhost:8080/"
        },
        "id": "2ufQzaF9ncqZ",
        "outputId": "3b6964aa-098f-4f61-8b38-b930add8315d"
      },
      "execution_count": 42,
      "outputs": [
        {
          "output_type": "stream",
          "name": "stdout",
          "text": [
            "309\n",
            "18933\n"
          ]
        }
      ]
    },
    {
      "cell_type": "markdown",
      "source": [
        "Maximum sequence length is 309 and There are about 19000 non-repetitive words in the whole dataset texts. So we set max word features to 10000 and sequence length to 350."
      ],
      "metadata": {
        "id": "cGGf8rQorkSR"
      }
    },
    {
      "cell_type": "code",
      "source": [
        "# setting the text vectorization layer with 19000 words and 320 sequence length\n",
        "max_features = 19000     # 10_000 changed to 19_000\n",
        "sequence_length = 320    # 350 changed to 320\n",
        "\n",
        "vectorize_layer = layers.TextVectorization(\n",
        "    max_tokens=max_features,\n",
        "    output_mode='int',\n",
        "    output_sequence_length=sequence_length)\n",
        "\n",
        "# fitting the state of the preprocessing layer to the train set. This will cause the model to build an index of strings to integers.\n",
        "vectorize_layer.adapt(train_texts)\n",
        "\n",
        "# defining the vectorize text function\n",
        "def vectorize_text(text, label):\n",
        "  text = tf.expand_dims(text, -1)\n",
        "  return vectorize_layer(text), label\n",
        "\n",
        "# retrieving a sample from a batch of texts and labels from the train set\n",
        "text_batch, label_batch = next(iter(raw_train_batch))\n",
        "first_review, first_label = text_batch[0], label_batch[0]\n",
        "print(\"Review\", first_review)\n",
        "print(\"Label\", first_label)\n",
        "print(\"Vectorized text\", vectorize_text(first_review, first_label))"
      ],
      "metadata": {
        "colab": {
          "base_uri": "https://localhost:8080/"
        },
        "id": "Ey2QJjO97T9P",
        "outputId": "4a242e9a-d422-4529-b125-97f6a7470978"
      },
      "execution_count": 43,
      "outputs": [
        {
          "output_type": "stream",
          "name": "stdout",
          "text": [
            "Review tf.Tensor(b'blackrapid curve breathe black rapid brand black rapid straps slings style camera straps ', shape=(), dtype=string)\n",
            "Label tf.Tensor(5, shape=(), dtype=int8)\n",
            "Vectorized text (<tf.Tensor: shape=(1, 320), dtype=int64, numpy=\n",
            "array([[4596, 3244, 4590,   12, 2353,   20,   12, 2353, 1124, 4341,   63,\n",
            "         216, 1124,    0,    0,    0,    0,    0,    0,    0,    0,    0,\n",
            "           0,    0,    0,    0,    0,    0,    0,    0,    0,    0,    0,\n",
            "           0,    0,    0,    0,    0,    0,    0,    0,    0,    0,    0,\n",
            "           0,    0,    0,    0,    0,    0,    0,    0,    0,    0,    0,\n",
            "           0,    0,    0,    0,    0,    0,    0,    0,    0,    0,    0,\n",
            "           0,    0,    0,    0,    0,    0,    0,    0,    0,    0,    0,\n",
            "           0,    0,    0,    0,    0,    0,    0,    0,    0,    0,    0,\n",
            "           0,    0,    0,    0,    0,    0,    0,    0,    0,    0,    0,\n",
            "           0,    0,    0,    0,    0,    0,    0,    0,    0,    0,    0,\n",
            "           0,    0,    0,    0,    0,    0,    0,    0,    0,    0,    0,\n",
            "           0,    0,    0,    0,    0,    0,    0,    0,    0,    0,    0,\n",
            "           0,    0,    0,    0,    0,    0,    0,    0,    0,    0,    0,\n",
            "           0,    0,    0,    0,    0,    0,    0,    0,    0,    0,    0,\n",
            "           0,    0,    0,    0,    0,    0,    0,    0,    0,    0,    0,\n",
            "           0,    0,    0,    0,    0,    0,    0,    0,    0,    0,    0,\n",
            "           0,    0,    0,    0,    0,    0,    0,    0,    0,    0,    0,\n",
            "           0,    0,    0,    0,    0,    0,    0,    0,    0,    0,    0,\n",
            "           0,    0,    0,    0,    0,    0,    0,    0,    0,    0,    0,\n",
            "           0,    0,    0,    0,    0,    0,    0,    0,    0,    0,    0,\n",
            "           0,    0,    0,    0,    0,    0,    0,    0,    0,    0,    0,\n",
            "           0,    0,    0,    0,    0,    0,    0,    0,    0,    0,    0,\n",
            "           0,    0,    0,    0,    0,    0,    0,    0,    0,    0,    0,\n",
            "           0,    0,    0,    0,    0,    0,    0,    0,    0,    0,    0,\n",
            "           0,    0,    0,    0,    0,    0,    0,    0,    0,    0,    0,\n",
            "           0,    0,    0,    0,    0,    0,    0,    0,    0,    0,    0,\n",
            "           0,    0,    0,    0,    0,    0,    0,    0,    0,    0,    0,\n",
            "           0,    0,    0,    0,    0,    0,    0,    0,    0,    0,    0,\n",
            "           0,    0,    0,    0,    0,    0,    0,    0,    0,    0,    0,\n",
            "           0]])>, <tf.Tensor: shape=(), dtype=int8, numpy=5>)\n"
          ]
        }
      ]
    },
    {
      "cell_type": "code",
      "source": [
        "# getting corresponding word of each integer\n",
        "print(\"1401 ---> \",vectorize_layer.get_vocabulary()[1401])\n",
        "print(\" 313 ---> \",vectorize_layer.get_vocabulary()[313])\n",
        "print('Vocabulary size: {}'.format(len(vectorize_layer.get_vocabulary())))"
      ],
      "metadata": {
        "colab": {
          "base_uri": "https://localhost:8080/"
        },
        "id": "X84dkB768GSx",
        "outputId": "85cc2329-9498-461e-e4d4-2015ea907b8f"
      },
      "execution_count": 44,
      "outputs": [
        {
          "output_type": "stream",
          "name": "stdout",
          "text": [
            "1401 --->  fagus\n",
            " 313 --->  days\n",
            "Vocabulary size: 17284\n"
          ]
        }
      ]
    },
    {
      "cell_type": "code",
      "source": [
        "# creating train, val, and test vectorized dataset and prefetching them\n",
        "train_ds = raw_train_batch.map(vectorize_text)\n",
        "val_ds = raw_val_batch.map(vectorize_text)\n",
        "test_ds = raw_test_batch.map(vectorize_text)\n",
        "\n",
        "AUTOTUNE = tf.data.AUTOTUNE\n",
        "\n",
        "train_ds = train_ds.cache().prefetch(buffer_size=AUTOTUNE)\n",
        "val_ds = val_ds.cache().prefetch(buffer_size=AUTOTUNE)\n",
        "test_ds = test_ds.cache().prefetch(buffer_size=AUTOTUNE)"
      ],
      "metadata": {
        "id": "DiW717GQ_77D"
      },
      "execution_count": 45,
      "outputs": []
    },
    {
      "cell_type": "code",
      "source": [
        "# model configuration\n",
        "embedding_dim = 32\n",
        "num_of_labels = 20\n",
        "\n",
        "model = tf.keras.Sequential([\n",
        "  layers.Embedding(max_features + 1, embedding_dim),\n",
        "  layers.Dropout(0.2),\n",
        "  layers.GlobalAveragePooling1D(),\n",
        "  layers.Dropout(0.2),\n",
        "  layers.Dense(num_of_labels)])\n",
        "\n",
        "model.summary()"
      ],
      "metadata": {
        "colab": {
          "base_uri": "https://localhost:8080/"
        },
        "id": "BBHmGG_SAWhp",
        "outputId": "ac2f6ae9-ef9e-44d1-8b77-2ecd447f2bc8"
      },
      "execution_count": 46,
      "outputs": [
        {
          "output_type": "stream",
          "name": "stdout",
          "text": [
            "Model: \"sequential\"\n",
            "_________________________________________________________________\n",
            " Layer (type)                Output Shape              Param #   \n",
            "=================================================================\n",
            " embedding (Embedding)       (None, None, 32)          608032    \n",
            "                                                                 \n",
            " dropout (Dropout)           (None, None, 32)          0         \n",
            "                                                                 \n",
            " global_average_pooling1d (  (None, 32)                0         \n",
            " GlobalAveragePooling1D)                                         \n",
            "                                                                 \n",
            " dropout_1 (Dropout)         (None, 32)                0         \n",
            "                                                                 \n",
            " dense (Dense)               (None, 20)                660       \n",
            "                                                                 \n",
            "=================================================================\n",
            "Total params: 608692 (2.32 MB)\n",
            "Trainable params: 608692 (2.32 MB)\n",
            "Non-trainable params: 0 (0.00 Byte)\n",
            "_________________________________________________________________\n"
          ]
        }
      ]
    },
    {
      "cell_type": "code",
      "source": [
        "# model compilation\n",
        "model.compile(optimizer='adam',\n",
        "              loss=tf.keras.losses.SparseCategoricalCrossentropy(from_logits=True),\n",
        "              metrics=['accuracy'])"
      ],
      "metadata": {
        "id": "uL6c-YGfAwLz"
      },
      "execution_count": 47,
      "outputs": []
    },
    {
      "cell_type": "code",
      "source": [
        "# training the model\n",
        "epochs = 500\n",
        "\n",
        "callback = tf.keras.callbacks.EarlyStopping(monitor='val_loss',\n",
        "                                            patience=5,\n",
        "                                            verbose=1)\n",
        "\n",
        "history = model.fit(train_ds,\n",
        "                    validation_data=val_ds,\n",
        "                    epochs=epochs,\n",
        "                    callbacks=[callback])"
      ],
      "metadata": {
        "colab": {
          "base_uri": "https://localhost:8080/"
        },
        "id": "CIfmPA3SvX4d",
        "outputId": "774e7ee6-868a-4e4a-f4cf-0a11cf35a3dd"
      },
      "execution_count": 48,
      "outputs": [
        {
          "output_type": "stream",
          "name": "stdout",
          "text": [
            "Epoch 1/500\n",
            "500/500 [==============================] - 7s 12ms/step - loss: 2.9836 - accuracy: 0.1202 - val_loss: 2.9653 - val_accuracy: 0.2160\n",
            "Epoch 2/500\n",
            "500/500 [==============================] - 7s 14ms/step - loss: 2.9140 - accuracy: 0.3517 - val_loss: 2.8606 - val_accuracy: 0.4365\n",
            "Epoch 3/500\n",
            "500/500 [==============================] - 6s 11ms/step - loss: 2.7528 - accuracy: 0.5871 - val_loss: 2.6759 - val_accuracy: 0.7465\n",
            "Epoch 4/500\n",
            "500/500 [==============================] - 5s 11ms/step - loss: 2.5317 - accuracy: 0.7224 - val_loss: 2.4510 - val_accuracy: 0.8380\n",
            "Epoch 5/500\n",
            "500/500 [==============================] - 7s 14ms/step - loss: 2.2833 - accuracy: 0.8154 - val_loss: 2.2044 - val_accuracy: 0.8850\n",
            "Epoch 6/500\n",
            "500/500 [==============================] - 6s 11ms/step - loss: 2.0262 - accuracy: 0.8643 - val_loss: 1.9579 - val_accuracy: 0.9000\n",
            "Epoch 7/500\n",
            "500/500 [==============================] - 6s 12ms/step - loss: 1.7778 - accuracy: 0.8959 - val_loss: 1.7247 - val_accuracy: 0.9160\n",
            "Epoch 8/500\n",
            "500/500 [==============================] - 5s 11ms/step - loss: 1.5512 - accuracy: 0.9122 - val_loss: 1.5125 - val_accuracy: 0.9210\n",
            "Epoch 9/500\n",
            "500/500 [==============================] - 6s 13ms/step - loss: 1.3490 - accuracy: 0.9281 - val_loss: 1.3252 - val_accuracy: 0.9295\n",
            "Epoch 10/500\n",
            "500/500 [==============================] - 5s 11ms/step - loss: 1.1715 - accuracy: 0.9394 - val_loss: 1.1595 - val_accuracy: 0.9350\n",
            "Epoch 11/500\n",
            "500/500 [==============================] - 6s 13ms/step - loss: 1.0146 - accuracy: 0.9480 - val_loss: 1.0158 - val_accuracy: 0.9475\n",
            "Epoch 12/500\n",
            "500/500 [==============================] - 5s 11ms/step - loss: 0.8821 - accuracy: 0.9563 - val_loss: 0.8933 - val_accuracy: 0.9485\n",
            "Epoch 13/500\n",
            "500/500 [==============================] - 11s 21ms/step - loss: 0.7666 - accuracy: 0.9625 - val_loss: 0.7850 - val_accuracy: 0.9575\n",
            "Epoch 14/500\n",
            "500/500 [==============================] - 12s 24ms/step - loss: 0.6686 - accuracy: 0.9664 - val_loss: 0.6928 - val_accuracy: 0.9620\n",
            "Epoch 15/500\n",
            "500/500 [==============================] - 6s 11ms/step - loss: 0.5854 - accuracy: 0.9703 - val_loss: 0.6140 - val_accuracy: 0.9610\n",
            "Epoch 16/500\n",
            "500/500 [==============================] - 6s 11ms/step - loss: 0.5112 - accuracy: 0.9738 - val_loss: 0.5449 - val_accuracy: 0.9635\n",
            "Epoch 17/500\n",
            "500/500 [==============================] - 8s 17ms/step - loss: 0.4483 - accuracy: 0.9772 - val_loss: 0.4864 - val_accuracy: 0.9660\n",
            "Epoch 18/500\n",
            "500/500 [==============================] - 6s 11ms/step - loss: 0.3950 - accuracy: 0.9785 - val_loss: 0.4346 - val_accuracy: 0.9690\n",
            "Epoch 19/500\n",
            "500/500 [==============================] - 5s 11ms/step - loss: 0.3493 - accuracy: 0.9801 - val_loss: 0.3897 - val_accuracy: 0.9710\n",
            "Epoch 20/500\n",
            "500/500 [==============================] - 8s 16ms/step - loss: 0.3091 - accuracy: 0.9821 - val_loss: 0.3514 - val_accuracy: 0.9720\n",
            "Epoch 21/500\n",
            "500/500 [==============================] - 5s 11ms/step - loss: 0.2734 - accuracy: 0.9849 - val_loss: 0.3185 - val_accuracy: 0.9735\n",
            "Epoch 22/500\n",
            "500/500 [==============================] - 5s 11ms/step - loss: 0.2419 - accuracy: 0.9861 - val_loss: 0.2884 - val_accuracy: 0.9760\n",
            "Epoch 23/500\n",
            "500/500 [==============================] - 6s 12ms/step - loss: 0.2160 - accuracy: 0.9885 - val_loss: 0.2633 - val_accuracy: 0.9750\n",
            "Epoch 24/500\n",
            "500/500 [==============================] - 5s 11ms/step - loss: 0.1920 - accuracy: 0.9892 - val_loss: 0.2400 - val_accuracy: 0.9775\n",
            "Epoch 25/500\n",
            "500/500 [==============================] - 8s 17ms/step - loss: 0.1716 - accuracy: 0.9897 - val_loss: 0.2202 - val_accuracy: 0.9785\n",
            "Epoch 26/500\n",
            "500/500 [==============================] - 5s 11ms/step - loss: 0.1530 - accuracy: 0.9911 - val_loss: 0.2029 - val_accuracy: 0.9790\n",
            "Epoch 27/500\n",
            "500/500 [==============================] - 7s 13ms/step - loss: 0.1371 - accuracy: 0.9928 - val_loss: 0.1871 - val_accuracy: 0.9805\n",
            "Epoch 28/500\n",
            "500/500 [==============================] - 5s 11ms/step - loss: 0.1228 - accuracy: 0.9937 - val_loss: 0.1739 - val_accuracy: 0.9820\n",
            "Epoch 29/500\n",
            "500/500 [==============================] - 5s 11ms/step - loss: 0.1106 - accuracy: 0.9948 - val_loss: 0.1613 - val_accuracy: 0.9835\n",
            "Epoch 30/500\n",
            "500/500 [==============================] - 6s 13ms/step - loss: 0.1009 - accuracy: 0.9951 - val_loss: 0.1517 - val_accuracy: 0.9835\n",
            "Epoch 31/500\n",
            "500/500 [==============================] - 5s 11ms/step - loss: 0.0899 - accuracy: 0.9958 - val_loss: 0.1415 - val_accuracy: 0.9840\n",
            "Epoch 32/500\n",
            "500/500 [==============================] - 7s 13ms/step - loss: 0.0809 - accuracy: 0.9965 - val_loss: 0.1333 - val_accuracy: 0.9845\n",
            "Epoch 33/500\n",
            "500/500 [==============================] - 6s 12ms/step - loss: 0.0727 - accuracy: 0.9968 - val_loss: 0.1264 - val_accuracy: 0.9850\n",
            "Epoch 34/500\n",
            "500/500 [==============================] - 6s 12ms/step - loss: 0.0664 - accuracy: 0.9975 - val_loss: 0.1199 - val_accuracy: 0.9870\n",
            "Epoch 35/500\n",
            "500/500 [==============================] - 7s 13ms/step - loss: 0.0597 - accuracy: 0.9971 - val_loss: 0.1133 - val_accuracy: 0.9855\n",
            "Epoch 36/500\n",
            "500/500 [==============================] - 6s 11ms/step - loss: 0.0538 - accuracy: 0.9976 - val_loss: 0.1080 - val_accuracy: 0.9870\n",
            "Epoch 37/500\n",
            "500/500 [==============================] - 7s 13ms/step - loss: 0.0487 - accuracy: 0.9982 - val_loss: 0.1043 - val_accuracy: 0.9875\n",
            "Epoch 38/500\n",
            "500/500 [==============================] - 6s 11ms/step - loss: 0.0452 - accuracy: 0.9977 - val_loss: 0.1003 - val_accuracy: 0.9870\n",
            "Epoch 39/500\n",
            "500/500 [==============================] - 6s 13ms/step - loss: 0.0405 - accuracy: 0.9985 - val_loss: 0.0966 - val_accuracy: 0.9880\n",
            "Epoch 40/500\n",
            "500/500 [==============================] - 5s 11ms/step - loss: 0.0371 - accuracy: 0.9986 - val_loss: 0.0953 - val_accuracy: 0.9870\n",
            "Epoch 41/500\n",
            "500/500 [==============================] - 8s 17ms/step - loss: 0.0338 - accuracy: 0.9988 - val_loss: 0.0923 - val_accuracy: 0.9880\n",
            "Epoch 42/500\n",
            "500/500 [==============================] - 11s 22ms/step - loss: 0.0305 - accuracy: 0.9988 - val_loss: 0.0885 - val_accuracy: 0.9870\n",
            "Epoch 43/500\n",
            "500/500 [==============================] - 7s 14ms/step - loss: 0.0277 - accuracy: 0.9989 - val_loss: 0.0870 - val_accuracy: 0.9860\n",
            "Epoch 44/500\n",
            "500/500 [==============================] - 8s 15ms/step - loss: 0.0256 - accuracy: 0.9990 - val_loss: 0.0860 - val_accuracy: 0.9870\n",
            "Epoch 45/500\n",
            "500/500 [==============================] - 5s 11ms/step - loss: 0.0236 - accuracy: 0.9989 - val_loss: 0.0836 - val_accuracy: 0.9880\n",
            "Epoch 46/500\n",
            "500/500 [==============================] - 7s 13ms/step - loss: 0.0212 - accuracy: 0.9993 - val_loss: 0.0835 - val_accuracy: 0.9880\n",
            "Epoch 47/500\n",
            "500/500 [==============================] - 5s 11ms/step - loss: 0.0198 - accuracy: 0.9994 - val_loss: 0.0837 - val_accuracy: 0.9875\n",
            "Epoch 48/500\n",
            "500/500 [==============================] - 6s 11ms/step - loss: 0.0180 - accuracy: 0.9994 - val_loss: 0.0806 - val_accuracy: 0.9885\n",
            "Epoch 49/500\n",
            "500/500 [==============================] - 7s 13ms/step - loss: 0.0168 - accuracy: 0.9995 - val_loss: 0.0798 - val_accuracy: 0.9860\n",
            "Epoch 50/500\n",
            "500/500 [==============================] - 9s 18ms/step - loss: 0.0152 - accuracy: 0.9994 - val_loss: 0.0798 - val_accuracy: 0.9875\n",
            "Epoch 51/500\n",
            "500/500 [==============================] - 7s 14ms/step - loss: 0.0140 - accuracy: 0.9996 - val_loss: 0.0781 - val_accuracy: 0.9865\n",
            "Epoch 52/500\n",
            "500/500 [==============================] - 8s 16ms/step - loss: 0.0124 - accuracy: 0.9996 - val_loss: 0.0805 - val_accuracy: 0.9880\n",
            "Epoch 53/500\n",
            "500/500 [==============================] - 8s 16ms/step - loss: 0.0122 - accuracy: 0.9997 - val_loss: 0.0789 - val_accuracy: 0.9870\n",
            "Epoch 54/500\n",
            "500/500 [==============================] - 10s 20ms/step - loss: 0.0111 - accuracy: 0.9997 - val_loss: 0.0794 - val_accuracy: 0.9865\n",
            "Epoch 55/500\n",
            "500/500 [==============================] - 7s 15ms/step - loss: 0.0108 - accuracy: 0.9996 - val_loss: 0.0790 - val_accuracy: 0.9880\n",
            "Epoch 56/500\n",
            "500/500 [==============================] - 6s 11ms/step - loss: 0.0096 - accuracy: 0.9998 - val_loss: 0.0794 - val_accuracy: 0.9860\n",
            "Epoch 56: early stopping\n"
          ]
        }
      ]
    },
    {
      "cell_type": "code",
      "source": [
        "# printing loss and accuracy of the model on the test set\n",
        "loss, accuracy = model.evaluate(test_ds)\n",
        "print(\"Loss: \", loss)\n",
        "print(\"Accuracy: \", accuracy)"
      ],
      "metadata": {
        "colab": {
          "base_uri": "https://localhost:8080/"
        },
        "id": "FksY9EwwHDkd",
        "outputId": "6cba7d89-fbe6-45fa-f2d5-db21842163df"
      },
      "execution_count": 50,
      "outputs": [
        {
          "output_type": "stream",
          "name": "stdout",
          "text": [
            "34/34 [==============================] - 0s 2ms/step - loss: 0.1043 - accuracy: 0.9786\n",
            "Loss:  0.10427216440439224\n",
            "Accuracy:  0.9785647988319397\n"
          ]
        }
      ]
    },
    {
      "cell_type": "markdown",
      "source": [
        "#### Plot Loss and Accuracy of Model"
      ],
      "metadata": {
        "id": "ZxrlG0HIwS0v"
      }
    },
    {
      "cell_type": "code",
      "source": [
        "# extracting the history of training and its keys\n",
        "history_dict = history.history\n",
        "history_dict.keys()"
      ],
      "metadata": {
        "colab": {
          "base_uri": "https://localhost:8080/"
        },
        "id": "cPdyDruxHIv1",
        "outputId": "74feb527-1a90-4c1a-fa1f-0d6a29ea0aca"
      },
      "execution_count": 51,
      "outputs": [
        {
          "output_type": "execute_result",
          "data": {
            "text/plain": [
              "dict_keys(['loss', 'accuracy', 'val_loss', 'val_accuracy'])"
            ]
          },
          "metadata": {},
          "execution_count": 51
        }
      ]
    },
    {
      "cell_type": "code",
      "source": [
        "# Extract training history\n",
        "training_loss = history.history['loss']\n",
        "training_accuracy = history.history['accuracy']\n",
        "validation_loss = history.history['val_loss']\n",
        "validation_accuracy = history.history['val_accuracy']\n",
        "epochs = list(range(1, len(training_loss) + 1))  # Convert range to list"
      ],
      "metadata": {
        "id": "1bmxLmU7wagV"
      },
      "execution_count": 52,
      "outputs": []
    },
    {
      "cell_type": "code",
      "source": [
        "# Create subplots\n",
        "fig = go.Figure()\n",
        "\n",
        "# Add training loss plot\n",
        "fig.add_trace(go.Scatter(x=epochs, y=training_loss, mode='lines+markers', name='Training Loss'))\n",
        "# Add validation loss plot\n",
        "fig.add_trace(go.Scatter(x=epochs, y=validation_loss, mode='lines+markers', name='Validation Loss'))\n",
        "\n",
        "# Update layout\n",
        "fig.update_layout(title='Training and Validation Metrics',\n",
        "                  xaxis_title='Epochs',\n",
        "                  yaxis_title='Value',\n",
        "                  legend=dict(x=0.7, y=1),\n",
        "                  template='plotly_dark')\n",
        "\n",
        "# Show the plot\n",
        "fig.show()"
      ],
      "metadata": {
        "colab": {
          "base_uri": "https://localhost:8080/",
          "height": 542
        },
        "id": "AIS4OE1AwhxN",
        "outputId": "5626543e-54ab-4944-bb08-ca866ffc57b7"
      },
      "execution_count": 55,
      "outputs": [
        {
          "output_type": "display_data",
          "data": {
            "text/html": [
              "<html>\n",
              "<head><meta charset=\"utf-8\" /></head>\n",
              "<body>\n",
              "    <div>            <script src=\"https://cdnjs.cloudflare.com/ajax/libs/mathjax/2.7.5/MathJax.js?config=TeX-AMS-MML_SVG\"></script><script type=\"text/javascript\">if (window.MathJax && window.MathJax.Hub && window.MathJax.Hub.Config) {window.MathJax.Hub.Config({SVG: {font: \"STIX-Web\"}});}</script>                <script type=\"text/javascript\">window.PlotlyConfig = {MathJaxConfig: 'local'};</script>\n",
              "        <script charset=\"utf-8\" src=\"https://cdn.plot.ly/plotly-2.24.1.min.js\"></script>                <div id=\"58e88e41-a312-49cf-bfe9-42fab9f0762d\" class=\"plotly-graph-div\" style=\"height:525px; width:100%;\"></div>            <script type=\"text/javascript\">                                    window.PLOTLYENV=window.PLOTLYENV || {};                                    if (document.getElementById(\"58e88e41-a312-49cf-bfe9-42fab9f0762d\")) {                    Plotly.newPlot(                        \"58e88e41-a312-49cf-bfe9-42fab9f0762d\",                        [{\"mode\":\"lines+markers\",\"name\":\"Training Loss\",\"x\":[1,2,3,4,5,6,7,8,9,10,11,12,13,14,15,16,17,18,19,20,21,22,23,24,25,26,27,28,29,30,31,32,33,34,35,36,37,38,39,40,41,42,43,44,45,46,47,48,49,50,51,52,53,54,55,56],\"y\":[2.9835872650146484,2.913973093032837,2.7527921199798584,2.5317277908325195,2.2833139896392822,2.0261664390563965,1.777773380279541,1.55124831199646,1.3489863872528076,1.1714978218078613,1.0146493911743164,0.8821497559547424,0.7665637731552124,0.6685757040977478,0.5854043960571289,0.5111854076385498,0.448294073343277,0.3950307369232178,0.3493093252182007,0.3090542256832123,0.27335816621780396,0.2419009655714035,0.21597550809383392,0.19196245074272156,0.17163985967636108,0.15297742187976837,0.13707967102527618,0.12277127802371979,0.11062901467084885,0.10090851038694382,0.0898701474070549,0.08085312694311142,0.07274174690246582,0.06635560840368271,0.0597471185028553,0.05375833436846733,0.04865695536136627,0.04517337307333946,0.04053705558180809,0.037130389362573624,0.03384880721569061,0.03048734925687313,0.02767818421125412,0.02555842697620392,0.023588554933667183,0.02123861573636532,0.01976856030523777,0.018039459362626076,0.01681675761938095,0.015190299600362778,0.013980052433907986,0.012386128306388855,0.01215939037501812,0.011082416400313377,0.01075839065015316,0.009553709998726845],\"type\":\"scatter\"},{\"mode\":\"lines+markers\",\"name\":\"Validation Loss\",\"x\":[1,2,3,4,5,6,7,8,9,10,11,12,13,14,15,16,17,18,19,20,21,22,23,24,25,26,27,28,29,30,31,32,33,34,35,36,37,38,39,40,41,42,43,44,45,46,47,48,49,50,51,52,53,54,55,56],\"y\":[2.965320587158203,2.8605546951293945,2.675938129425049,2.451040267944336,2.204432725906372,1.9579123258590698,1.7246617078781128,1.5124883651733398,1.3252259492874146,1.159511923789978,1.0157579183578491,0.8933030366897583,0.7849766612052917,0.6927902698516846,0.6140363216400146,0.5448514819145203,0.4864148199558258,0.43458259105682373,0.38969841599464417,0.3513512909412384,0.31846803426742554,0.28841686248779297,0.26326900720596313,0.24000674486160278,0.22023597359657288,0.20285777747631073,0.18705037236213684,0.17392370104789734,0.16132459044456482,0.1516697257757187,0.14152932167053223,0.13326042890548706,0.12640906870365143,0.11993852257728577,0.11327124387025833,0.10800766199827194,0.10430701076984406,0.10029427707195282,0.09660409390926361,0.09525766223669052,0.09228600561618805,0.08845502138137817,0.08696657419204712,0.08595816045999527,0.08360802382230759,0.08354753255844116,0.0837416872382164,0.08057644963264465,0.07984860241413116,0.0797743871808052,0.07813456654548645,0.08054105192422867,0.07890894263982773,0.0794396623969078,0.0789840966463089,0.07942482829093933],\"type\":\"scatter\"}],                        {\"template\":{\"data\":{\"barpolar\":[{\"marker\":{\"line\":{\"color\":\"rgb(17,17,17)\",\"width\":0.5},\"pattern\":{\"fillmode\":\"overlay\",\"size\":10,\"solidity\":0.2}},\"type\":\"barpolar\"}],\"bar\":[{\"error_x\":{\"color\":\"#f2f5fa\"},\"error_y\":{\"color\":\"#f2f5fa\"},\"marker\":{\"line\":{\"color\":\"rgb(17,17,17)\",\"width\":0.5},\"pattern\":{\"fillmode\":\"overlay\",\"size\":10,\"solidity\":0.2}},\"type\":\"bar\"}],\"carpet\":[{\"aaxis\":{\"endlinecolor\":\"#A2B1C6\",\"gridcolor\":\"#506784\",\"linecolor\":\"#506784\",\"minorgridcolor\":\"#506784\",\"startlinecolor\":\"#A2B1C6\"},\"baxis\":{\"endlinecolor\":\"#A2B1C6\",\"gridcolor\":\"#506784\",\"linecolor\":\"#506784\",\"minorgridcolor\":\"#506784\",\"startlinecolor\":\"#A2B1C6\"},\"type\":\"carpet\"}],\"choropleth\":[{\"colorbar\":{\"outlinewidth\":0,\"ticks\":\"\"},\"type\":\"choropleth\"}],\"contourcarpet\":[{\"colorbar\":{\"outlinewidth\":0,\"ticks\":\"\"},\"type\":\"contourcarpet\"}],\"contour\":[{\"colorbar\":{\"outlinewidth\":0,\"ticks\":\"\"},\"colorscale\":[[0.0,\"#0d0887\"],[0.1111111111111111,\"#46039f\"],[0.2222222222222222,\"#7201a8\"],[0.3333333333333333,\"#9c179e\"],[0.4444444444444444,\"#bd3786\"],[0.5555555555555556,\"#d8576b\"],[0.6666666666666666,\"#ed7953\"],[0.7777777777777778,\"#fb9f3a\"],[0.8888888888888888,\"#fdca26\"],[1.0,\"#f0f921\"]],\"type\":\"contour\"}],\"heatmapgl\":[{\"colorbar\":{\"outlinewidth\":0,\"ticks\":\"\"},\"colorscale\":[[0.0,\"#0d0887\"],[0.1111111111111111,\"#46039f\"],[0.2222222222222222,\"#7201a8\"],[0.3333333333333333,\"#9c179e\"],[0.4444444444444444,\"#bd3786\"],[0.5555555555555556,\"#d8576b\"],[0.6666666666666666,\"#ed7953\"],[0.7777777777777778,\"#fb9f3a\"],[0.8888888888888888,\"#fdca26\"],[1.0,\"#f0f921\"]],\"type\":\"heatmapgl\"}],\"heatmap\":[{\"colorbar\":{\"outlinewidth\":0,\"ticks\":\"\"},\"colorscale\":[[0.0,\"#0d0887\"],[0.1111111111111111,\"#46039f\"],[0.2222222222222222,\"#7201a8\"],[0.3333333333333333,\"#9c179e\"],[0.4444444444444444,\"#bd3786\"],[0.5555555555555556,\"#d8576b\"],[0.6666666666666666,\"#ed7953\"],[0.7777777777777778,\"#fb9f3a\"],[0.8888888888888888,\"#fdca26\"],[1.0,\"#f0f921\"]],\"type\":\"heatmap\"}],\"histogram2dcontour\":[{\"colorbar\":{\"outlinewidth\":0,\"ticks\":\"\"},\"colorscale\":[[0.0,\"#0d0887\"],[0.1111111111111111,\"#46039f\"],[0.2222222222222222,\"#7201a8\"],[0.3333333333333333,\"#9c179e\"],[0.4444444444444444,\"#bd3786\"],[0.5555555555555556,\"#d8576b\"],[0.6666666666666666,\"#ed7953\"],[0.7777777777777778,\"#fb9f3a\"],[0.8888888888888888,\"#fdca26\"],[1.0,\"#f0f921\"]],\"type\":\"histogram2dcontour\"}],\"histogram2d\":[{\"colorbar\":{\"outlinewidth\":0,\"ticks\":\"\"},\"colorscale\":[[0.0,\"#0d0887\"],[0.1111111111111111,\"#46039f\"],[0.2222222222222222,\"#7201a8\"],[0.3333333333333333,\"#9c179e\"],[0.4444444444444444,\"#bd3786\"],[0.5555555555555556,\"#d8576b\"],[0.6666666666666666,\"#ed7953\"],[0.7777777777777778,\"#fb9f3a\"],[0.8888888888888888,\"#fdca26\"],[1.0,\"#f0f921\"]],\"type\":\"histogram2d\"}],\"histogram\":[{\"marker\":{\"pattern\":{\"fillmode\":\"overlay\",\"size\":10,\"solidity\":0.2}},\"type\":\"histogram\"}],\"mesh3d\":[{\"colorbar\":{\"outlinewidth\":0,\"ticks\":\"\"},\"type\":\"mesh3d\"}],\"parcoords\":[{\"line\":{\"colorbar\":{\"outlinewidth\":0,\"ticks\":\"\"}},\"type\":\"parcoords\"}],\"pie\":[{\"automargin\":true,\"type\":\"pie\"}],\"scatter3d\":[{\"line\":{\"colorbar\":{\"outlinewidth\":0,\"ticks\":\"\"}},\"marker\":{\"colorbar\":{\"outlinewidth\":0,\"ticks\":\"\"}},\"type\":\"scatter3d\"}],\"scattercarpet\":[{\"marker\":{\"colorbar\":{\"outlinewidth\":0,\"ticks\":\"\"}},\"type\":\"scattercarpet\"}],\"scattergeo\":[{\"marker\":{\"colorbar\":{\"outlinewidth\":0,\"ticks\":\"\"}},\"type\":\"scattergeo\"}],\"scattergl\":[{\"marker\":{\"line\":{\"color\":\"#283442\"}},\"type\":\"scattergl\"}],\"scattermapbox\":[{\"marker\":{\"colorbar\":{\"outlinewidth\":0,\"ticks\":\"\"}},\"type\":\"scattermapbox\"}],\"scatterpolargl\":[{\"marker\":{\"colorbar\":{\"outlinewidth\":0,\"ticks\":\"\"}},\"type\":\"scatterpolargl\"}],\"scatterpolar\":[{\"marker\":{\"colorbar\":{\"outlinewidth\":0,\"ticks\":\"\"}},\"type\":\"scatterpolar\"}],\"scatter\":[{\"marker\":{\"line\":{\"color\":\"#283442\"}},\"type\":\"scatter\"}],\"scatterternary\":[{\"marker\":{\"colorbar\":{\"outlinewidth\":0,\"ticks\":\"\"}},\"type\":\"scatterternary\"}],\"surface\":[{\"colorbar\":{\"outlinewidth\":0,\"ticks\":\"\"},\"colorscale\":[[0.0,\"#0d0887\"],[0.1111111111111111,\"#46039f\"],[0.2222222222222222,\"#7201a8\"],[0.3333333333333333,\"#9c179e\"],[0.4444444444444444,\"#bd3786\"],[0.5555555555555556,\"#d8576b\"],[0.6666666666666666,\"#ed7953\"],[0.7777777777777778,\"#fb9f3a\"],[0.8888888888888888,\"#fdca26\"],[1.0,\"#f0f921\"]],\"type\":\"surface\"}],\"table\":[{\"cells\":{\"fill\":{\"color\":\"#506784\"},\"line\":{\"color\":\"rgb(17,17,17)\"}},\"header\":{\"fill\":{\"color\":\"#2a3f5f\"},\"line\":{\"color\":\"rgb(17,17,17)\"}},\"type\":\"table\"}]},\"layout\":{\"annotationdefaults\":{\"arrowcolor\":\"#f2f5fa\",\"arrowhead\":0,\"arrowwidth\":1},\"autotypenumbers\":\"strict\",\"coloraxis\":{\"colorbar\":{\"outlinewidth\":0,\"ticks\":\"\"}},\"colorscale\":{\"diverging\":[[0,\"#8e0152\"],[0.1,\"#c51b7d\"],[0.2,\"#de77ae\"],[0.3,\"#f1b6da\"],[0.4,\"#fde0ef\"],[0.5,\"#f7f7f7\"],[0.6,\"#e6f5d0\"],[0.7,\"#b8e186\"],[0.8,\"#7fbc41\"],[0.9,\"#4d9221\"],[1,\"#276419\"]],\"sequential\":[[0.0,\"#0d0887\"],[0.1111111111111111,\"#46039f\"],[0.2222222222222222,\"#7201a8\"],[0.3333333333333333,\"#9c179e\"],[0.4444444444444444,\"#bd3786\"],[0.5555555555555556,\"#d8576b\"],[0.6666666666666666,\"#ed7953\"],[0.7777777777777778,\"#fb9f3a\"],[0.8888888888888888,\"#fdca26\"],[1.0,\"#f0f921\"]],\"sequentialminus\":[[0.0,\"#0d0887\"],[0.1111111111111111,\"#46039f\"],[0.2222222222222222,\"#7201a8\"],[0.3333333333333333,\"#9c179e\"],[0.4444444444444444,\"#bd3786\"],[0.5555555555555556,\"#d8576b\"],[0.6666666666666666,\"#ed7953\"],[0.7777777777777778,\"#fb9f3a\"],[0.8888888888888888,\"#fdca26\"],[1.0,\"#f0f921\"]]},\"colorway\":[\"#636efa\",\"#EF553B\",\"#00cc96\",\"#ab63fa\",\"#FFA15A\",\"#19d3f3\",\"#FF6692\",\"#B6E880\",\"#FF97FF\",\"#FECB52\"],\"font\":{\"color\":\"#f2f5fa\"},\"geo\":{\"bgcolor\":\"rgb(17,17,17)\",\"lakecolor\":\"rgb(17,17,17)\",\"landcolor\":\"rgb(17,17,17)\",\"showlakes\":true,\"showland\":true,\"subunitcolor\":\"#506784\"},\"hoverlabel\":{\"align\":\"left\"},\"hovermode\":\"closest\",\"mapbox\":{\"style\":\"dark\"},\"paper_bgcolor\":\"rgb(17,17,17)\",\"plot_bgcolor\":\"rgb(17,17,17)\",\"polar\":{\"angularaxis\":{\"gridcolor\":\"#506784\",\"linecolor\":\"#506784\",\"ticks\":\"\"},\"bgcolor\":\"rgb(17,17,17)\",\"radialaxis\":{\"gridcolor\":\"#506784\",\"linecolor\":\"#506784\",\"ticks\":\"\"}},\"scene\":{\"xaxis\":{\"backgroundcolor\":\"rgb(17,17,17)\",\"gridcolor\":\"#506784\",\"gridwidth\":2,\"linecolor\":\"#506784\",\"showbackground\":true,\"ticks\":\"\",\"zerolinecolor\":\"#C8D4E3\"},\"yaxis\":{\"backgroundcolor\":\"rgb(17,17,17)\",\"gridcolor\":\"#506784\",\"gridwidth\":2,\"linecolor\":\"#506784\",\"showbackground\":true,\"ticks\":\"\",\"zerolinecolor\":\"#C8D4E3\"},\"zaxis\":{\"backgroundcolor\":\"rgb(17,17,17)\",\"gridcolor\":\"#506784\",\"gridwidth\":2,\"linecolor\":\"#506784\",\"showbackground\":true,\"ticks\":\"\",\"zerolinecolor\":\"#C8D4E3\"}},\"shapedefaults\":{\"line\":{\"color\":\"#f2f5fa\"}},\"sliderdefaults\":{\"bgcolor\":\"#C8D4E3\",\"bordercolor\":\"rgb(17,17,17)\",\"borderwidth\":1,\"tickwidth\":0},\"ternary\":{\"aaxis\":{\"gridcolor\":\"#506784\",\"linecolor\":\"#506784\",\"ticks\":\"\"},\"baxis\":{\"gridcolor\":\"#506784\",\"linecolor\":\"#506784\",\"ticks\":\"\"},\"bgcolor\":\"rgb(17,17,17)\",\"caxis\":{\"gridcolor\":\"#506784\",\"linecolor\":\"#506784\",\"ticks\":\"\"}},\"title\":{\"x\":0.05},\"updatemenudefaults\":{\"bgcolor\":\"#506784\",\"borderwidth\":0},\"xaxis\":{\"automargin\":true,\"gridcolor\":\"#283442\",\"linecolor\":\"#506784\",\"ticks\":\"\",\"title\":{\"standoff\":15},\"zerolinecolor\":\"#283442\",\"zerolinewidth\":2},\"yaxis\":{\"automargin\":true,\"gridcolor\":\"#283442\",\"linecolor\":\"#506784\",\"ticks\":\"\",\"title\":{\"standoff\":15},\"zerolinecolor\":\"#283442\",\"zerolinewidth\":2}}},\"legend\":{\"x\":0.7,\"y\":1},\"title\":{\"text\":\"Training and Validation Metrics\"},\"xaxis\":{\"title\":{\"text\":\"Epochs\"}},\"yaxis\":{\"title\":{\"text\":\"Value\"}}},                        {\"responsive\": true}                    ).then(function(){\n",
              "                            \n",
              "var gd = document.getElementById('58e88e41-a312-49cf-bfe9-42fab9f0762d');\n",
              "var x = new MutationObserver(function (mutations, observer) {{\n",
              "        var display = window.getComputedStyle(gd).display;\n",
              "        if (!display || display === 'none') {{\n",
              "            console.log([gd, 'removed!']);\n",
              "            Plotly.purge(gd);\n",
              "            observer.disconnect();\n",
              "        }}\n",
              "}});\n",
              "\n",
              "// Listen for the removal of the full notebook cells\n",
              "var notebookContainer = gd.closest('#notebook-container');\n",
              "if (notebookContainer) {{\n",
              "    x.observe(notebookContainer, {childList: true});\n",
              "}}\n",
              "\n",
              "// Listen for the clearing of the current output cell\n",
              "var outputEl = gd.closest('.output');\n",
              "if (outputEl) {{\n",
              "    x.observe(outputEl, {childList: true});\n",
              "}}\n",
              "\n",
              "                        })                };                            </script>        </div>\n",
              "</body>\n",
              "</html>"
            ]
          },
          "metadata": {}
        }
      ]
    },
    {
      "cell_type": "code",
      "source": [
        "# Create subplots\n",
        "fig = go.Figure()\n",
        "\n",
        "# Add training accuracy plot\n",
        "fig.add_trace(go.Scatter(x=epochs, y=training_accuracy, mode='lines+markers', name='Training Accuracy'))\n",
        "# Add validation accuracy plot\n",
        "fig.add_trace(go.Scatter(x=epochs, y=validation_accuracy, mode='lines+markers', name='Validation Accuracy'))\n",
        "\n",
        "# Update layout\n",
        "fig.update_layout(title='Training and Validation Metrics',\n",
        "                  xaxis_title='Epochs',\n",
        "                  yaxis_title='Value',\n",
        "                  legend=dict(x=0.7, y=1),\n",
        "                  template='plotly_dark')\n",
        "\n",
        "# Show the plot\n",
        "fig.show()"
      ],
      "metadata": {
        "colab": {
          "base_uri": "https://localhost:8080/",
          "height": 542
        },
        "id": "aZdEDChfxDhe",
        "outputId": "0b7d6b87-9186-4e08-b829-3336d67a2253"
      },
      "execution_count": 56,
      "outputs": [
        {
          "output_type": "display_data",
          "data": {
            "text/html": [
              "<html>\n",
              "<head><meta charset=\"utf-8\" /></head>\n",
              "<body>\n",
              "    <div>            <script src=\"https://cdnjs.cloudflare.com/ajax/libs/mathjax/2.7.5/MathJax.js?config=TeX-AMS-MML_SVG\"></script><script type=\"text/javascript\">if (window.MathJax && window.MathJax.Hub && window.MathJax.Hub.Config) {window.MathJax.Hub.Config({SVG: {font: \"STIX-Web\"}});}</script>                <script type=\"text/javascript\">window.PlotlyConfig = {MathJaxConfig: 'local'};</script>\n",
              "        <script charset=\"utf-8\" src=\"https://cdn.plot.ly/plotly-2.24.1.min.js\"></script>                <div id=\"b5901d0a-e3ac-47f1-8d69-00ef6b8398e6\" class=\"plotly-graph-div\" style=\"height:525px; width:100%;\"></div>            <script type=\"text/javascript\">                                    window.PLOTLYENV=window.PLOTLYENV || {};                                    if (document.getElementById(\"b5901d0a-e3ac-47f1-8d69-00ef6b8398e6\")) {                    Plotly.newPlot(                        \"b5901d0a-e3ac-47f1-8d69-00ef6b8398e6\",                        [{\"mode\":\"lines+markers\",\"name\":\"Training Accuracy\",\"x\":[1,2,3,4,5,6,7,8,9,10,11,12,13,14,15,16,17,18,19,20,21,22,23,24,25,26,27,28,29,30,31,32,33,34,35,36,37,38,39,40,41,42,43,44,45,46,47,48,49,50,51,52,53,54,55,56],\"y\":[0.12018749862909317,0.351749986410141,0.5871250033378601,0.7224375009536743,0.8153749704360962,0.8643125295639038,0.8958749771118164,0.9122499823570251,0.9280624985694885,0.9393749833106995,0.9480000138282776,0.956250011920929,0.9624999761581421,0.9664375185966492,0.9702500104904175,0.9738125205039978,0.9771875143051147,0.9785000085830688,0.9800624847412109,0.9820625185966492,0.9849374890327454,0.9860625267028809,0.9884999990463257,0.989187479019165,0.9896875023841858,0.9911249876022339,0.9928125143051147,0.9936875104904175,0.9948124885559082,0.9951249957084656,0.9958124756813049,0.9965000152587891,0.9968125224113464,0.9975000023841858,0.9970625042915344,0.9975625276565552,0.9981874823570251,0.9976875185966492,0.9984999895095825,0.9985625147819519,0.9988124966621399,0.9988124966621399,0.9989374876022339,0.9990000128746033,0.9988750219345093,0.9993125200271606,0.9994375109672546,0.9993749856948853,0.9994999766349792,0.9994375109672546,0.9995625019073486,0.9995625019073486,0.9996874928474426,0.9996874928474426,0.999625027179718,0.9998124837875366],\"type\":\"scatter\"},{\"mode\":\"lines+markers\",\"name\":\"Validation Accuracy\",\"x\":[1,2,3,4,5,6,7,8,9,10,11,12,13,14,15,16,17,18,19,20,21,22,23,24,25,26,27,28,29,30,31,32,33,34,35,36,37,38,39,40,41,42,43,44,45,46,47,48,49,50,51,52,53,54,55,56],\"y\":[0.2160000056028366,0.43650001287460327,0.7465000152587891,0.8379999995231628,0.8849999904632568,0.8999999761581421,0.9160000085830688,0.9210000038146973,0.9294999837875366,0.9350000023841858,0.9474999904632568,0.9484999775886536,0.9574999809265137,0.9620000123977661,0.9610000252723694,0.9635000228881836,0.9660000205039978,0.968999981880188,0.9710000157356262,0.972000002861023,0.9735000133514404,0.9760000109672546,0.9750000238418579,0.9775000214576721,0.9785000085830688,0.9789999723434448,0.9804999828338623,0.9819999933242798,0.9835000038146973,0.9835000038146973,0.984000027179718,0.984499990940094,0.9850000143051147,0.9869999885559082,0.9854999780654907,0.9869999885559082,0.987500011920929,0.9869999885559082,0.9879999756813049,0.9869999885559082,0.9879999756813049,0.9869999885559082,0.9860000014305115,0.9869999885559082,0.9879999756813049,0.9879999756813049,0.987500011920929,0.9884999990463257,0.9860000014305115,0.987500011920929,0.9865000247955322,0.9879999756813049,0.9869999885559082,0.9865000247955322,0.9879999756813049,0.9860000014305115],\"type\":\"scatter\"}],                        {\"template\":{\"data\":{\"barpolar\":[{\"marker\":{\"line\":{\"color\":\"rgb(17,17,17)\",\"width\":0.5},\"pattern\":{\"fillmode\":\"overlay\",\"size\":10,\"solidity\":0.2}},\"type\":\"barpolar\"}],\"bar\":[{\"error_x\":{\"color\":\"#f2f5fa\"},\"error_y\":{\"color\":\"#f2f5fa\"},\"marker\":{\"line\":{\"color\":\"rgb(17,17,17)\",\"width\":0.5},\"pattern\":{\"fillmode\":\"overlay\",\"size\":10,\"solidity\":0.2}},\"type\":\"bar\"}],\"carpet\":[{\"aaxis\":{\"endlinecolor\":\"#A2B1C6\",\"gridcolor\":\"#506784\",\"linecolor\":\"#506784\",\"minorgridcolor\":\"#506784\",\"startlinecolor\":\"#A2B1C6\"},\"baxis\":{\"endlinecolor\":\"#A2B1C6\",\"gridcolor\":\"#506784\",\"linecolor\":\"#506784\",\"minorgridcolor\":\"#506784\",\"startlinecolor\":\"#A2B1C6\"},\"type\":\"carpet\"}],\"choropleth\":[{\"colorbar\":{\"outlinewidth\":0,\"ticks\":\"\"},\"type\":\"choropleth\"}],\"contourcarpet\":[{\"colorbar\":{\"outlinewidth\":0,\"ticks\":\"\"},\"type\":\"contourcarpet\"}],\"contour\":[{\"colorbar\":{\"outlinewidth\":0,\"ticks\":\"\"},\"colorscale\":[[0.0,\"#0d0887\"],[0.1111111111111111,\"#46039f\"],[0.2222222222222222,\"#7201a8\"],[0.3333333333333333,\"#9c179e\"],[0.4444444444444444,\"#bd3786\"],[0.5555555555555556,\"#d8576b\"],[0.6666666666666666,\"#ed7953\"],[0.7777777777777778,\"#fb9f3a\"],[0.8888888888888888,\"#fdca26\"],[1.0,\"#f0f921\"]],\"type\":\"contour\"}],\"heatmapgl\":[{\"colorbar\":{\"outlinewidth\":0,\"ticks\":\"\"},\"colorscale\":[[0.0,\"#0d0887\"],[0.1111111111111111,\"#46039f\"],[0.2222222222222222,\"#7201a8\"],[0.3333333333333333,\"#9c179e\"],[0.4444444444444444,\"#bd3786\"],[0.5555555555555556,\"#d8576b\"],[0.6666666666666666,\"#ed7953\"],[0.7777777777777778,\"#fb9f3a\"],[0.8888888888888888,\"#fdca26\"],[1.0,\"#f0f921\"]],\"type\":\"heatmapgl\"}],\"heatmap\":[{\"colorbar\":{\"outlinewidth\":0,\"ticks\":\"\"},\"colorscale\":[[0.0,\"#0d0887\"],[0.1111111111111111,\"#46039f\"],[0.2222222222222222,\"#7201a8\"],[0.3333333333333333,\"#9c179e\"],[0.4444444444444444,\"#bd3786\"],[0.5555555555555556,\"#d8576b\"],[0.6666666666666666,\"#ed7953\"],[0.7777777777777778,\"#fb9f3a\"],[0.8888888888888888,\"#fdca26\"],[1.0,\"#f0f921\"]],\"type\":\"heatmap\"}],\"histogram2dcontour\":[{\"colorbar\":{\"outlinewidth\":0,\"ticks\":\"\"},\"colorscale\":[[0.0,\"#0d0887\"],[0.1111111111111111,\"#46039f\"],[0.2222222222222222,\"#7201a8\"],[0.3333333333333333,\"#9c179e\"],[0.4444444444444444,\"#bd3786\"],[0.5555555555555556,\"#d8576b\"],[0.6666666666666666,\"#ed7953\"],[0.7777777777777778,\"#fb9f3a\"],[0.8888888888888888,\"#fdca26\"],[1.0,\"#f0f921\"]],\"type\":\"histogram2dcontour\"}],\"histogram2d\":[{\"colorbar\":{\"outlinewidth\":0,\"ticks\":\"\"},\"colorscale\":[[0.0,\"#0d0887\"],[0.1111111111111111,\"#46039f\"],[0.2222222222222222,\"#7201a8\"],[0.3333333333333333,\"#9c179e\"],[0.4444444444444444,\"#bd3786\"],[0.5555555555555556,\"#d8576b\"],[0.6666666666666666,\"#ed7953\"],[0.7777777777777778,\"#fb9f3a\"],[0.8888888888888888,\"#fdca26\"],[1.0,\"#f0f921\"]],\"type\":\"histogram2d\"}],\"histogram\":[{\"marker\":{\"pattern\":{\"fillmode\":\"overlay\",\"size\":10,\"solidity\":0.2}},\"type\":\"histogram\"}],\"mesh3d\":[{\"colorbar\":{\"outlinewidth\":0,\"ticks\":\"\"},\"type\":\"mesh3d\"}],\"parcoords\":[{\"line\":{\"colorbar\":{\"outlinewidth\":0,\"ticks\":\"\"}},\"type\":\"parcoords\"}],\"pie\":[{\"automargin\":true,\"type\":\"pie\"}],\"scatter3d\":[{\"line\":{\"colorbar\":{\"outlinewidth\":0,\"ticks\":\"\"}},\"marker\":{\"colorbar\":{\"outlinewidth\":0,\"ticks\":\"\"}},\"type\":\"scatter3d\"}],\"scattercarpet\":[{\"marker\":{\"colorbar\":{\"outlinewidth\":0,\"ticks\":\"\"}},\"type\":\"scattercarpet\"}],\"scattergeo\":[{\"marker\":{\"colorbar\":{\"outlinewidth\":0,\"ticks\":\"\"}},\"type\":\"scattergeo\"}],\"scattergl\":[{\"marker\":{\"line\":{\"color\":\"#283442\"}},\"type\":\"scattergl\"}],\"scattermapbox\":[{\"marker\":{\"colorbar\":{\"outlinewidth\":0,\"ticks\":\"\"}},\"type\":\"scattermapbox\"}],\"scatterpolargl\":[{\"marker\":{\"colorbar\":{\"outlinewidth\":0,\"ticks\":\"\"}},\"type\":\"scatterpolargl\"}],\"scatterpolar\":[{\"marker\":{\"colorbar\":{\"outlinewidth\":0,\"ticks\":\"\"}},\"type\":\"scatterpolar\"}],\"scatter\":[{\"marker\":{\"line\":{\"color\":\"#283442\"}},\"type\":\"scatter\"}],\"scatterternary\":[{\"marker\":{\"colorbar\":{\"outlinewidth\":0,\"ticks\":\"\"}},\"type\":\"scatterternary\"}],\"surface\":[{\"colorbar\":{\"outlinewidth\":0,\"ticks\":\"\"},\"colorscale\":[[0.0,\"#0d0887\"],[0.1111111111111111,\"#46039f\"],[0.2222222222222222,\"#7201a8\"],[0.3333333333333333,\"#9c179e\"],[0.4444444444444444,\"#bd3786\"],[0.5555555555555556,\"#d8576b\"],[0.6666666666666666,\"#ed7953\"],[0.7777777777777778,\"#fb9f3a\"],[0.8888888888888888,\"#fdca26\"],[1.0,\"#f0f921\"]],\"type\":\"surface\"}],\"table\":[{\"cells\":{\"fill\":{\"color\":\"#506784\"},\"line\":{\"color\":\"rgb(17,17,17)\"}},\"header\":{\"fill\":{\"color\":\"#2a3f5f\"},\"line\":{\"color\":\"rgb(17,17,17)\"}},\"type\":\"table\"}]},\"layout\":{\"annotationdefaults\":{\"arrowcolor\":\"#f2f5fa\",\"arrowhead\":0,\"arrowwidth\":1},\"autotypenumbers\":\"strict\",\"coloraxis\":{\"colorbar\":{\"outlinewidth\":0,\"ticks\":\"\"}},\"colorscale\":{\"diverging\":[[0,\"#8e0152\"],[0.1,\"#c51b7d\"],[0.2,\"#de77ae\"],[0.3,\"#f1b6da\"],[0.4,\"#fde0ef\"],[0.5,\"#f7f7f7\"],[0.6,\"#e6f5d0\"],[0.7,\"#b8e186\"],[0.8,\"#7fbc41\"],[0.9,\"#4d9221\"],[1,\"#276419\"]],\"sequential\":[[0.0,\"#0d0887\"],[0.1111111111111111,\"#46039f\"],[0.2222222222222222,\"#7201a8\"],[0.3333333333333333,\"#9c179e\"],[0.4444444444444444,\"#bd3786\"],[0.5555555555555556,\"#d8576b\"],[0.6666666666666666,\"#ed7953\"],[0.7777777777777778,\"#fb9f3a\"],[0.8888888888888888,\"#fdca26\"],[1.0,\"#f0f921\"]],\"sequentialminus\":[[0.0,\"#0d0887\"],[0.1111111111111111,\"#46039f\"],[0.2222222222222222,\"#7201a8\"],[0.3333333333333333,\"#9c179e\"],[0.4444444444444444,\"#bd3786\"],[0.5555555555555556,\"#d8576b\"],[0.6666666666666666,\"#ed7953\"],[0.7777777777777778,\"#fb9f3a\"],[0.8888888888888888,\"#fdca26\"],[1.0,\"#f0f921\"]]},\"colorway\":[\"#636efa\",\"#EF553B\",\"#00cc96\",\"#ab63fa\",\"#FFA15A\",\"#19d3f3\",\"#FF6692\",\"#B6E880\",\"#FF97FF\",\"#FECB52\"],\"font\":{\"color\":\"#f2f5fa\"},\"geo\":{\"bgcolor\":\"rgb(17,17,17)\",\"lakecolor\":\"rgb(17,17,17)\",\"landcolor\":\"rgb(17,17,17)\",\"showlakes\":true,\"showland\":true,\"subunitcolor\":\"#506784\"},\"hoverlabel\":{\"align\":\"left\"},\"hovermode\":\"closest\",\"mapbox\":{\"style\":\"dark\"},\"paper_bgcolor\":\"rgb(17,17,17)\",\"plot_bgcolor\":\"rgb(17,17,17)\",\"polar\":{\"angularaxis\":{\"gridcolor\":\"#506784\",\"linecolor\":\"#506784\",\"ticks\":\"\"},\"bgcolor\":\"rgb(17,17,17)\",\"radialaxis\":{\"gridcolor\":\"#506784\",\"linecolor\":\"#506784\",\"ticks\":\"\"}},\"scene\":{\"xaxis\":{\"backgroundcolor\":\"rgb(17,17,17)\",\"gridcolor\":\"#506784\",\"gridwidth\":2,\"linecolor\":\"#506784\",\"showbackground\":true,\"ticks\":\"\",\"zerolinecolor\":\"#C8D4E3\"},\"yaxis\":{\"backgroundcolor\":\"rgb(17,17,17)\",\"gridcolor\":\"#506784\",\"gridwidth\":2,\"linecolor\":\"#506784\",\"showbackground\":true,\"ticks\":\"\",\"zerolinecolor\":\"#C8D4E3\"},\"zaxis\":{\"backgroundcolor\":\"rgb(17,17,17)\",\"gridcolor\":\"#506784\",\"gridwidth\":2,\"linecolor\":\"#506784\",\"showbackground\":true,\"ticks\":\"\",\"zerolinecolor\":\"#C8D4E3\"}},\"shapedefaults\":{\"line\":{\"color\":\"#f2f5fa\"}},\"sliderdefaults\":{\"bgcolor\":\"#C8D4E3\",\"bordercolor\":\"rgb(17,17,17)\",\"borderwidth\":1,\"tickwidth\":0},\"ternary\":{\"aaxis\":{\"gridcolor\":\"#506784\",\"linecolor\":\"#506784\",\"ticks\":\"\"},\"baxis\":{\"gridcolor\":\"#506784\",\"linecolor\":\"#506784\",\"ticks\":\"\"},\"bgcolor\":\"rgb(17,17,17)\",\"caxis\":{\"gridcolor\":\"#506784\",\"linecolor\":\"#506784\",\"ticks\":\"\"}},\"title\":{\"x\":0.05},\"updatemenudefaults\":{\"bgcolor\":\"#506784\",\"borderwidth\":0},\"xaxis\":{\"automargin\":true,\"gridcolor\":\"#283442\",\"linecolor\":\"#506784\",\"ticks\":\"\",\"title\":{\"standoff\":15},\"zerolinecolor\":\"#283442\",\"zerolinewidth\":2},\"yaxis\":{\"automargin\":true,\"gridcolor\":\"#283442\",\"linecolor\":\"#506784\",\"ticks\":\"\",\"title\":{\"standoff\":15},\"zerolinecolor\":\"#283442\",\"zerolinewidth\":2}}},\"legend\":{\"x\":0.7,\"y\":1},\"title\":{\"text\":\"Training and Validation Metrics\"},\"xaxis\":{\"title\":{\"text\":\"Epochs\"}},\"yaxis\":{\"title\":{\"text\":\"Value\"}}},                        {\"responsive\": true}                    ).then(function(){\n",
              "                            \n",
              "var gd = document.getElementById('b5901d0a-e3ac-47f1-8d69-00ef6b8398e6');\n",
              "var x = new MutationObserver(function (mutations, observer) {{\n",
              "        var display = window.getComputedStyle(gd).display;\n",
              "        if (!display || display === 'none') {{\n",
              "            console.log([gd, 'removed!']);\n",
              "            Plotly.purge(gd);\n",
              "            observer.disconnect();\n",
              "        }}\n",
              "}});\n",
              "\n",
              "// Listen for the removal of the full notebook cells\n",
              "var notebookContainer = gd.closest('#notebook-container');\n",
              "if (notebookContainer) {{\n",
              "    x.observe(notebookContainer, {childList: true});\n",
              "}}\n",
              "\n",
              "// Listen for the clearing of the current output cell\n",
              "var outputEl = gd.closest('.output');\n",
              "if (outputEl) {{\n",
              "    x.observe(outputEl, {childList: true});\n",
              "}}\n",
              "\n",
              "                        })                };                            </script>        </div>\n",
              "</body>\n",
              "</html>"
            ]
          },
          "metadata": {}
        }
      ]
    },
    {
      "cell_type": "code",
      "source": [
        "# creating the probability model for testing\n",
        "probability_model = tf.keras.Sequential([model, tf.keras.layers.Softmax()])\n",
        "\n",
        "# predicting test samples\n",
        "predictions = probability_model.predict(raw_test_batch.map(vectorize_text))"
      ],
      "metadata": {
        "id": "YQj61lIMvX-Y",
        "colab": {
          "base_uri": "https://localhost:8080/"
        },
        "outputId": "73933fa6-e756-4053-a8d1-37f5d2b85c08"
      },
      "execution_count": 57,
      "outputs": [
        {
          "output_type": "stream",
          "name": "stdout",
          "text": [
            "34/34 [==============================] - 0s 2ms/step\n"
          ]
        }
      ]
    },
    {
      "cell_type": "code",
      "source": [
        "predicted_labels = []\n",
        "for i in range(len(predictions)):\n",
        "    predicted_labels.append(np.argmax(predictions[i]))"
      ],
      "metadata": {
        "id": "elUG4dijxRc4"
      },
      "execution_count": 58,
      "outputs": []
    },
    {
      "cell_type": "markdown",
      "source": [
        "#### Confusion Matrix"
      ],
      "metadata": {
        "id": "tP9bXVsZ4r8g"
      }
    },
    {
      "cell_type": "code",
      "source": [
        "las = np.array(test_df['label'].unique())\n",
        "las = las.tolist()\n"
      ],
      "metadata": {
        "id": "nTYDDinuxdzV"
      },
      "execution_count": 60,
      "outputs": []
    },
    {
      "cell_type": "code",
      "source": [
        "# Compute the confusion matrix\n",
        "cm = confusion_matrix(np.array(test_df['label_int']), np.array(predicted_labels))\n",
        "\n",
        "# Create a heatmap for the confusion matrix using Plotly\n",
        "fig = ff.create_annotated_heatmap(\n",
        "    z=cm,\n",
        "    x=las,\n",
        "    y=las,\n",
        "    colorscale='Blackbody'\n",
        ")\n",
        "\n",
        "# Update the layout\n",
        "fig.update_layout(\n",
        "    title=\"Confusion Matrix\",\n",
        "    xaxis_title=\"Predicted Label\",\n",
        "    yaxis_title=\"True Label\",\n",
        "    yaxis_autorange=\"reversed\",\n",
        "    template='plotly_white'\n",
        ")\n",
        "\n",
        "fig.show()"
      ],
      "metadata": {
        "colab": {
          "base_uri": "https://localhost:8080/",
          "height": 542
        },
        "id": "5cbhBKR7NYPQ",
        "outputId": "071510bf-e7a8-4bc6-9b82-78d26ea8a7db"
      },
      "execution_count": 65,
      "outputs": [
        {
          "output_type": "display_data",
          "data": {
            "text/html": [
              "<html>\n",
              "<head><meta charset=\"utf-8\" /></head>\n",
              "<body>\n",
              "    <div>            <script src=\"https://cdnjs.cloudflare.com/ajax/libs/mathjax/2.7.5/MathJax.js?config=TeX-AMS-MML_SVG\"></script><script type=\"text/javascript\">if (window.MathJax && window.MathJax.Hub && window.MathJax.Hub.Config) {window.MathJax.Hub.Config({SVG: {font: \"STIX-Web\"}});}</script>                <script type=\"text/javascript\">window.PlotlyConfig = {MathJaxConfig: 'local'};</script>\n",
              "        <script charset=\"utf-8\" src=\"https://cdn.plot.ly/plotly-2.24.1.min.js\"></script>                <div id=\"98b51f6b-6874-48cd-ae84-2b8e2dc73e43\" class=\"plotly-graph-div\" style=\"height:525px; width:100%;\"></div>            <script type=\"text/javascript\">                                    window.PLOTLYENV=window.PLOTLYENV || {};                                    if (document.getElementById(\"98b51f6b-6874-48cd-ae84-2b8e2dc73e43\")) {                    Plotly.newPlot(                        \"98b51f6b-6874-48cd-ae84-2b8e2dc73e43\",                        [{\"colorscale\":[[0.0,\"rgb(0,0,0)\"],[0.25,\"rgb(230,0,0)\"],[0.5,\"rgb(230,210,0)\"],[0.75,\"rgb(255,255,255)\"],[1.0,\"rgb(160,200,255)\"]],\"reversescale\":false,\"showscale\":false,\"x\":[\"Health & Beauty\",\"Home & Garden\",\"Vehicles & Parts\",\"Hardware\",\"Software\",\"Luggage & Bags\",\"Media\",\"Toys & Games\",\"Baby & Toddler\",\"Sporting Goods\",\"Food, Beverages & Tobacco\",\"Apparel & Accessories\",\"Animals & Pet Supplies\",\"Electronics\",\"Arts & Entertainment\",\"Business & Industrial\",\"Furniture\",\"Office Supplies\",\"Cameras & Optics\"],\"y\":[\"Health & Beauty\",\"Home & Garden\",\"Vehicles & Parts\",\"Hardware\",\"Software\",\"Luggage & Bags\",\"Media\",\"Toys & Games\",\"Baby & Toddler\",\"Sporting Goods\",\"Food, Beverages & Tobacco\",\"Apparel & Accessories\",\"Animals & Pet Supplies\",\"Electronics\",\"Arts & Entertainment\",\"Business & Industrial\",\"Furniture\",\"Office Supplies\",\"Cameras & Optics\"],\"z\":[[62,0,0,0,0,0,0,0,0,0,0,0,0,0,0,0,0,0,0],[0,74,0,1,0,0,0,0,0,0,1,3,0,0,0,0,2,1,0],[0,0,71,0,0,0,0,0,0,0,0,0,0,0,0,0,0,2,0],[0,0,0,58,0,0,0,0,0,0,0,0,0,0,0,0,0,0,0],[0,0,0,0,43,0,0,0,0,0,0,0,0,0,0,0,0,0,0],[0,0,0,0,0,15,0,0,0,0,0,0,0,0,0,0,0,0,0],[0,0,0,0,0,0,33,0,0,0,0,0,0,0,0,0,0,0,0],[0,0,0,0,0,0,0,75,0,0,0,0,0,0,0,0,0,0,0],[0,1,0,0,0,0,0,0,62,0,0,0,0,0,0,0,0,0,0],[0,0,0,0,0,0,0,0,0,12,0,0,0,0,0,0,0,0,0],[0,0,0,0,0,0,0,0,0,0,79,0,0,0,0,0,1,1,0],[0,0,0,0,0,0,0,0,0,0,0,80,0,0,0,0,1,0,0],[0,2,0,0,0,0,0,0,0,0,0,0,79,0,0,0,0,0,0],[0,1,0,0,0,0,0,0,0,0,0,0,0,71,0,0,0,0,0],[0,0,0,0,0,0,0,0,0,0,0,0,0,0,27,0,0,0,0],[0,0,0,0,0,0,0,0,0,0,0,0,0,0,0,10,0,0,0],[0,3,0,0,0,0,0,0,0,0,0,0,0,0,0,0,86,2,0],[1,0,0,0,0,0,0,0,0,0,0,0,0,0,0,0,0,77,0],[0,0,0,0,0,0,0,0,0,0,0,0,0,0,0,0,0,0,36]],\"type\":\"heatmap\"}],                        {\"annotations\":[{\"font\":{\"color\":\"#000000\"},\"showarrow\":false,\"text\":\"62\",\"x\":\"Health & Beauty\",\"xref\":\"x\",\"y\":\"Health & Beauty\",\"yref\":\"y\"},{\"font\":{\"color\":\"#FFFFFF\"},\"showarrow\":false,\"text\":\"0\",\"x\":\"Home & Garden\",\"xref\":\"x\",\"y\":\"Health & Beauty\",\"yref\":\"y\"},{\"font\":{\"color\":\"#FFFFFF\"},\"showarrow\":false,\"text\":\"0\",\"x\":\"Vehicles & Parts\",\"xref\":\"x\",\"y\":\"Health & Beauty\",\"yref\":\"y\"},{\"font\":{\"color\":\"#FFFFFF\"},\"showarrow\":false,\"text\":\"0\",\"x\":\"Hardware\",\"xref\":\"x\",\"y\":\"Health & Beauty\",\"yref\":\"y\"},{\"font\":{\"color\":\"#FFFFFF\"},\"showarrow\":false,\"text\":\"0\",\"x\":\"Software\",\"xref\":\"x\",\"y\":\"Health & Beauty\",\"yref\":\"y\"},{\"font\":{\"color\":\"#FFFFFF\"},\"showarrow\":false,\"text\":\"0\",\"x\":\"Luggage & Bags\",\"xref\":\"x\",\"y\":\"Health & Beauty\",\"yref\":\"y\"},{\"font\":{\"color\":\"#FFFFFF\"},\"showarrow\":false,\"text\":\"0\",\"x\":\"Media\",\"xref\":\"x\",\"y\":\"Health & Beauty\",\"yref\":\"y\"},{\"font\":{\"color\":\"#FFFFFF\"},\"showarrow\":false,\"text\":\"0\",\"x\":\"Toys & Games\",\"xref\":\"x\",\"y\":\"Health & Beauty\",\"yref\":\"y\"},{\"font\":{\"color\":\"#FFFFFF\"},\"showarrow\":false,\"text\":\"0\",\"x\":\"Baby & Toddler\",\"xref\":\"x\",\"y\":\"Health & Beauty\",\"yref\":\"y\"},{\"font\":{\"color\":\"#FFFFFF\"},\"showarrow\":false,\"text\":\"0\",\"x\":\"Sporting Goods\",\"xref\":\"x\",\"y\":\"Health & Beauty\",\"yref\":\"y\"},{\"font\":{\"color\":\"#FFFFFF\"},\"showarrow\":false,\"text\":\"0\",\"x\":\"Food, Beverages & Tobacco\",\"xref\":\"x\",\"y\":\"Health & Beauty\",\"yref\":\"y\"},{\"font\":{\"color\":\"#FFFFFF\"},\"showarrow\":false,\"text\":\"0\",\"x\":\"Apparel & Accessories\",\"xref\":\"x\",\"y\":\"Health & Beauty\",\"yref\":\"y\"},{\"font\":{\"color\":\"#FFFFFF\"},\"showarrow\":false,\"text\":\"0\",\"x\":\"Animals & Pet Supplies\",\"xref\":\"x\",\"y\":\"Health & Beauty\",\"yref\":\"y\"},{\"font\":{\"color\":\"#FFFFFF\"},\"showarrow\":false,\"text\":\"0\",\"x\":\"Electronics\",\"xref\":\"x\",\"y\":\"Health & Beauty\",\"yref\":\"y\"},{\"font\":{\"color\":\"#FFFFFF\"},\"showarrow\":false,\"text\":\"0\",\"x\":\"Arts & Entertainment\",\"xref\":\"x\",\"y\":\"Health & Beauty\",\"yref\":\"y\"},{\"font\":{\"color\":\"#FFFFFF\"},\"showarrow\":false,\"text\":\"0\",\"x\":\"Business & Industrial\",\"xref\":\"x\",\"y\":\"Health & Beauty\",\"yref\":\"y\"},{\"font\":{\"color\":\"#FFFFFF\"},\"showarrow\":false,\"text\":\"0\",\"x\":\"Furniture\",\"xref\":\"x\",\"y\":\"Health & Beauty\",\"yref\":\"y\"},{\"font\":{\"color\":\"#FFFFFF\"},\"showarrow\":false,\"text\":\"0\",\"x\":\"Office Supplies\",\"xref\":\"x\",\"y\":\"Health & Beauty\",\"yref\":\"y\"},{\"font\":{\"color\":\"#FFFFFF\"},\"showarrow\":false,\"text\":\"0\",\"x\":\"Cameras & Optics\",\"xref\":\"x\",\"y\":\"Health & Beauty\",\"yref\":\"y\"},{\"font\":{\"color\":\"#FFFFFF\"},\"showarrow\":false,\"text\":\"0\",\"x\":\"Health & Beauty\",\"xref\":\"x\",\"y\":\"Home & Garden\",\"yref\":\"y\"},{\"font\":{\"color\":\"#000000\"},\"showarrow\":false,\"text\":\"74\",\"x\":\"Home & Garden\",\"xref\":\"x\",\"y\":\"Home & Garden\",\"yref\":\"y\"},{\"font\":{\"color\":\"#FFFFFF\"},\"showarrow\":false,\"text\":\"0\",\"x\":\"Vehicles & Parts\",\"xref\":\"x\",\"y\":\"Home & Garden\",\"yref\":\"y\"},{\"font\":{\"color\":\"#FFFFFF\"},\"showarrow\":false,\"text\":\"1\",\"x\":\"Hardware\",\"xref\":\"x\",\"y\":\"Home & Garden\",\"yref\":\"y\"},{\"font\":{\"color\":\"#FFFFFF\"},\"showarrow\":false,\"text\":\"0\",\"x\":\"Software\",\"xref\":\"x\",\"y\":\"Home & Garden\",\"yref\":\"y\"},{\"font\":{\"color\":\"#FFFFFF\"},\"showarrow\":false,\"text\":\"0\",\"x\":\"Luggage & Bags\",\"xref\":\"x\",\"y\":\"Home & Garden\",\"yref\":\"y\"},{\"font\":{\"color\":\"#FFFFFF\"},\"showarrow\":false,\"text\":\"0\",\"x\":\"Media\",\"xref\":\"x\",\"y\":\"Home & Garden\",\"yref\":\"y\"},{\"font\":{\"color\":\"#FFFFFF\"},\"showarrow\":false,\"text\":\"0\",\"x\":\"Toys & Games\",\"xref\":\"x\",\"y\":\"Home & Garden\",\"yref\":\"y\"},{\"font\":{\"color\":\"#FFFFFF\"},\"showarrow\":false,\"text\":\"0\",\"x\":\"Baby & Toddler\",\"xref\":\"x\",\"y\":\"Home & Garden\",\"yref\":\"y\"},{\"font\":{\"color\":\"#FFFFFF\"},\"showarrow\":false,\"text\":\"0\",\"x\":\"Sporting Goods\",\"xref\":\"x\",\"y\":\"Home & Garden\",\"yref\":\"y\"},{\"font\":{\"color\":\"#FFFFFF\"},\"showarrow\":false,\"text\":\"1\",\"x\":\"Food, Beverages & Tobacco\",\"xref\":\"x\",\"y\":\"Home & Garden\",\"yref\":\"y\"},{\"font\":{\"color\":\"#FFFFFF\"},\"showarrow\":false,\"text\":\"3\",\"x\":\"Apparel & Accessories\",\"xref\":\"x\",\"y\":\"Home & Garden\",\"yref\":\"y\"},{\"font\":{\"color\":\"#FFFFFF\"},\"showarrow\":false,\"text\":\"0\",\"x\":\"Animals & Pet Supplies\",\"xref\":\"x\",\"y\":\"Home & Garden\",\"yref\":\"y\"},{\"font\":{\"color\":\"#FFFFFF\"},\"showarrow\":false,\"text\":\"0\",\"x\":\"Electronics\",\"xref\":\"x\",\"y\":\"Home & Garden\",\"yref\":\"y\"},{\"font\":{\"color\":\"#FFFFFF\"},\"showarrow\":false,\"text\":\"0\",\"x\":\"Arts & Entertainment\",\"xref\":\"x\",\"y\":\"Home & Garden\",\"yref\":\"y\"},{\"font\":{\"color\":\"#FFFFFF\"},\"showarrow\":false,\"text\":\"0\",\"x\":\"Business & Industrial\",\"xref\":\"x\",\"y\":\"Home & Garden\",\"yref\":\"y\"},{\"font\":{\"color\":\"#FFFFFF\"},\"showarrow\":false,\"text\":\"2\",\"x\":\"Furniture\",\"xref\":\"x\",\"y\":\"Home & Garden\",\"yref\":\"y\"},{\"font\":{\"color\":\"#FFFFFF\"},\"showarrow\":false,\"text\":\"1\",\"x\":\"Office Supplies\",\"xref\":\"x\",\"y\":\"Home & Garden\",\"yref\":\"y\"},{\"font\":{\"color\":\"#FFFFFF\"},\"showarrow\":false,\"text\":\"0\",\"x\":\"Cameras & Optics\",\"xref\":\"x\",\"y\":\"Home & Garden\",\"yref\":\"y\"},{\"font\":{\"color\":\"#FFFFFF\"},\"showarrow\":false,\"text\":\"0\",\"x\":\"Health & Beauty\",\"xref\":\"x\",\"y\":\"Vehicles & Parts\",\"yref\":\"y\"},{\"font\":{\"color\":\"#FFFFFF\"},\"showarrow\":false,\"text\":\"0\",\"x\":\"Home & Garden\",\"xref\":\"x\",\"y\":\"Vehicles & Parts\",\"yref\":\"y\"},{\"font\":{\"color\":\"#000000\"},\"showarrow\":false,\"text\":\"71\",\"x\":\"Vehicles & Parts\",\"xref\":\"x\",\"y\":\"Vehicles & Parts\",\"yref\":\"y\"},{\"font\":{\"color\":\"#FFFFFF\"},\"showarrow\":false,\"text\":\"0\",\"x\":\"Hardware\",\"xref\":\"x\",\"y\":\"Vehicles & Parts\",\"yref\":\"y\"},{\"font\":{\"color\":\"#FFFFFF\"},\"showarrow\":false,\"text\":\"0\",\"x\":\"Software\",\"xref\":\"x\",\"y\":\"Vehicles & Parts\",\"yref\":\"y\"},{\"font\":{\"color\":\"#FFFFFF\"},\"showarrow\":false,\"text\":\"0\",\"x\":\"Luggage & Bags\",\"xref\":\"x\",\"y\":\"Vehicles & Parts\",\"yref\":\"y\"},{\"font\":{\"color\":\"#FFFFFF\"},\"showarrow\":false,\"text\":\"0\",\"x\":\"Media\",\"xref\":\"x\",\"y\":\"Vehicles & Parts\",\"yref\":\"y\"},{\"font\":{\"color\":\"#FFFFFF\"},\"showarrow\":false,\"text\":\"0\",\"x\":\"Toys & Games\",\"xref\":\"x\",\"y\":\"Vehicles & Parts\",\"yref\":\"y\"},{\"font\":{\"color\":\"#FFFFFF\"},\"showarrow\":false,\"text\":\"0\",\"x\":\"Baby & Toddler\",\"xref\":\"x\",\"y\":\"Vehicles & Parts\",\"yref\":\"y\"},{\"font\":{\"color\":\"#FFFFFF\"},\"showarrow\":false,\"text\":\"0\",\"x\":\"Sporting Goods\",\"xref\":\"x\",\"y\":\"Vehicles & Parts\",\"yref\":\"y\"},{\"font\":{\"color\":\"#FFFFFF\"},\"showarrow\":false,\"text\":\"0\",\"x\":\"Food, Beverages & Tobacco\",\"xref\":\"x\",\"y\":\"Vehicles & Parts\",\"yref\":\"y\"},{\"font\":{\"color\":\"#FFFFFF\"},\"showarrow\":false,\"text\":\"0\",\"x\":\"Apparel & Accessories\",\"xref\":\"x\",\"y\":\"Vehicles & Parts\",\"yref\":\"y\"},{\"font\":{\"color\":\"#FFFFFF\"},\"showarrow\":false,\"text\":\"0\",\"x\":\"Animals & Pet Supplies\",\"xref\":\"x\",\"y\":\"Vehicles & Parts\",\"yref\":\"y\"},{\"font\":{\"color\":\"#FFFFFF\"},\"showarrow\":false,\"text\":\"0\",\"x\":\"Electronics\",\"xref\":\"x\",\"y\":\"Vehicles & Parts\",\"yref\":\"y\"},{\"font\":{\"color\":\"#FFFFFF\"},\"showarrow\":false,\"text\":\"0\",\"x\":\"Arts & Entertainment\",\"xref\":\"x\",\"y\":\"Vehicles & Parts\",\"yref\":\"y\"},{\"font\":{\"color\":\"#FFFFFF\"},\"showarrow\":false,\"text\":\"0\",\"x\":\"Business & Industrial\",\"xref\":\"x\",\"y\":\"Vehicles & Parts\",\"yref\":\"y\"},{\"font\":{\"color\":\"#FFFFFF\"},\"showarrow\":false,\"text\":\"0\",\"x\":\"Furniture\",\"xref\":\"x\",\"y\":\"Vehicles & Parts\",\"yref\":\"y\"},{\"font\":{\"color\":\"#FFFFFF\"},\"showarrow\":false,\"text\":\"2\",\"x\":\"Office Supplies\",\"xref\":\"x\",\"y\":\"Vehicles & Parts\",\"yref\":\"y\"},{\"font\":{\"color\":\"#FFFFFF\"},\"showarrow\":false,\"text\":\"0\",\"x\":\"Cameras & Optics\",\"xref\":\"x\",\"y\":\"Vehicles & Parts\",\"yref\":\"y\"},{\"font\":{\"color\":\"#FFFFFF\"},\"showarrow\":false,\"text\":\"0\",\"x\":\"Health & Beauty\",\"xref\":\"x\",\"y\":\"Hardware\",\"yref\":\"y\"},{\"font\":{\"color\":\"#FFFFFF\"},\"showarrow\":false,\"text\":\"0\",\"x\":\"Home & Garden\",\"xref\":\"x\",\"y\":\"Hardware\",\"yref\":\"y\"},{\"font\":{\"color\":\"#FFFFFF\"},\"showarrow\":false,\"text\":\"0\",\"x\":\"Vehicles & Parts\",\"xref\":\"x\",\"y\":\"Hardware\",\"yref\":\"y\"},{\"font\":{\"color\":\"#000000\"},\"showarrow\":false,\"text\":\"58\",\"x\":\"Hardware\",\"xref\":\"x\",\"y\":\"Hardware\",\"yref\":\"y\"},{\"font\":{\"color\":\"#FFFFFF\"},\"showarrow\":false,\"text\":\"0\",\"x\":\"Software\",\"xref\":\"x\",\"y\":\"Hardware\",\"yref\":\"y\"},{\"font\":{\"color\":\"#FFFFFF\"},\"showarrow\":false,\"text\":\"0\",\"x\":\"Luggage & Bags\",\"xref\":\"x\",\"y\":\"Hardware\",\"yref\":\"y\"},{\"font\":{\"color\":\"#FFFFFF\"},\"showarrow\":false,\"text\":\"0\",\"x\":\"Media\",\"xref\":\"x\",\"y\":\"Hardware\",\"yref\":\"y\"},{\"font\":{\"color\":\"#FFFFFF\"},\"showarrow\":false,\"text\":\"0\",\"x\":\"Toys & Games\",\"xref\":\"x\",\"y\":\"Hardware\",\"yref\":\"y\"},{\"font\":{\"color\":\"#FFFFFF\"},\"showarrow\":false,\"text\":\"0\",\"x\":\"Baby & Toddler\",\"xref\":\"x\",\"y\":\"Hardware\",\"yref\":\"y\"},{\"font\":{\"color\":\"#FFFFFF\"},\"showarrow\":false,\"text\":\"0\",\"x\":\"Sporting Goods\",\"xref\":\"x\",\"y\":\"Hardware\",\"yref\":\"y\"},{\"font\":{\"color\":\"#FFFFFF\"},\"showarrow\":false,\"text\":\"0\",\"x\":\"Food, Beverages & Tobacco\",\"xref\":\"x\",\"y\":\"Hardware\",\"yref\":\"y\"},{\"font\":{\"color\":\"#FFFFFF\"},\"showarrow\":false,\"text\":\"0\",\"x\":\"Apparel & Accessories\",\"xref\":\"x\",\"y\":\"Hardware\",\"yref\":\"y\"},{\"font\":{\"color\":\"#FFFFFF\"},\"showarrow\":false,\"text\":\"0\",\"x\":\"Animals & Pet Supplies\",\"xref\":\"x\",\"y\":\"Hardware\",\"yref\":\"y\"},{\"font\":{\"color\":\"#FFFFFF\"},\"showarrow\":false,\"text\":\"0\",\"x\":\"Electronics\",\"xref\":\"x\",\"y\":\"Hardware\",\"yref\":\"y\"},{\"font\":{\"color\":\"#FFFFFF\"},\"showarrow\":false,\"text\":\"0\",\"x\":\"Arts & Entertainment\",\"xref\":\"x\",\"y\":\"Hardware\",\"yref\":\"y\"},{\"font\":{\"color\":\"#FFFFFF\"},\"showarrow\":false,\"text\":\"0\",\"x\":\"Business & Industrial\",\"xref\":\"x\",\"y\":\"Hardware\",\"yref\":\"y\"},{\"font\":{\"color\":\"#FFFFFF\"},\"showarrow\":false,\"text\":\"0\",\"x\":\"Furniture\",\"xref\":\"x\",\"y\":\"Hardware\",\"yref\":\"y\"},{\"font\":{\"color\":\"#FFFFFF\"},\"showarrow\":false,\"text\":\"0\",\"x\":\"Office Supplies\",\"xref\":\"x\",\"y\":\"Hardware\",\"yref\":\"y\"},{\"font\":{\"color\":\"#FFFFFF\"},\"showarrow\":false,\"text\":\"0\",\"x\":\"Cameras & Optics\",\"xref\":\"x\",\"y\":\"Hardware\",\"yref\":\"y\"},{\"font\":{\"color\":\"#FFFFFF\"},\"showarrow\":false,\"text\":\"0\",\"x\":\"Health & Beauty\",\"xref\":\"x\",\"y\":\"Software\",\"yref\":\"y\"},{\"font\":{\"color\":\"#FFFFFF\"},\"showarrow\":false,\"text\":\"0\",\"x\":\"Home & Garden\",\"xref\":\"x\",\"y\":\"Software\",\"yref\":\"y\"},{\"font\":{\"color\":\"#FFFFFF\"},\"showarrow\":false,\"text\":\"0\",\"x\":\"Vehicles & Parts\",\"xref\":\"x\",\"y\":\"Software\",\"yref\":\"y\"},{\"font\":{\"color\":\"#FFFFFF\"},\"showarrow\":false,\"text\":\"0\",\"x\":\"Hardware\",\"xref\":\"x\",\"y\":\"Software\",\"yref\":\"y\"},{\"font\":{\"color\":\"#000000\"},\"showarrow\":false,\"text\":\"43\",\"x\":\"Software\",\"xref\":\"x\",\"y\":\"Software\",\"yref\":\"y\"},{\"font\":{\"color\":\"#FFFFFF\"},\"showarrow\":false,\"text\":\"0\",\"x\":\"Luggage & Bags\",\"xref\":\"x\",\"y\":\"Software\",\"yref\":\"y\"},{\"font\":{\"color\":\"#FFFFFF\"},\"showarrow\":false,\"text\":\"0\",\"x\":\"Media\",\"xref\":\"x\",\"y\":\"Software\",\"yref\":\"y\"},{\"font\":{\"color\":\"#FFFFFF\"},\"showarrow\":false,\"text\":\"0\",\"x\":\"Toys & Games\",\"xref\":\"x\",\"y\":\"Software\",\"yref\":\"y\"},{\"font\":{\"color\":\"#FFFFFF\"},\"showarrow\":false,\"text\":\"0\",\"x\":\"Baby & Toddler\",\"xref\":\"x\",\"y\":\"Software\",\"yref\":\"y\"},{\"font\":{\"color\":\"#FFFFFF\"},\"showarrow\":false,\"text\":\"0\",\"x\":\"Sporting Goods\",\"xref\":\"x\",\"y\":\"Software\",\"yref\":\"y\"},{\"font\":{\"color\":\"#FFFFFF\"},\"showarrow\":false,\"text\":\"0\",\"x\":\"Food, Beverages & Tobacco\",\"xref\":\"x\",\"y\":\"Software\",\"yref\":\"y\"},{\"font\":{\"color\":\"#FFFFFF\"},\"showarrow\":false,\"text\":\"0\",\"x\":\"Apparel & Accessories\",\"xref\":\"x\",\"y\":\"Software\",\"yref\":\"y\"},{\"font\":{\"color\":\"#FFFFFF\"},\"showarrow\":false,\"text\":\"0\",\"x\":\"Animals & Pet Supplies\",\"xref\":\"x\",\"y\":\"Software\",\"yref\":\"y\"},{\"font\":{\"color\":\"#FFFFFF\"},\"showarrow\":false,\"text\":\"0\",\"x\":\"Electronics\",\"xref\":\"x\",\"y\":\"Software\",\"yref\":\"y\"},{\"font\":{\"color\":\"#FFFFFF\"},\"showarrow\":false,\"text\":\"0\",\"x\":\"Arts & Entertainment\",\"xref\":\"x\",\"y\":\"Software\",\"yref\":\"y\"},{\"font\":{\"color\":\"#FFFFFF\"},\"showarrow\":false,\"text\":\"0\",\"x\":\"Business & Industrial\",\"xref\":\"x\",\"y\":\"Software\",\"yref\":\"y\"},{\"font\":{\"color\":\"#FFFFFF\"},\"showarrow\":false,\"text\":\"0\",\"x\":\"Furniture\",\"xref\":\"x\",\"y\":\"Software\",\"yref\":\"y\"},{\"font\":{\"color\":\"#FFFFFF\"},\"showarrow\":false,\"text\":\"0\",\"x\":\"Office Supplies\",\"xref\":\"x\",\"y\":\"Software\",\"yref\":\"y\"},{\"font\":{\"color\":\"#FFFFFF\"},\"showarrow\":false,\"text\":\"0\",\"x\":\"Cameras & Optics\",\"xref\":\"x\",\"y\":\"Software\",\"yref\":\"y\"},{\"font\":{\"color\":\"#FFFFFF\"},\"showarrow\":false,\"text\":\"0\",\"x\":\"Health & Beauty\",\"xref\":\"x\",\"y\":\"Luggage & Bags\",\"yref\":\"y\"},{\"font\":{\"color\":\"#FFFFFF\"},\"showarrow\":false,\"text\":\"0\",\"x\":\"Home & Garden\",\"xref\":\"x\",\"y\":\"Luggage & Bags\",\"yref\":\"y\"},{\"font\":{\"color\":\"#FFFFFF\"},\"showarrow\":false,\"text\":\"0\",\"x\":\"Vehicles & Parts\",\"xref\":\"x\",\"y\":\"Luggage & Bags\",\"yref\":\"y\"},{\"font\":{\"color\":\"#FFFFFF\"},\"showarrow\":false,\"text\":\"0\",\"x\":\"Hardware\",\"xref\":\"x\",\"y\":\"Luggage & Bags\",\"yref\":\"y\"},{\"font\":{\"color\":\"#FFFFFF\"},\"showarrow\":false,\"text\":\"0\",\"x\":\"Software\",\"xref\":\"x\",\"y\":\"Luggage & Bags\",\"yref\":\"y\"},{\"font\":{\"color\":\"#FFFFFF\"},\"showarrow\":false,\"text\":\"15\",\"x\":\"Luggage & Bags\",\"xref\":\"x\",\"y\":\"Luggage & Bags\",\"yref\":\"y\"},{\"font\":{\"color\":\"#FFFFFF\"},\"showarrow\":false,\"text\":\"0\",\"x\":\"Media\",\"xref\":\"x\",\"y\":\"Luggage & Bags\",\"yref\":\"y\"},{\"font\":{\"color\":\"#FFFFFF\"},\"showarrow\":false,\"text\":\"0\",\"x\":\"Toys & Games\",\"xref\":\"x\",\"y\":\"Luggage & Bags\",\"yref\":\"y\"},{\"font\":{\"color\":\"#FFFFFF\"},\"showarrow\":false,\"text\":\"0\",\"x\":\"Baby & Toddler\",\"xref\":\"x\",\"y\":\"Luggage & Bags\",\"yref\":\"y\"},{\"font\":{\"color\":\"#FFFFFF\"},\"showarrow\":false,\"text\":\"0\",\"x\":\"Sporting Goods\",\"xref\":\"x\",\"y\":\"Luggage & Bags\",\"yref\":\"y\"},{\"font\":{\"color\":\"#FFFFFF\"},\"showarrow\":false,\"text\":\"0\",\"x\":\"Food, Beverages & Tobacco\",\"xref\":\"x\",\"y\":\"Luggage & Bags\",\"yref\":\"y\"},{\"font\":{\"color\":\"#FFFFFF\"},\"showarrow\":false,\"text\":\"0\",\"x\":\"Apparel & Accessories\",\"xref\":\"x\",\"y\":\"Luggage & Bags\",\"yref\":\"y\"},{\"font\":{\"color\":\"#FFFFFF\"},\"showarrow\":false,\"text\":\"0\",\"x\":\"Animals & Pet Supplies\",\"xref\":\"x\",\"y\":\"Luggage & Bags\",\"yref\":\"y\"},{\"font\":{\"color\":\"#FFFFFF\"},\"showarrow\":false,\"text\":\"0\",\"x\":\"Electronics\",\"xref\":\"x\",\"y\":\"Luggage & Bags\",\"yref\":\"y\"},{\"font\":{\"color\":\"#FFFFFF\"},\"showarrow\":false,\"text\":\"0\",\"x\":\"Arts & Entertainment\",\"xref\":\"x\",\"y\":\"Luggage & Bags\",\"yref\":\"y\"},{\"font\":{\"color\":\"#FFFFFF\"},\"showarrow\":false,\"text\":\"0\",\"x\":\"Business & Industrial\",\"xref\":\"x\",\"y\":\"Luggage & Bags\",\"yref\":\"y\"},{\"font\":{\"color\":\"#FFFFFF\"},\"showarrow\":false,\"text\":\"0\",\"x\":\"Furniture\",\"xref\":\"x\",\"y\":\"Luggage & Bags\",\"yref\":\"y\"},{\"font\":{\"color\":\"#FFFFFF\"},\"showarrow\":false,\"text\":\"0\",\"x\":\"Office Supplies\",\"xref\":\"x\",\"y\":\"Luggage & Bags\",\"yref\":\"y\"},{\"font\":{\"color\":\"#FFFFFF\"},\"showarrow\":false,\"text\":\"0\",\"x\":\"Cameras & Optics\",\"xref\":\"x\",\"y\":\"Luggage & Bags\",\"yref\":\"y\"},{\"font\":{\"color\":\"#FFFFFF\"},\"showarrow\":false,\"text\":\"0\",\"x\":\"Health & Beauty\",\"xref\":\"x\",\"y\":\"Media\",\"yref\":\"y\"},{\"font\":{\"color\":\"#FFFFFF\"},\"showarrow\":false,\"text\":\"0\",\"x\":\"Home & Garden\",\"xref\":\"x\",\"y\":\"Media\",\"yref\":\"y\"},{\"font\":{\"color\":\"#FFFFFF\"},\"showarrow\":false,\"text\":\"0\",\"x\":\"Vehicles & Parts\",\"xref\":\"x\",\"y\":\"Media\",\"yref\":\"y\"},{\"font\":{\"color\":\"#FFFFFF\"},\"showarrow\":false,\"text\":\"0\",\"x\":\"Hardware\",\"xref\":\"x\",\"y\":\"Media\",\"yref\":\"y\"},{\"font\":{\"color\":\"#FFFFFF\"},\"showarrow\":false,\"text\":\"0\",\"x\":\"Software\",\"xref\":\"x\",\"y\":\"Media\",\"yref\":\"y\"},{\"font\":{\"color\":\"#FFFFFF\"},\"showarrow\":false,\"text\":\"0\",\"x\":\"Luggage & Bags\",\"xref\":\"x\",\"y\":\"Media\",\"yref\":\"y\"},{\"font\":{\"color\":\"#FFFFFF\"},\"showarrow\":false,\"text\":\"33\",\"x\":\"Media\",\"xref\":\"x\",\"y\":\"Media\",\"yref\":\"y\"},{\"font\":{\"color\":\"#FFFFFF\"},\"showarrow\":false,\"text\":\"0\",\"x\":\"Toys & Games\",\"xref\":\"x\",\"y\":\"Media\",\"yref\":\"y\"},{\"font\":{\"color\":\"#FFFFFF\"},\"showarrow\":false,\"text\":\"0\",\"x\":\"Baby & Toddler\",\"xref\":\"x\",\"y\":\"Media\",\"yref\":\"y\"},{\"font\":{\"color\":\"#FFFFFF\"},\"showarrow\":false,\"text\":\"0\",\"x\":\"Sporting Goods\",\"xref\":\"x\",\"y\":\"Media\",\"yref\":\"y\"},{\"font\":{\"color\":\"#FFFFFF\"},\"showarrow\":false,\"text\":\"0\",\"x\":\"Food, Beverages & Tobacco\",\"xref\":\"x\",\"y\":\"Media\",\"yref\":\"y\"},{\"font\":{\"color\":\"#FFFFFF\"},\"showarrow\":false,\"text\":\"0\",\"x\":\"Apparel & Accessories\",\"xref\":\"x\",\"y\":\"Media\",\"yref\":\"y\"},{\"font\":{\"color\":\"#FFFFFF\"},\"showarrow\":false,\"text\":\"0\",\"x\":\"Animals & Pet Supplies\",\"xref\":\"x\",\"y\":\"Media\",\"yref\":\"y\"},{\"font\":{\"color\":\"#FFFFFF\"},\"showarrow\":false,\"text\":\"0\",\"x\":\"Electronics\",\"xref\":\"x\",\"y\":\"Media\",\"yref\":\"y\"},{\"font\":{\"color\":\"#FFFFFF\"},\"showarrow\":false,\"text\":\"0\",\"x\":\"Arts & Entertainment\",\"xref\":\"x\",\"y\":\"Media\",\"yref\":\"y\"},{\"font\":{\"color\":\"#FFFFFF\"},\"showarrow\":false,\"text\":\"0\",\"x\":\"Business & Industrial\",\"xref\":\"x\",\"y\":\"Media\",\"yref\":\"y\"},{\"font\":{\"color\":\"#FFFFFF\"},\"showarrow\":false,\"text\":\"0\",\"x\":\"Furniture\",\"xref\":\"x\",\"y\":\"Media\",\"yref\":\"y\"},{\"font\":{\"color\":\"#FFFFFF\"},\"showarrow\":false,\"text\":\"0\",\"x\":\"Office Supplies\",\"xref\":\"x\",\"y\":\"Media\",\"yref\":\"y\"},{\"font\":{\"color\":\"#FFFFFF\"},\"showarrow\":false,\"text\":\"0\",\"x\":\"Cameras & Optics\",\"xref\":\"x\",\"y\":\"Media\",\"yref\":\"y\"},{\"font\":{\"color\":\"#FFFFFF\"},\"showarrow\":false,\"text\":\"0\",\"x\":\"Health & Beauty\",\"xref\":\"x\",\"y\":\"Toys & Games\",\"yref\":\"y\"},{\"font\":{\"color\":\"#FFFFFF\"},\"showarrow\":false,\"text\":\"0\",\"x\":\"Home & Garden\",\"xref\":\"x\",\"y\":\"Toys & Games\",\"yref\":\"y\"},{\"font\":{\"color\":\"#FFFFFF\"},\"showarrow\":false,\"text\":\"0\",\"x\":\"Vehicles & Parts\",\"xref\":\"x\",\"y\":\"Toys & Games\",\"yref\":\"y\"},{\"font\":{\"color\":\"#FFFFFF\"},\"showarrow\":false,\"text\":\"0\",\"x\":\"Hardware\",\"xref\":\"x\",\"y\":\"Toys & Games\",\"yref\":\"y\"},{\"font\":{\"color\":\"#FFFFFF\"},\"showarrow\":false,\"text\":\"0\",\"x\":\"Software\",\"xref\":\"x\",\"y\":\"Toys & Games\",\"yref\":\"y\"},{\"font\":{\"color\":\"#FFFFFF\"},\"showarrow\":false,\"text\":\"0\",\"x\":\"Luggage & Bags\",\"xref\":\"x\",\"y\":\"Toys & Games\",\"yref\":\"y\"},{\"font\":{\"color\":\"#FFFFFF\"},\"showarrow\":false,\"text\":\"0\",\"x\":\"Media\",\"xref\":\"x\",\"y\":\"Toys & Games\",\"yref\":\"y\"},{\"font\":{\"color\":\"#000000\"},\"showarrow\":false,\"text\":\"75\",\"x\":\"Toys & Games\",\"xref\":\"x\",\"y\":\"Toys & Games\",\"yref\":\"y\"},{\"font\":{\"color\":\"#FFFFFF\"},\"showarrow\":false,\"text\":\"0\",\"x\":\"Baby & Toddler\",\"xref\":\"x\",\"y\":\"Toys & Games\",\"yref\":\"y\"},{\"font\":{\"color\":\"#FFFFFF\"},\"showarrow\":false,\"text\":\"0\",\"x\":\"Sporting Goods\",\"xref\":\"x\",\"y\":\"Toys & Games\",\"yref\":\"y\"},{\"font\":{\"color\":\"#FFFFFF\"},\"showarrow\":false,\"text\":\"0\",\"x\":\"Food, Beverages & Tobacco\",\"xref\":\"x\",\"y\":\"Toys & Games\",\"yref\":\"y\"},{\"font\":{\"color\":\"#FFFFFF\"},\"showarrow\":false,\"text\":\"0\",\"x\":\"Apparel & Accessories\",\"xref\":\"x\",\"y\":\"Toys & Games\",\"yref\":\"y\"},{\"font\":{\"color\":\"#FFFFFF\"},\"showarrow\":false,\"text\":\"0\",\"x\":\"Animals & Pet Supplies\",\"xref\":\"x\",\"y\":\"Toys & Games\",\"yref\":\"y\"},{\"font\":{\"color\":\"#FFFFFF\"},\"showarrow\":false,\"text\":\"0\",\"x\":\"Electronics\",\"xref\":\"x\",\"y\":\"Toys & Games\",\"yref\":\"y\"},{\"font\":{\"color\":\"#FFFFFF\"},\"showarrow\":false,\"text\":\"0\",\"x\":\"Arts & Entertainment\",\"xref\":\"x\",\"y\":\"Toys & Games\",\"yref\":\"y\"},{\"font\":{\"color\":\"#FFFFFF\"},\"showarrow\":false,\"text\":\"0\",\"x\":\"Business & Industrial\",\"xref\":\"x\",\"y\":\"Toys & Games\",\"yref\":\"y\"},{\"font\":{\"color\":\"#FFFFFF\"},\"showarrow\":false,\"text\":\"0\",\"x\":\"Furniture\",\"xref\":\"x\",\"y\":\"Toys & Games\",\"yref\":\"y\"},{\"font\":{\"color\":\"#FFFFFF\"},\"showarrow\":false,\"text\":\"0\",\"x\":\"Office Supplies\",\"xref\":\"x\",\"y\":\"Toys & Games\",\"yref\":\"y\"},{\"font\":{\"color\":\"#FFFFFF\"},\"showarrow\":false,\"text\":\"0\",\"x\":\"Cameras & Optics\",\"xref\":\"x\",\"y\":\"Toys & Games\",\"yref\":\"y\"},{\"font\":{\"color\":\"#FFFFFF\"},\"showarrow\":false,\"text\":\"0\",\"x\":\"Health & Beauty\",\"xref\":\"x\",\"y\":\"Baby & Toddler\",\"yref\":\"y\"},{\"font\":{\"color\":\"#FFFFFF\"},\"showarrow\":false,\"text\":\"1\",\"x\":\"Home & Garden\",\"xref\":\"x\",\"y\":\"Baby & Toddler\",\"yref\":\"y\"},{\"font\":{\"color\":\"#FFFFFF\"},\"showarrow\":false,\"text\":\"0\",\"x\":\"Vehicles & Parts\",\"xref\":\"x\",\"y\":\"Baby & Toddler\",\"yref\":\"y\"},{\"font\":{\"color\":\"#FFFFFF\"},\"showarrow\":false,\"text\":\"0\",\"x\":\"Hardware\",\"xref\":\"x\",\"y\":\"Baby & Toddler\",\"yref\":\"y\"},{\"font\":{\"color\":\"#FFFFFF\"},\"showarrow\":false,\"text\":\"0\",\"x\":\"Software\",\"xref\":\"x\",\"y\":\"Baby & Toddler\",\"yref\":\"y\"},{\"font\":{\"color\":\"#FFFFFF\"},\"showarrow\":false,\"text\":\"0\",\"x\":\"Luggage & Bags\",\"xref\":\"x\",\"y\":\"Baby & Toddler\",\"yref\":\"y\"},{\"font\":{\"color\":\"#FFFFFF\"},\"showarrow\":false,\"text\":\"0\",\"x\":\"Media\",\"xref\":\"x\",\"y\":\"Baby & Toddler\",\"yref\":\"y\"},{\"font\":{\"color\":\"#FFFFFF\"},\"showarrow\":false,\"text\":\"0\",\"x\":\"Toys & Games\",\"xref\":\"x\",\"y\":\"Baby & Toddler\",\"yref\":\"y\"},{\"font\":{\"color\":\"#000000\"},\"showarrow\":false,\"text\":\"62\",\"x\":\"Baby & Toddler\",\"xref\":\"x\",\"y\":\"Baby & Toddler\",\"yref\":\"y\"},{\"font\":{\"color\":\"#FFFFFF\"},\"showarrow\":false,\"text\":\"0\",\"x\":\"Sporting Goods\",\"xref\":\"x\",\"y\":\"Baby & Toddler\",\"yref\":\"y\"},{\"font\":{\"color\":\"#FFFFFF\"},\"showarrow\":false,\"text\":\"0\",\"x\":\"Food, Beverages & Tobacco\",\"xref\":\"x\",\"y\":\"Baby & Toddler\",\"yref\":\"y\"},{\"font\":{\"color\":\"#FFFFFF\"},\"showarrow\":false,\"text\":\"0\",\"x\":\"Apparel & Accessories\",\"xref\":\"x\",\"y\":\"Baby & Toddler\",\"yref\":\"y\"},{\"font\":{\"color\":\"#FFFFFF\"},\"showarrow\":false,\"text\":\"0\",\"x\":\"Animals & Pet Supplies\",\"xref\":\"x\",\"y\":\"Baby & Toddler\",\"yref\":\"y\"},{\"font\":{\"color\":\"#FFFFFF\"},\"showarrow\":false,\"text\":\"0\",\"x\":\"Electronics\",\"xref\":\"x\",\"y\":\"Baby & Toddler\",\"yref\":\"y\"},{\"font\":{\"color\":\"#FFFFFF\"},\"showarrow\":false,\"text\":\"0\",\"x\":\"Arts & Entertainment\",\"xref\":\"x\",\"y\":\"Baby & Toddler\",\"yref\":\"y\"},{\"font\":{\"color\":\"#FFFFFF\"},\"showarrow\":false,\"text\":\"0\",\"x\":\"Business & Industrial\",\"xref\":\"x\",\"y\":\"Baby & Toddler\",\"yref\":\"y\"},{\"font\":{\"color\":\"#FFFFFF\"},\"showarrow\":false,\"text\":\"0\",\"x\":\"Furniture\",\"xref\":\"x\",\"y\":\"Baby & Toddler\",\"yref\":\"y\"},{\"font\":{\"color\":\"#FFFFFF\"},\"showarrow\":false,\"text\":\"0\",\"x\":\"Office Supplies\",\"xref\":\"x\",\"y\":\"Baby & Toddler\",\"yref\":\"y\"},{\"font\":{\"color\":\"#FFFFFF\"},\"showarrow\":false,\"text\":\"0\",\"x\":\"Cameras & Optics\",\"xref\":\"x\",\"y\":\"Baby & Toddler\",\"yref\":\"y\"},{\"font\":{\"color\":\"#FFFFFF\"},\"showarrow\":false,\"text\":\"0\",\"x\":\"Health & Beauty\",\"xref\":\"x\",\"y\":\"Sporting Goods\",\"yref\":\"y\"},{\"font\":{\"color\":\"#FFFFFF\"},\"showarrow\":false,\"text\":\"0\",\"x\":\"Home & Garden\",\"xref\":\"x\",\"y\":\"Sporting Goods\",\"yref\":\"y\"},{\"font\":{\"color\":\"#FFFFFF\"},\"showarrow\":false,\"text\":\"0\",\"x\":\"Vehicles & Parts\",\"xref\":\"x\",\"y\":\"Sporting Goods\",\"yref\":\"y\"},{\"font\":{\"color\":\"#FFFFFF\"},\"showarrow\":false,\"text\":\"0\",\"x\":\"Hardware\",\"xref\":\"x\",\"y\":\"Sporting Goods\",\"yref\":\"y\"},{\"font\":{\"color\":\"#FFFFFF\"},\"showarrow\":false,\"text\":\"0\",\"x\":\"Software\",\"xref\":\"x\",\"y\":\"Sporting Goods\",\"yref\":\"y\"},{\"font\":{\"color\":\"#FFFFFF\"},\"showarrow\":false,\"text\":\"0\",\"x\":\"Luggage & Bags\",\"xref\":\"x\",\"y\":\"Sporting Goods\",\"yref\":\"y\"},{\"font\":{\"color\":\"#FFFFFF\"},\"showarrow\":false,\"text\":\"0\",\"x\":\"Media\",\"xref\":\"x\",\"y\":\"Sporting Goods\",\"yref\":\"y\"},{\"font\":{\"color\":\"#FFFFFF\"},\"showarrow\":false,\"text\":\"0\",\"x\":\"Toys & Games\",\"xref\":\"x\",\"y\":\"Sporting Goods\",\"yref\":\"y\"},{\"font\":{\"color\":\"#FFFFFF\"},\"showarrow\":false,\"text\":\"0\",\"x\":\"Baby & Toddler\",\"xref\":\"x\",\"y\":\"Sporting Goods\",\"yref\":\"y\"},{\"font\":{\"color\":\"#FFFFFF\"},\"showarrow\":false,\"text\":\"12\",\"x\":\"Sporting Goods\",\"xref\":\"x\",\"y\":\"Sporting Goods\",\"yref\":\"y\"},{\"font\":{\"color\":\"#FFFFFF\"},\"showarrow\":false,\"text\":\"0\",\"x\":\"Food, Beverages & Tobacco\",\"xref\":\"x\",\"y\":\"Sporting Goods\",\"yref\":\"y\"},{\"font\":{\"color\":\"#FFFFFF\"},\"showarrow\":false,\"text\":\"0\",\"x\":\"Apparel & Accessories\",\"xref\":\"x\",\"y\":\"Sporting Goods\",\"yref\":\"y\"},{\"font\":{\"color\":\"#FFFFFF\"},\"showarrow\":false,\"text\":\"0\",\"x\":\"Animals & Pet Supplies\",\"xref\":\"x\",\"y\":\"Sporting Goods\",\"yref\":\"y\"},{\"font\":{\"color\":\"#FFFFFF\"},\"showarrow\":false,\"text\":\"0\",\"x\":\"Electronics\",\"xref\":\"x\",\"y\":\"Sporting Goods\",\"yref\":\"y\"},{\"font\":{\"color\":\"#FFFFFF\"},\"showarrow\":false,\"text\":\"0\",\"x\":\"Arts & Entertainment\",\"xref\":\"x\",\"y\":\"Sporting Goods\",\"yref\":\"y\"},{\"font\":{\"color\":\"#FFFFFF\"},\"showarrow\":false,\"text\":\"0\",\"x\":\"Business & Industrial\",\"xref\":\"x\",\"y\":\"Sporting Goods\",\"yref\":\"y\"},{\"font\":{\"color\":\"#FFFFFF\"},\"showarrow\":false,\"text\":\"0\",\"x\":\"Furniture\",\"xref\":\"x\",\"y\":\"Sporting Goods\",\"yref\":\"y\"},{\"font\":{\"color\":\"#FFFFFF\"},\"showarrow\":false,\"text\":\"0\",\"x\":\"Office Supplies\",\"xref\":\"x\",\"y\":\"Sporting Goods\",\"yref\":\"y\"},{\"font\":{\"color\":\"#FFFFFF\"},\"showarrow\":false,\"text\":\"0\",\"x\":\"Cameras & Optics\",\"xref\":\"x\",\"y\":\"Sporting Goods\",\"yref\":\"y\"},{\"font\":{\"color\":\"#FFFFFF\"},\"showarrow\":false,\"text\":\"0\",\"x\":\"Health & Beauty\",\"xref\":\"x\",\"y\":\"Food, Beverages & Tobacco\",\"yref\":\"y\"},{\"font\":{\"color\":\"#FFFFFF\"},\"showarrow\":false,\"text\":\"0\",\"x\":\"Home & Garden\",\"xref\":\"x\",\"y\":\"Food, Beverages & Tobacco\",\"yref\":\"y\"},{\"font\":{\"color\":\"#FFFFFF\"},\"showarrow\":false,\"text\":\"0\",\"x\":\"Vehicles & Parts\",\"xref\":\"x\",\"y\":\"Food, Beverages & Tobacco\",\"yref\":\"y\"},{\"font\":{\"color\":\"#FFFFFF\"},\"showarrow\":false,\"text\":\"0\",\"x\":\"Hardware\",\"xref\":\"x\",\"y\":\"Food, Beverages & Tobacco\",\"yref\":\"y\"},{\"font\":{\"color\":\"#FFFFFF\"},\"showarrow\":false,\"text\":\"0\",\"x\":\"Software\",\"xref\":\"x\",\"y\":\"Food, Beverages & Tobacco\",\"yref\":\"y\"},{\"font\":{\"color\":\"#FFFFFF\"},\"showarrow\":false,\"text\":\"0\",\"x\":\"Luggage & Bags\",\"xref\":\"x\",\"y\":\"Food, Beverages & Tobacco\",\"yref\":\"y\"},{\"font\":{\"color\":\"#FFFFFF\"},\"showarrow\":false,\"text\":\"0\",\"x\":\"Media\",\"xref\":\"x\",\"y\":\"Food, Beverages & Tobacco\",\"yref\":\"y\"},{\"font\":{\"color\":\"#FFFFFF\"},\"showarrow\":false,\"text\":\"0\",\"x\":\"Toys & Games\",\"xref\":\"x\",\"y\":\"Food, Beverages & Tobacco\",\"yref\":\"y\"},{\"font\":{\"color\":\"#FFFFFF\"},\"showarrow\":false,\"text\":\"0\",\"x\":\"Baby & Toddler\",\"xref\":\"x\",\"y\":\"Food, Beverages & Tobacco\",\"yref\":\"y\"},{\"font\":{\"color\":\"#FFFFFF\"},\"showarrow\":false,\"text\":\"0\",\"x\":\"Sporting Goods\",\"xref\":\"x\",\"y\":\"Food, Beverages & Tobacco\",\"yref\":\"y\"},{\"font\":{\"color\":\"#000000\"},\"showarrow\":false,\"text\":\"79\",\"x\":\"Food, Beverages & Tobacco\",\"xref\":\"x\",\"y\":\"Food, Beverages & Tobacco\",\"yref\":\"y\"},{\"font\":{\"color\":\"#FFFFFF\"},\"showarrow\":false,\"text\":\"0\",\"x\":\"Apparel & Accessories\",\"xref\":\"x\",\"y\":\"Food, Beverages & Tobacco\",\"yref\":\"y\"},{\"font\":{\"color\":\"#FFFFFF\"},\"showarrow\":false,\"text\":\"0\",\"x\":\"Animals & Pet Supplies\",\"xref\":\"x\",\"y\":\"Food, Beverages & Tobacco\",\"yref\":\"y\"},{\"font\":{\"color\":\"#FFFFFF\"},\"showarrow\":false,\"text\":\"0\",\"x\":\"Electronics\",\"xref\":\"x\",\"y\":\"Food, Beverages & Tobacco\",\"yref\":\"y\"},{\"font\":{\"color\":\"#FFFFFF\"},\"showarrow\":false,\"text\":\"0\",\"x\":\"Arts & Entertainment\",\"xref\":\"x\",\"y\":\"Food, Beverages & Tobacco\",\"yref\":\"y\"},{\"font\":{\"color\":\"#FFFFFF\"},\"showarrow\":false,\"text\":\"0\",\"x\":\"Business & Industrial\",\"xref\":\"x\",\"y\":\"Food, Beverages & Tobacco\",\"yref\":\"y\"},{\"font\":{\"color\":\"#FFFFFF\"},\"showarrow\":false,\"text\":\"1\",\"x\":\"Furniture\",\"xref\":\"x\",\"y\":\"Food, Beverages & Tobacco\",\"yref\":\"y\"},{\"font\":{\"color\":\"#FFFFFF\"},\"showarrow\":false,\"text\":\"1\",\"x\":\"Office Supplies\",\"xref\":\"x\",\"y\":\"Food, Beverages & Tobacco\",\"yref\":\"y\"},{\"font\":{\"color\":\"#FFFFFF\"},\"showarrow\":false,\"text\":\"0\",\"x\":\"Cameras & Optics\",\"xref\":\"x\",\"y\":\"Food, Beverages & Tobacco\",\"yref\":\"y\"},{\"font\":{\"color\":\"#FFFFFF\"},\"showarrow\":false,\"text\":\"0\",\"x\":\"Health & Beauty\",\"xref\":\"x\",\"y\":\"Apparel & Accessories\",\"yref\":\"y\"},{\"font\":{\"color\":\"#FFFFFF\"},\"showarrow\":false,\"text\":\"0\",\"x\":\"Home & Garden\",\"xref\":\"x\",\"y\":\"Apparel & Accessories\",\"yref\":\"y\"},{\"font\":{\"color\":\"#FFFFFF\"},\"showarrow\":false,\"text\":\"0\",\"x\":\"Vehicles & Parts\",\"xref\":\"x\",\"y\":\"Apparel & Accessories\",\"yref\":\"y\"},{\"font\":{\"color\":\"#FFFFFF\"},\"showarrow\":false,\"text\":\"0\",\"x\":\"Hardware\",\"xref\":\"x\",\"y\":\"Apparel & Accessories\",\"yref\":\"y\"},{\"font\":{\"color\":\"#FFFFFF\"},\"showarrow\":false,\"text\":\"0\",\"x\":\"Software\",\"xref\":\"x\",\"y\":\"Apparel & Accessories\",\"yref\":\"y\"},{\"font\":{\"color\":\"#FFFFFF\"},\"showarrow\":false,\"text\":\"0\",\"x\":\"Luggage & Bags\",\"xref\":\"x\",\"y\":\"Apparel & Accessories\",\"yref\":\"y\"},{\"font\":{\"color\":\"#FFFFFF\"},\"showarrow\":false,\"text\":\"0\",\"x\":\"Media\",\"xref\":\"x\",\"y\":\"Apparel & Accessories\",\"yref\":\"y\"},{\"font\":{\"color\":\"#FFFFFF\"},\"showarrow\":false,\"text\":\"0\",\"x\":\"Toys & Games\",\"xref\":\"x\",\"y\":\"Apparel & Accessories\",\"yref\":\"y\"},{\"font\":{\"color\":\"#FFFFFF\"},\"showarrow\":false,\"text\":\"0\",\"x\":\"Baby & Toddler\",\"xref\":\"x\",\"y\":\"Apparel & Accessories\",\"yref\":\"y\"},{\"font\":{\"color\":\"#FFFFFF\"},\"showarrow\":false,\"text\":\"0\",\"x\":\"Sporting Goods\",\"xref\":\"x\",\"y\":\"Apparel & Accessories\",\"yref\":\"y\"},{\"font\":{\"color\":\"#FFFFFF\"},\"showarrow\":false,\"text\":\"0\",\"x\":\"Food, Beverages & Tobacco\",\"xref\":\"x\",\"y\":\"Apparel & Accessories\",\"yref\":\"y\"},{\"font\":{\"color\":\"#000000\"},\"showarrow\":false,\"text\":\"80\",\"x\":\"Apparel & Accessories\",\"xref\":\"x\",\"y\":\"Apparel & Accessories\",\"yref\":\"y\"},{\"font\":{\"color\":\"#FFFFFF\"},\"showarrow\":false,\"text\":\"0\",\"x\":\"Animals & Pet Supplies\",\"xref\":\"x\",\"y\":\"Apparel & Accessories\",\"yref\":\"y\"},{\"font\":{\"color\":\"#FFFFFF\"},\"showarrow\":false,\"text\":\"0\",\"x\":\"Electronics\",\"xref\":\"x\",\"y\":\"Apparel & Accessories\",\"yref\":\"y\"},{\"font\":{\"color\":\"#FFFFFF\"},\"showarrow\":false,\"text\":\"0\",\"x\":\"Arts & Entertainment\",\"xref\":\"x\",\"y\":\"Apparel & Accessories\",\"yref\":\"y\"},{\"font\":{\"color\":\"#FFFFFF\"},\"showarrow\":false,\"text\":\"0\",\"x\":\"Business & Industrial\",\"xref\":\"x\",\"y\":\"Apparel & Accessories\",\"yref\":\"y\"},{\"font\":{\"color\":\"#FFFFFF\"},\"showarrow\":false,\"text\":\"1\",\"x\":\"Furniture\",\"xref\":\"x\",\"y\":\"Apparel & Accessories\",\"yref\":\"y\"},{\"font\":{\"color\":\"#FFFFFF\"},\"showarrow\":false,\"text\":\"0\",\"x\":\"Office Supplies\",\"xref\":\"x\",\"y\":\"Apparel & Accessories\",\"yref\":\"y\"},{\"font\":{\"color\":\"#FFFFFF\"},\"showarrow\":false,\"text\":\"0\",\"x\":\"Cameras & Optics\",\"xref\":\"x\",\"y\":\"Apparel & Accessories\",\"yref\":\"y\"},{\"font\":{\"color\":\"#FFFFFF\"},\"showarrow\":false,\"text\":\"0\",\"x\":\"Health & Beauty\",\"xref\":\"x\",\"y\":\"Animals & Pet Supplies\",\"yref\":\"y\"},{\"font\":{\"color\":\"#FFFFFF\"},\"showarrow\":false,\"text\":\"2\",\"x\":\"Home & Garden\",\"xref\":\"x\",\"y\":\"Animals & Pet Supplies\",\"yref\":\"y\"},{\"font\":{\"color\":\"#FFFFFF\"},\"showarrow\":false,\"text\":\"0\",\"x\":\"Vehicles & Parts\",\"xref\":\"x\",\"y\":\"Animals & Pet Supplies\",\"yref\":\"y\"},{\"font\":{\"color\":\"#FFFFFF\"},\"showarrow\":false,\"text\":\"0\",\"x\":\"Hardware\",\"xref\":\"x\",\"y\":\"Animals & Pet Supplies\",\"yref\":\"y\"},{\"font\":{\"color\":\"#FFFFFF\"},\"showarrow\":false,\"text\":\"0\",\"x\":\"Software\",\"xref\":\"x\",\"y\":\"Animals & Pet Supplies\",\"yref\":\"y\"},{\"font\":{\"color\":\"#FFFFFF\"},\"showarrow\":false,\"text\":\"0\",\"x\":\"Luggage & Bags\",\"xref\":\"x\",\"y\":\"Animals & Pet Supplies\",\"yref\":\"y\"},{\"font\":{\"color\":\"#FFFFFF\"},\"showarrow\":false,\"text\":\"0\",\"x\":\"Media\",\"xref\":\"x\",\"y\":\"Animals & Pet Supplies\",\"yref\":\"y\"},{\"font\":{\"color\":\"#FFFFFF\"},\"showarrow\":false,\"text\":\"0\",\"x\":\"Toys & Games\",\"xref\":\"x\",\"y\":\"Animals & Pet Supplies\",\"yref\":\"y\"},{\"font\":{\"color\":\"#FFFFFF\"},\"showarrow\":false,\"text\":\"0\",\"x\":\"Baby & Toddler\",\"xref\":\"x\",\"y\":\"Animals & Pet Supplies\",\"yref\":\"y\"},{\"font\":{\"color\":\"#FFFFFF\"},\"showarrow\":false,\"text\":\"0\",\"x\":\"Sporting Goods\",\"xref\":\"x\",\"y\":\"Animals & Pet Supplies\",\"yref\":\"y\"},{\"font\":{\"color\":\"#FFFFFF\"},\"showarrow\":false,\"text\":\"0\",\"x\":\"Food, Beverages & Tobacco\",\"xref\":\"x\",\"y\":\"Animals & Pet Supplies\",\"yref\":\"y\"},{\"font\":{\"color\":\"#FFFFFF\"},\"showarrow\":false,\"text\":\"0\",\"x\":\"Apparel & Accessories\",\"xref\":\"x\",\"y\":\"Animals & Pet Supplies\",\"yref\":\"y\"},{\"font\":{\"color\":\"#000000\"},\"showarrow\":false,\"text\":\"79\",\"x\":\"Animals & Pet Supplies\",\"xref\":\"x\",\"y\":\"Animals & Pet Supplies\",\"yref\":\"y\"},{\"font\":{\"color\":\"#FFFFFF\"},\"showarrow\":false,\"text\":\"0\",\"x\":\"Electronics\",\"xref\":\"x\",\"y\":\"Animals & Pet Supplies\",\"yref\":\"y\"},{\"font\":{\"color\":\"#FFFFFF\"},\"showarrow\":false,\"text\":\"0\",\"x\":\"Arts & Entertainment\",\"xref\":\"x\",\"y\":\"Animals & Pet Supplies\",\"yref\":\"y\"},{\"font\":{\"color\":\"#FFFFFF\"},\"showarrow\":false,\"text\":\"0\",\"x\":\"Business & Industrial\",\"xref\":\"x\",\"y\":\"Animals & Pet Supplies\",\"yref\":\"y\"},{\"font\":{\"color\":\"#FFFFFF\"},\"showarrow\":false,\"text\":\"0\",\"x\":\"Furniture\",\"xref\":\"x\",\"y\":\"Animals & Pet Supplies\",\"yref\":\"y\"},{\"font\":{\"color\":\"#FFFFFF\"},\"showarrow\":false,\"text\":\"0\",\"x\":\"Office Supplies\",\"xref\":\"x\",\"y\":\"Animals & Pet Supplies\",\"yref\":\"y\"},{\"font\":{\"color\":\"#FFFFFF\"},\"showarrow\":false,\"text\":\"0\",\"x\":\"Cameras & Optics\",\"xref\":\"x\",\"y\":\"Animals & Pet Supplies\",\"yref\":\"y\"},{\"font\":{\"color\":\"#FFFFFF\"},\"showarrow\":false,\"text\":\"0\",\"x\":\"Health & Beauty\",\"xref\":\"x\",\"y\":\"Electronics\",\"yref\":\"y\"},{\"font\":{\"color\":\"#FFFFFF\"},\"showarrow\":false,\"text\":\"1\",\"x\":\"Home & Garden\",\"xref\":\"x\",\"y\":\"Electronics\",\"yref\":\"y\"},{\"font\":{\"color\":\"#FFFFFF\"},\"showarrow\":false,\"text\":\"0\",\"x\":\"Vehicles & Parts\",\"xref\":\"x\",\"y\":\"Electronics\",\"yref\":\"y\"},{\"font\":{\"color\":\"#FFFFFF\"},\"showarrow\":false,\"text\":\"0\",\"x\":\"Hardware\",\"xref\":\"x\",\"y\":\"Electronics\",\"yref\":\"y\"},{\"font\":{\"color\":\"#FFFFFF\"},\"showarrow\":false,\"text\":\"0\",\"x\":\"Software\",\"xref\":\"x\",\"y\":\"Electronics\",\"yref\":\"y\"},{\"font\":{\"color\":\"#FFFFFF\"},\"showarrow\":false,\"text\":\"0\",\"x\":\"Luggage & Bags\",\"xref\":\"x\",\"y\":\"Electronics\",\"yref\":\"y\"},{\"font\":{\"color\":\"#FFFFFF\"},\"showarrow\":false,\"text\":\"0\",\"x\":\"Media\",\"xref\":\"x\",\"y\":\"Electronics\",\"yref\":\"y\"},{\"font\":{\"color\":\"#FFFFFF\"},\"showarrow\":false,\"text\":\"0\",\"x\":\"Toys & Games\",\"xref\":\"x\",\"y\":\"Electronics\",\"yref\":\"y\"},{\"font\":{\"color\":\"#FFFFFF\"},\"showarrow\":false,\"text\":\"0\",\"x\":\"Baby & Toddler\",\"xref\":\"x\",\"y\":\"Electronics\",\"yref\":\"y\"},{\"font\":{\"color\":\"#FFFFFF\"},\"showarrow\":false,\"text\":\"0\",\"x\":\"Sporting Goods\",\"xref\":\"x\",\"y\":\"Electronics\",\"yref\":\"y\"},{\"font\":{\"color\":\"#FFFFFF\"},\"showarrow\":false,\"text\":\"0\",\"x\":\"Food, Beverages & Tobacco\",\"xref\":\"x\",\"y\":\"Electronics\",\"yref\":\"y\"},{\"font\":{\"color\":\"#FFFFFF\"},\"showarrow\":false,\"text\":\"0\",\"x\":\"Apparel & Accessories\",\"xref\":\"x\",\"y\":\"Electronics\",\"yref\":\"y\"},{\"font\":{\"color\":\"#FFFFFF\"},\"showarrow\":false,\"text\":\"0\",\"x\":\"Animals & Pet Supplies\",\"xref\":\"x\",\"y\":\"Electronics\",\"yref\":\"y\"},{\"font\":{\"color\":\"#000000\"},\"showarrow\":false,\"text\":\"71\",\"x\":\"Electronics\",\"xref\":\"x\",\"y\":\"Electronics\",\"yref\":\"y\"},{\"font\":{\"color\":\"#FFFFFF\"},\"showarrow\":false,\"text\":\"0\",\"x\":\"Arts & Entertainment\",\"xref\":\"x\",\"y\":\"Electronics\",\"yref\":\"y\"},{\"font\":{\"color\":\"#FFFFFF\"},\"showarrow\":false,\"text\":\"0\",\"x\":\"Business & Industrial\",\"xref\":\"x\",\"y\":\"Electronics\",\"yref\":\"y\"},{\"font\":{\"color\":\"#FFFFFF\"},\"showarrow\":false,\"text\":\"0\",\"x\":\"Furniture\",\"xref\":\"x\",\"y\":\"Electronics\",\"yref\":\"y\"},{\"font\":{\"color\":\"#FFFFFF\"},\"showarrow\":false,\"text\":\"0\",\"x\":\"Office Supplies\",\"xref\":\"x\",\"y\":\"Electronics\",\"yref\":\"y\"},{\"font\":{\"color\":\"#FFFFFF\"},\"showarrow\":false,\"text\":\"0\",\"x\":\"Cameras & Optics\",\"xref\":\"x\",\"y\":\"Electronics\",\"yref\":\"y\"},{\"font\":{\"color\":\"#FFFFFF\"},\"showarrow\":false,\"text\":\"0\",\"x\":\"Health & Beauty\",\"xref\":\"x\",\"y\":\"Arts & Entertainment\",\"yref\":\"y\"},{\"font\":{\"color\":\"#FFFFFF\"},\"showarrow\":false,\"text\":\"0\",\"x\":\"Home & Garden\",\"xref\":\"x\",\"y\":\"Arts & Entertainment\",\"yref\":\"y\"},{\"font\":{\"color\":\"#FFFFFF\"},\"showarrow\":false,\"text\":\"0\",\"x\":\"Vehicles & Parts\",\"xref\":\"x\",\"y\":\"Arts & Entertainment\",\"yref\":\"y\"},{\"font\":{\"color\":\"#FFFFFF\"},\"showarrow\":false,\"text\":\"0\",\"x\":\"Hardware\",\"xref\":\"x\",\"y\":\"Arts & Entertainment\",\"yref\":\"y\"},{\"font\":{\"color\":\"#FFFFFF\"},\"showarrow\":false,\"text\":\"0\",\"x\":\"Software\",\"xref\":\"x\",\"y\":\"Arts & Entertainment\",\"yref\":\"y\"},{\"font\":{\"color\":\"#FFFFFF\"},\"showarrow\":false,\"text\":\"0\",\"x\":\"Luggage & Bags\",\"xref\":\"x\",\"y\":\"Arts & Entertainment\",\"yref\":\"y\"},{\"font\":{\"color\":\"#FFFFFF\"},\"showarrow\":false,\"text\":\"0\",\"x\":\"Media\",\"xref\":\"x\",\"y\":\"Arts & Entertainment\",\"yref\":\"y\"},{\"font\":{\"color\":\"#FFFFFF\"},\"showarrow\":false,\"text\":\"0\",\"x\":\"Toys & Games\",\"xref\":\"x\",\"y\":\"Arts & Entertainment\",\"yref\":\"y\"},{\"font\":{\"color\":\"#FFFFFF\"},\"showarrow\":false,\"text\":\"0\",\"x\":\"Baby & Toddler\",\"xref\":\"x\",\"y\":\"Arts & Entertainment\",\"yref\":\"y\"},{\"font\":{\"color\":\"#FFFFFF\"},\"showarrow\":false,\"text\":\"0\",\"x\":\"Sporting Goods\",\"xref\":\"x\",\"y\":\"Arts & Entertainment\",\"yref\":\"y\"},{\"font\":{\"color\":\"#FFFFFF\"},\"showarrow\":false,\"text\":\"0\",\"x\":\"Food, Beverages & Tobacco\",\"xref\":\"x\",\"y\":\"Arts & Entertainment\",\"yref\":\"y\"},{\"font\":{\"color\":\"#FFFFFF\"},\"showarrow\":false,\"text\":\"0\",\"x\":\"Apparel & Accessories\",\"xref\":\"x\",\"y\":\"Arts & Entertainment\",\"yref\":\"y\"},{\"font\":{\"color\":\"#FFFFFF\"},\"showarrow\":false,\"text\":\"0\",\"x\":\"Animals & Pet Supplies\",\"xref\":\"x\",\"y\":\"Arts & Entertainment\",\"yref\":\"y\"},{\"font\":{\"color\":\"#FFFFFF\"},\"showarrow\":false,\"text\":\"0\",\"x\":\"Electronics\",\"xref\":\"x\",\"y\":\"Arts & Entertainment\",\"yref\":\"y\"},{\"font\":{\"color\":\"#FFFFFF\"},\"showarrow\":false,\"text\":\"27\",\"x\":\"Arts & Entertainment\",\"xref\":\"x\",\"y\":\"Arts & Entertainment\",\"yref\":\"y\"},{\"font\":{\"color\":\"#FFFFFF\"},\"showarrow\":false,\"text\":\"0\",\"x\":\"Business & Industrial\",\"xref\":\"x\",\"y\":\"Arts & Entertainment\",\"yref\":\"y\"},{\"font\":{\"color\":\"#FFFFFF\"},\"showarrow\":false,\"text\":\"0\",\"x\":\"Furniture\",\"xref\":\"x\",\"y\":\"Arts & Entertainment\",\"yref\":\"y\"},{\"font\":{\"color\":\"#FFFFFF\"},\"showarrow\":false,\"text\":\"0\",\"x\":\"Office Supplies\",\"xref\":\"x\",\"y\":\"Arts & Entertainment\",\"yref\":\"y\"},{\"font\":{\"color\":\"#FFFFFF\"},\"showarrow\":false,\"text\":\"0\",\"x\":\"Cameras & Optics\",\"xref\":\"x\",\"y\":\"Arts & Entertainment\",\"yref\":\"y\"},{\"font\":{\"color\":\"#FFFFFF\"},\"showarrow\":false,\"text\":\"0\",\"x\":\"Health & Beauty\",\"xref\":\"x\",\"y\":\"Business & Industrial\",\"yref\":\"y\"},{\"font\":{\"color\":\"#FFFFFF\"},\"showarrow\":false,\"text\":\"0\",\"x\":\"Home & Garden\",\"xref\":\"x\",\"y\":\"Business & Industrial\",\"yref\":\"y\"},{\"font\":{\"color\":\"#FFFFFF\"},\"showarrow\":false,\"text\":\"0\",\"x\":\"Vehicles & Parts\",\"xref\":\"x\",\"y\":\"Business & Industrial\",\"yref\":\"y\"},{\"font\":{\"color\":\"#FFFFFF\"},\"showarrow\":false,\"text\":\"0\",\"x\":\"Hardware\",\"xref\":\"x\",\"y\":\"Business & Industrial\",\"yref\":\"y\"},{\"font\":{\"color\":\"#FFFFFF\"},\"showarrow\":false,\"text\":\"0\",\"x\":\"Software\",\"xref\":\"x\",\"y\":\"Business & Industrial\",\"yref\":\"y\"},{\"font\":{\"color\":\"#FFFFFF\"},\"showarrow\":false,\"text\":\"0\",\"x\":\"Luggage & Bags\",\"xref\":\"x\",\"y\":\"Business & Industrial\",\"yref\":\"y\"},{\"font\":{\"color\":\"#FFFFFF\"},\"showarrow\":false,\"text\":\"0\",\"x\":\"Media\",\"xref\":\"x\",\"y\":\"Business & Industrial\",\"yref\":\"y\"},{\"font\":{\"color\":\"#FFFFFF\"},\"showarrow\":false,\"text\":\"0\",\"x\":\"Toys & Games\",\"xref\":\"x\",\"y\":\"Business & Industrial\",\"yref\":\"y\"},{\"font\":{\"color\":\"#FFFFFF\"},\"showarrow\":false,\"text\":\"0\",\"x\":\"Baby & Toddler\",\"xref\":\"x\",\"y\":\"Business & Industrial\",\"yref\":\"y\"},{\"font\":{\"color\":\"#FFFFFF\"},\"showarrow\":false,\"text\":\"0\",\"x\":\"Sporting Goods\",\"xref\":\"x\",\"y\":\"Business & Industrial\",\"yref\":\"y\"},{\"font\":{\"color\":\"#FFFFFF\"},\"showarrow\":false,\"text\":\"0\",\"x\":\"Food, Beverages & Tobacco\",\"xref\":\"x\",\"y\":\"Business & Industrial\",\"yref\":\"y\"},{\"font\":{\"color\":\"#FFFFFF\"},\"showarrow\":false,\"text\":\"0\",\"x\":\"Apparel & Accessories\",\"xref\":\"x\",\"y\":\"Business & Industrial\",\"yref\":\"y\"},{\"font\":{\"color\":\"#FFFFFF\"},\"showarrow\":false,\"text\":\"0\",\"x\":\"Animals & Pet Supplies\",\"xref\":\"x\",\"y\":\"Business & Industrial\",\"yref\":\"y\"},{\"font\":{\"color\":\"#FFFFFF\"},\"showarrow\":false,\"text\":\"0\",\"x\":\"Electronics\",\"xref\":\"x\",\"y\":\"Business & Industrial\",\"yref\":\"y\"},{\"font\":{\"color\":\"#FFFFFF\"},\"showarrow\":false,\"text\":\"0\",\"x\":\"Arts & Entertainment\",\"xref\":\"x\",\"y\":\"Business & Industrial\",\"yref\":\"y\"},{\"font\":{\"color\":\"#FFFFFF\"},\"showarrow\":false,\"text\":\"10\",\"x\":\"Business & Industrial\",\"xref\":\"x\",\"y\":\"Business & Industrial\",\"yref\":\"y\"},{\"font\":{\"color\":\"#FFFFFF\"},\"showarrow\":false,\"text\":\"0\",\"x\":\"Furniture\",\"xref\":\"x\",\"y\":\"Business & Industrial\",\"yref\":\"y\"},{\"font\":{\"color\":\"#FFFFFF\"},\"showarrow\":false,\"text\":\"0\",\"x\":\"Office Supplies\",\"xref\":\"x\",\"y\":\"Business & Industrial\",\"yref\":\"y\"},{\"font\":{\"color\":\"#FFFFFF\"},\"showarrow\":false,\"text\":\"0\",\"x\":\"Cameras & Optics\",\"xref\":\"x\",\"y\":\"Business & Industrial\",\"yref\":\"y\"},{\"font\":{\"color\":\"#FFFFFF\"},\"showarrow\":false,\"text\":\"0\",\"x\":\"Health & Beauty\",\"xref\":\"x\",\"y\":\"Furniture\",\"yref\":\"y\"},{\"font\":{\"color\":\"#FFFFFF\"},\"showarrow\":false,\"text\":\"3\",\"x\":\"Home & Garden\",\"xref\":\"x\",\"y\":\"Furniture\",\"yref\":\"y\"},{\"font\":{\"color\":\"#FFFFFF\"},\"showarrow\":false,\"text\":\"0\",\"x\":\"Vehicles & Parts\",\"xref\":\"x\",\"y\":\"Furniture\",\"yref\":\"y\"},{\"font\":{\"color\":\"#FFFFFF\"},\"showarrow\":false,\"text\":\"0\",\"x\":\"Hardware\",\"xref\":\"x\",\"y\":\"Furniture\",\"yref\":\"y\"},{\"font\":{\"color\":\"#FFFFFF\"},\"showarrow\":false,\"text\":\"0\",\"x\":\"Software\",\"xref\":\"x\",\"y\":\"Furniture\",\"yref\":\"y\"},{\"font\":{\"color\":\"#FFFFFF\"},\"showarrow\":false,\"text\":\"0\",\"x\":\"Luggage & Bags\",\"xref\":\"x\",\"y\":\"Furniture\",\"yref\":\"y\"},{\"font\":{\"color\":\"#FFFFFF\"},\"showarrow\":false,\"text\":\"0\",\"x\":\"Media\",\"xref\":\"x\",\"y\":\"Furniture\",\"yref\":\"y\"},{\"font\":{\"color\":\"#FFFFFF\"},\"showarrow\":false,\"text\":\"0\",\"x\":\"Toys & Games\",\"xref\":\"x\",\"y\":\"Furniture\",\"yref\":\"y\"},{\"font\":{\"color\":\"#FFFFFF\"},\"showarrow\":false,\"text\":\"0\",\"x\":\"Baby & Toddler\",\"xref\":\"x\",\"y\":\"Furniture\",\"yref\":\"y\"},{\"font\":{\"color\":\"#FFFFFF\"},\"showarrow\":false,\"text\":\"0\",\"x\":\"Sporting Goods\",\"xref\":\"x\",\"y\":\"Furniture\",\"yref\":\"y\"},{\"font\":{\"color\":\"#FFFFFF\"},\"showarrow\":false,\"text\":\"0\",\"x\":\"Food, Beverages & Tobacco\",\"xref\":\"x\",\"y\":\"Furniture\",\"yref\":\"y\"},{\"font\":{\"color\":\"#FFFFFF\"},\"showarrow\":false,\"text\":\"0\",\"x\":\"Apparel & Accessories\",\"xref\":\"x\",\"y\":\"Furniture\",\"yref\":\"y\"},{\"font\":{\"color\":\"#FFFFFF\"},\"showarrow\":false,\"text\":\"0\",\"x\":\"Animals & Pet Supplies\",\"xref\":\"x\",\"y\":\"Furniture\",\"yref\":\"y\"},{\"font\":{\"color\":\"#FFFFFF\"},\"showarrow\":false,\"text\":\"0\",\"x\":\"Electronics\",\"xref\":\"x\",\"y\":\"Furniture\",\"yref\":\"y\"},{\"font\":{\"color\":\"#FFFFFF\"},\"showarrow\":false,\"text\":\"0\",\"x\":\"Arts & Entertainment\",\"xref\":\"x\",\"y\":\"Furniture\",\"yref\":\"y\"},{\"font\":{\"color\":\"#FFFFFF\"},\"showarrow\":false,\"text\":\"0\",\"x\":\"Business & Industrial\",\"xref\":\"x\",\"y\":\"Furniture\",\"yref\":\"y\"},{\"font\":{\"color\":\"#000000\"},\"showarrow\":false,\"text\":\"86\",\"x\":\"Furniture\",\"xref\":\"x\",\"y\":\"Furniture\",\"yref\":\"y\"},{\"font\":{\"color\":\"#FFFFFF\"},\"showarrow\":false,\"text\":\"2\",\"x\":\"Office Supplies\",\"xref\":\"x\",\"y\":\"Furniture\",\"yref\":\"y\"},{\"font\":{\"color\":\"#FFFFFF\"},\"showarrow\":false,\"text\":\"0\",\"x\":\"Cameras & Optics\",\"xref\":\"x\",\"y\":\"Furniture\",\"yref\":\"y\"},{\"font\":{\"color\":\"#FFFFFF\"},\"showarrow\":false,\"text\":\"1\",\"x\":\"Health & Beauty\",\"xref\":\"x\",\"y\":\"Office Supplies\",\"yref\":\"y\"},{\"font\":{\"color\":\"#FFFFFF\"},\"showarrow\":false,\"text\":\"0\",\"x\":\"Home & Garden\",\"xref\":\"x\",\"y\":\"Office Supplies\",\"yref\":\"y\"},{\"font\":{\"color\":\"#FFFFFF\"},\"showarrow\":false,\"text\":\"0\",\"x\":\"Vehicles & Parts\",\"xref\":\"x\",\"y\":\"Office Supplies\",\"yref\":\"y\"},{\"font\":{\"color\":\"#FFFFFF\"},\"showarrow\":false,\"text\":\"0\",\"x\":\"Hardware\",\"xref\":\"x\",\"y\":\"Office Supplies\",\"yref\":\"y\"},{\"font\":{\"color\":\"#FFFFFF\"},\"showarrow\":false,\"text\":\"0\",\"x\":\"Software\",\"xref\":\"x\",\"y\":\"Office Supplies\",\"yref\":\"y\"},{\"font\":{\"color\":\"#FFFFFF\"},\"showarrow\":false,\"text\":\"0\",\"x\":\"Luggage & Bags\",\"xref\":\"x\",\"y\":\"Office Supplies\",\"yref\":\"y\"},{\"font\":{\"color\":\"#FFFFFF\"},\"showarrow\":false,\"text\":\"0\",\"x\":\"Media\",\"xref\":\"x\",\"y\":\"Office Supplies\",\"yref\":\"y\"},{\"font\":{\"color\":\"#FFFFFF\"},\"showarrow\":false,\"text\":\"0\",\"x\":\"Toys & Games\",\"xref\":\"x\",\"y\":\"Office Supplies\",\"yref\":\"y\"},{\"font\":{\"color\":\"#FFFFFF\"},\"showarrow\":false,\"text\":\"0\",\"x\":\"Baby & Toddler\",\"xref\":\"x\",\"y\":\"Office Supplies\",\"yref\":\"y\"},{\"font\":{\"color\":\"#FFFFFF\"},\"showarrow\":false,\"text\":\"0\",\"x\":\"Sporting Goods\",\"xref\":\"x\",\"y\":\"Office Supplies\",\"yref\":\"y\"},{\"font\":{\"color\":\"#FFFFFF\"},\"showarrow\":false,\"text\":\"0\",\"x\":\"Food, Beverages & Tobacco\",\"xref\":\"x\",\"y\":\"Office Supplies\",\"yref\":\"y\"},{\"font\":{\"color\":\"#FFFFFF\"},\"showarrow\":false,\"text\":\"0\",\"x\":\"Apparel & Accessories\",\"xref\":\"x\",\"y\":\"Office Supplies\",\"yref\":\"y\"},{\"font\":{\"color\":\"#FFFFFF\"},\"showarrow\":false,\"text\":\"0\",\"x\":\"Animals & Pet Supplies\",\"xref\":\"x\",\"y\":\"Office Supplies\",\"yref\":\"y\"},{\"font\":{\"color\":\"#FFFFFF\"},\"showarrow\":false,\"text\":\"0\",\"x\":\"Electronics\",\"xref\":\"x\",\"y\":\"Office Supplies\",\"yref\":\"y\"},{\"font\":{\"color\":\"#FFFFFF\"},\"showarrow\":false,\"text\":\"0\",\"x\":\"Arts & Entertainment\",\"xref\":\"x\",\"y\":\"Office Supplies\",\"yref\":\"y\"},{\"font\":{\"color\":\"#FFFFFF\"},\"showarrow\":false,\"text\":\"0\",\"x\":\"Business & Industrial\",\"xref\":\"x\",\"y\":\"Office Supplies\",\"yref\":\"y\"},{\"font\":{\"color\":\"#FFFFFF\"},\"showarrow\":false,\"text\":\"0\",\"x\":\"Furniture\",\"xref\":\"x\",\"y\":\"Office Supplies\",\"yref\":\"y\"},{\"font\":{\"color\":\"#000000\"},\"showarrow\":false,\"text\":\"77\",\"x\":\"Office Supplies\",\"xref\":\"x\",\"y\":\"Office Supplies\",\"yref\":\"y\"},{\"font\":{\"color\":\"#FFFFFF\"},\"showarrow\":false,\"text\":\"0\",\"x\":\"Cameras & Optics\",\"xref\":\"x\",\"y\":\"Office Supplies\",\"yref\":\"y\"},{\"font\":{\"color\":\"#FFFFFF\"},\"showarrow\":false,\"text\":\"0\",\"x\":\"Health & Beauty\",\"xref\":\"x\",\"y\":\"Cameras & Optics\",\"yref\":\"y\"},{\"font\":{\"color\":\"#FFFFFF\"},\"showarrow\":false,\"text\":\"0\",\"x\":\"Home & Garden\",\"xref\":\"x\",\"y\":\"Cameras & Optics\",\"yref\":\"y\"},{\"font\":{\"color\":\"#FFFFFF\"},\"showarrow\":false,\"text\":\"0\",\"x\":\"Vehicles & Parts\",\"xref\":\"x\",\"y\":\"Cameras & Optics\",\"yref\":\"y\"},{\"font\":{\"color\":\"#FFFFFF\"},\"showarrow\":false,\"text\":\"0\",\"x\":\"Hardware\",\"xref\":\"x\",\"y\":\"Cameras & Optics\",\"yref\":\"y\"},{\"font\":{\"color\":\"#FFFFFF\"},\"showarrow\":false,\"text\":\"0\",\"x\":\"Software\",\"xref\":\"x\",\"y\":\"Cameras & Optics\",\"yref\":\"y\"},{\"font\":{\"color\":\"#FFFFFF\"},\"showarrow\":false,\"text\":\"0\",\"x\":\"Luggage & Bags\",\"xref\":\"x\",\"y\":\"Cameras & Optics\",\"yref\":\"y\"},{\"font\":{\"color\":\"#FFFFFF\"},\"showarrow\":false,\"text\":\"0\",\"x\":\"Media\",\"xref\":\"x\",\"y\":\"Cameras & Optics\",\"yref\":\"y\"},{\"font\":{\"color\":\"#FFFFFF\"},\"showarrow\":false,\"text\":\"0\",\"x\":\"Toys & Games\",\"xref\":\"x\",\"y\":\"Cameras & Optics\",\"yref\":\"y\"},{\"font\":{\"color\":\"#FFFFFF\"},\"showarrow\":false,\"text\":\"0\",\"x\":\"Baby & Toddler\",\"xref\":\"x\",\"y\":\"Cameras & Optics\",\"yref\":\"y\"},{\"font\":{\"color\":\"#FFFFFF\"},\"showarrow\":false,\"text\":\"0\",\"x\":\"Sporting Goods\",\"xref\":\"x\",\"y\":\"Cameras & Optics\",\"yref\":\"y\"},{\"font\":{\"color\":\"#FFFFFF\"},\"showarrow\":false,\"text\":\"0\",\"x\":\"Food, Beverages & Tobacco\",\"xref\":\"x\",\"y\":\"Cameras & Optics\",\"yref\":\"y\"},{\"font\":{\"color\":\"#FFFFFF\"},\"showarrow\":false,\"text\":\"0\",\"x\":\"Apparel & Accessories\",\"xref\":\"x\",\"y\":\"Cameras & Optics\",\"yref\":\"y\"},{\"font\":{\"color\":\"#FFFFFF\"},\"showarrow\":false,\"text\":\"0\",\"x\":\"Animals & Pet Supplies\",\"xref\":\"x\",\"y\":\"Cameras & Optics\",\"yref\":\"y\"},{\"font\":{\"color\":\"#FFFFFF\"},\"showarrow\":false,\"text\":\"0\",\"x\":\"Electronics\",\"xref\":\"x\",\"y\":\"Cameras & Optics\",\"yref\":\"y\"},{\"font\":{\"color\":\"#FFFFFF\"},\"showarrow\":false,\"text\":\"0\",\"x\":\"Arts & Entertainment\",\"xref\":\"x\",\"y\":\"Cameras & Optics\",\"yref\":\"y\"},{\"font\":{\"color\":\"#FFFFFF\"},\"showarrow\":false,\"text\":\"0\",\"x\":\"Business & Industrial\",\"xref\":\"x\",\"y\":\"Cameras & Optics\",\"yref\":\"y\"},{\"font\":{\"color\":\"#FFFFFF\"},\"showarrow\":false,\"text\":\"0\",\"x\":\"Furniture\",\"xref\":\"x\",\"y\":\"Cameras & Optics\",\"yref\":\"y\"},{\"font\":{\"color\":\"#FFFFFF\"},\"showarrow\":false,\"text\":\"0\",\"x\":\"Office Supplies\",\"xref\":\"x\",\"y\":\"Cameras & Optics\",\"yref\":\"y\"},{\"font\":{\"color\":\"#FFFFFF\"},\"showarrow\":false,\"text\":\"36\",\"x\":\"Cameras & Optics\",\"xref\":\"x\",\"y\":\"Cameras & Optics\",\"yref\":\"y\"}],\"xaxis\":{\"dtick\":1,\"gridcolor\":\"rgb(0, 0, 0)\",\"side\":\"top\",\"ticks\":\"\",\"title\":{\"text\":\"Predicted Label\"}},\"yaxis\":{\"dtick\":1,\"ticks\":\"\",\"ticksuffix\":\"  \",\"title\":{\"text\":\"True Label\"},\"autorange\":\"reversed\"},\"template\":{\"data\":{\"barpolar\":[{\"marker\":{\"line\":{\"color\":\"white\",\"width\":0.5},\"pattern\":{\"fillmode\":\"overlay\",\"size\":10,\"solidity\":0.2}},\"type\":\"barpolar\"}],\"bar\":[{\"error_x\":{\"color\":\"#2a3f5f\"},\"error_y\":{\"color\":\"#2a3f5f\"},\"marker\":{\"line\":{\"color\":\"white\",\"width\":0.5},\"pattern\":{\"fillmode\":\"overlay\",\"size\":10,\"solidity\":0.2}},\"type\":\"bar\"}],\"carpet\":[{\"aaxis\":{\"endlinecolor\":\"#2a3f5f\",\"gridcolor\":\"#C8D4E3\",\"linecolor\":\"#C8D4E3\",\"minorgridcolor\":\"#C8D4E3\",\"startlinecolor\":\"#2a3f5f\"},\"baxis\":{\"endlinecolor\":\"#2a3f5f\",\"gridcolor\":\"#C8D4E3\",\"linecolor\":\"#C8D4E3\",\"minorgridcolor\":\"#C8D4E3\",\"startlinecolor\":\"#2a3f5f\"},\"type\":\"carpet\"}],\"choropleth\":[{\"colorbar\":{\"outlinewidth\":0,\"ticks\":\"\"},\"type\":\"choropleth\"}],\"contourcarpet\":[{\"colorbar\":{\"outlinewidth\":0,\"ticks\":\"\"},\"type\":\"contourcarpet\"}],\"contour\":[{\"colorbar\":{\"outlinewidth\":0,\"ticks\":\"\"},\"colorscale\":[[0.0,\"#0d0887\"],[0.1111111111111111,\"#46039f\"],[0.2222222222222222,\"#7201a8\"],[0.3333333333333333,\"#9c179e\"],[0.4444444444444444,\"#bd3786\"],[0.5555555555555556,\"#d8576b\"],[0.6666666666666666,\"#ed7953\"],[0.7777777777777778,\"#fb9f3a\"],[0.8888888888888888,\"#fdca26\"],[1.0,\"#f0f921\"]],\"type\":\"contour\"}],\"heatmapgl\":[{\"colorbar\":{\"outlinewidth\":0,\"ticks\":\"\"},\"colorscale\":[[0.0,\"#0d0887\"],[0.1111111111111111,\"#46039f\"],[0.2222222222222222,\"#7201a8\"],[0.3333333333333333,\"#9c179e\"],[0.4444444444444444,\"#bd3786\"],[0.5555555555555556,\"#d8576b\"],[0.6666666666666666,\"#ed7953\"],[0.7777777777777778,\"#fb9f3a\"],[0.8888888888888888,\"#fdca26\"],[1.0,\"#f0f921\"]],\"type\":\"heatmapgl\"}],\"heatmap\":[{\"colorbar\":{\"outlinewidth\":0,\"ticks\":\"\"},\"colorscale\":[[0.0,\"#0d0887\"],[0.1111111111111111,\"#46039f\"],[0.2222222222222222,\"#7201a8\"],[0.3333333333333333,\"#9c179e\"],[0.4444444444444444,\"#bd3786\"],[0.5555555555555556,\"#d8576b\"],[0.6666666666666666,\"#ed7953\"],[0.7777777777777778,\"#fb9f3a\"],[0.8888888888888888,\"#fdca26\"],[1.0,\"#f0f921\"]],\"type\":\"heatmap\"}],\"histogram2dcontour\":[{\"colorbar\":{\"outlinewidth\":0,\"ticks\":\"\"},\"colorscale\":[[0.0,\"#0d0887\"],[0.1111111111111111,\"#46039f\"],[0.2222222222222222,\"#7201a8\"],[0.3333333333333333,\"#9c179e\"],[0.4444444444444444,\"#bd3786\"],[0.5555555555555556,\"#d8576b\"],[0.6666666666666666,\"#ed7953\"],[0.7777777777777778,\"#fb9f3a\"],[0.8888888888888888,\"#fdca26\"],[1.0,\"#f0f921\"]],\"type\":\"histogram2dcontour\"}],\"histogram2d\":[{\"colorbar\":{\"outlinewidth\":0,\"ticks\":\"\"},\"colorscale\":[[0.0,\"#0d0887\"],[0.1111111111111111,\"#46039f\"],[0.2222222222222222,\"#7201a8\"],[0.3333333333333333,\"#9c179e\"],[0.4444444444444444,\"#bd3786\"],[0.5555555555555556,\"#d8576b\"],[0.6666666666666666,\"#ed7953\"],[0.7777777777777778,\"#fb9f3a\"],[0.8888888888888888,\"#fdca26\"],[1.0,\"#f0f921\"]],\"type\":\"histogram2d\"}],\"histogram\":[{\"marker\":{\"pattern\":{\"fillmode\":\"overlay\",\"size\":10,\"solidity\":0.2}},\"type\":\"histogram\"}],\"mesh3d\":[{\"colorbar\":{\"outlinewidth\":0,\"ticks\":\"\"},\"type\":\"mesh3d\"}],\"parcoords\":[{\"line\":{\"colorbar\":{\"outlinewidth\":0,\"ticks\":\"\"}},\"type\":\"parcoords\"}],\"pie\":[{\"automargin\":true,\"type\":\"pie\"}],\"scatter3d\":[{\"line\":{\"colorbar\":{\"outlinewidth\":0,\"ticks\":\"\"}},\"marker\":{\"colorbar\":{\"outlinewidth\":0,\"ticks\":\"\"}},\"type\":\"scatter3d\"}],\"scattercarpet\":[{\"marker\":{\"colorbar\":{\"outlinewidth\":0,\"ticks\":\"\"}},\"type\":\"scattercarpet\"}],\"scattergeo\":[{\"marker\":{\"colorbar\":{\"outlinewidth\":0,\"ticks\":\"\"}},\"type\":\"scattergeo\"}],\"scattergl\":[{\"marker\":{\"colorbar\":{\"outlinewidth\":0,\"ticks\":\"\"}},\"type\":\"scattergl\"}],\"scattermapbox\":[{\"marker\":{\"colorbar\":{\"outlinewidth\":0,\"ticks\":\"\"}},\"type\":\"scattermapbox\"}],\"scatterpolargl\":[{\"marker\":{\"colorbar\":{\"outlinewidth\":0,\"ticks\":\"\"}},\"type\":\"scatterpolargl\"}],\"scatterpolar\":[{\"marker\":{\"colorbar\":{\"outlinewidth\":0,\"ticks\":\"\"}},\"type\":\"scatterpolar\"}],\"scatter\":[{\"fillpattern\":{\"fillmode\":\"overlay\",\"size\":10,\"solidity\":0.2},\"type\":\"scatter\"}],\"scatterternary\":[{\"marker\":{\"colorbar\":{\"outlinewidth\":0,\"ticks\":\"\"}},\"type\":\"scatterternary\"}],\"surface\":[{\"colorbar\":{\"outlinewidth\":0,\"ticks\":\"\"},\"colorscale\":[[0.0,\"#0d0887\"],[0.1111111111111111,\"#46039f\"],[0.2222222222222222,\"#7201a8\"],[0.3333333333333333,\"#9c179e\"],[0.4444444444444444,\"#bd3786\"],[0.5555555555555556,\"#d8576b\"],[0.6666666666666666,\"#ed7953\"],[0.7777777777777778,\"#fb9f3a\"],[0.8888888888888888,\"#fdca26\"],[1.0,\"#f0f921\"]],\"type\":\"surface\"}],\"table\":[{\"cells\":{\"fill\":{\"color\":\"#EBF0F8\"},\"line\":{\"color\":\"white\"}},\"header\":{\"fill\":{\"color\":\"#C8D4E3\"},\"line\":{\"color\":\"white\"}},\"type\":\"table\"}]},\"layout\":{\"annotationdefaults\":{\"arrowcolor\":\"#2a3f5f\",\"arrowhead\":0,\"arrowwidth\":1},\"autotypenumbers\":\"strict\",\"coloraxis\":{\"colorbar\":{\"outlinewidth\":0,\"ticks\":\"\"}},\"colorscale\":{\"diverging\":[[0,\"#8e0152\"],[0.1,\"#c51b7d\"],[0.2,\"#de77ae\"],[0.3,\"#f1b6da\"],[0.4,\"#fde0ef\"],[0.5,\"#f7f7f7\"],[0.6,\"#e6f5d0\"],[0.7,\"#b8e186\"],[0.8,\"#7fbc41\"],[0.9,\"#4d9221\"],[1,\"#276419\"]],\"sequential\":[[0.0,\"#0d0887\"],[0.1111111111111111,\"#46039f\"],[0.2222222222222222,\"#7201a8\"],[0.3333333333333333,\"#9c179e\"],[0.4444444444444444,\"#bd3786\"],[0.5555555555555556,\"#d8576b\"],[0.6666666666666666,\"#ed7953\"],[0.7777777777777778,\"#fb9f3a\"],[0.8888888888888888,\"#fdca26\"],[1.0,\"#f0f921\"]],\"sequentialminus\":[[0.0,\"#0d0887\"],[0.1111111111111111,\"#46039f\"],[0.2222222222222222,\"#7201a8\"],[0.3333333333333333,\"#9c179e\"],[0.4444444444444444,\"#bd3786\"],[0.5555555555555556,\"#d8576b\"],[0.6666666666666666,\"#ed7953\"],[0.7777777777777778,\"#fb9f3a\"],[0.8888888888888888,\"#fdca26\"],[1.0,\"#f0f921\"]]},\"colorway\":[\"#636efa\",\"#EF553B\",\"#00cc96\",\"#ab63fa\",\"#FFA15A\",\"#19d3f3\",\"#FF6692\",\"#B6E880\",\"#FF97FF\",\"#FECB52\"],\"font\":{\"color\":\"#2a3f5f\"},\"geo\":{\"bgcolor\":\"white\",\"lakecolor\":\"white\",\"landcolor\":\"white\",\"showlakes\":true,\"showland\":true,\"subunitcolor\":\"#C8D4E3\"},\"hoverlabel\":{\"align\":\"left\"},\"hovermode\":\"closest\",\"mapbox\":{\"style\":\"light\"},\"paper_bgcolor\":\"white\",\"plot_bgcolor\":\"white\",\"polar\":{\"angularaxis\":{\"gridcolor\":\"#EBF0F8\",\"linecolor\":\"#EBF0F8\",\"ticks\":\"\"},\"bgcolor\":\"white\",\"radialaxis\":{\"gridcolor\":\"#EBF0F8\",\"linecolor\":\"#EBF0F8\",\"ticks\":\"\"}},\"scene\":{\"xaxis\":{\"backgroundcolor\":\"white\",\"gridcolor\":\"#DFE8F3\",\"gridwidth\":2,\"linecolor\":\"#EBF0F8\",\"showbackground\":true,\"ticks\":\"\",\"zerolinecolor\":\"#EBF0F8\"},\"yaxis\":{\"backgroundcolor\":\"white\",\"gridcolor\":\"#DFE8F3\",\"gridwidth\":2,\"linecolor\":\"#EBF0F8\",\"showbackground\":true,\"ticks\":\"\",\"zerolinecolor\":\"#EBF0F8\"},\"zaxis\":{\"backgroundcolor\":\"white\",\"gridcolor\":\"#DFE8F3\",\"gridwidth\":2,\"linecolor\":\"#EBF0F8\",\"showbackground\":true,\"ticks\":\"\",\"zerolinecolor\":\"#EBF0F8\"}},\"shapedefaults\":{\"line\":{\"color\":\"#2a3f5f\"}},\"ternary\":{\"aaxis\":{\"gridcolor\":\"#DFE8F3\",\"linecolor\":\"#A2B1C6\",\"ticks\":\"\"},\"baxis\":{\"gridcolor\":\"#DFE8F3\",\"linecolor\":\"#A2B1C6\",\"ticks\":\"\"},\"bgcolor\":\"white\",\"caxis\":{\"gridcolor\":\"#DFE8F3\",\"linecolor\":\"#A2B1C6\",\"ticks\":\"\"}},\"title\":{\"x\":0.05},\"xaxis\":{\"automargin\":true,\"gridcolor\":\"#EBF0F8\",\"linecolor\":\"#EBF0F8\",\"ticks\":\"\",\"title\":{\"standoff\":15},\"zerolinecolor\":\"#EBF0F8\",\"zerolinewidth\":2},\"yaxis\":{\"automargin\":true,\"gridcolor\":\"#EBF0F8\",\"linecolor\":\"#EBF0F8\",\"ticks\":\"\",\"title\":{\"standoff\":15},\"zerolinecolor\":\"#EBF0F8\",\"zerolinewidth\":2}}},\"title\":{\"text\":\"Confusion Matrix\"}},                        {\"responsive\": true}                    ).then(function(){\n",
              "                            \n",
              "var gd = document.getElementById('98b51f6b-6874-48cd-ae84-2b8e2dc73e43');\n",
              "var x = new MutationObserver(function (mutations, observer) {{\n",
              "        var display = window.getComputedStyle(gd).display;\n",
              "        if (!display || display === 'none') {{\n",
              "            console.log([gd, 'removed!']);\n",
              "            Plotly.purge(gd);\n",
              "            observer.disconnect();\n",
              "        }}\n",
              "}});\n",
              "\n",
              "// Listen for the removal of the full notebook cells\n",
              "var notebookContainer = gd.closest('#notebook-container');\n",
              "if (notebookContainer) {{\n",
              "    x.observe(notebookContainer, {childList: true});\n",
              "}}\n",
              "\n",
              "// Listen for the clearing of the current output cell\n",
              "var outputEl = gd.closest('.output');\n",
              "if (outputEl) {{\n",
              "    x.observe(outputEl, {childList: true});\n",
              "}}\n",
              "\n",
              "                        })                };                            </script>        </div>\n",
              "</body>\n",
              "</html>"
            ]
          },
          "metadata": {}
        }
      ]
    },
    {
      "cell_type": "markdown",
      "source": [
        "#### Classification Report"
      ],
      "metadata": {
        "id": "UrGJxO0W4woa"
      }
    },
    {
      "cell_type": "code",
      "source": [
        "print(classification_report(np.array(test_df['label_int']), np.array(predicted_labels)))"
      ],
      "metadata": {
        "colab": {
          "base_uri": "https://localhost:8080/"
        },
        "id": "aNsnTWVuu3xj",
        "outputId": "6a81e0b0-7000-4f5a-ab93-05ac038227a4"
      },
      "execution_count": 68,
      "outputs": [
        {
          "output_type": "stream",
          "name": "stdout",
          "text": [
            "              precision    recall  f1-score   support\n",
            "\n",
            "           0       0.98      1.00      0.99        62\n",
            "           1       0.91      0.90      0.91        82\n",
            "           2       1.00      0.97      0.99        73\n",
            "           3       0.98      1.00      0.99        58\n",
            "           4       1.00      1.00      1.00        43\n",
            "           5       1.00      1.00      1.00        15\n",
            "           6       1.00      1.00      1.00        33\n",
            "           7       1.00      1.00      1.00        75\n",
            "           8       1.00      0.98      0.99        63\n",
            "           9       1.00      1.00      1.00        12\n",
            "          10       0.99      0.98      0.98        81\n",
            "          11       0.96      0.99      0.98        81\n",
            "          12       1.00      0.98      0.99        81\n",
            "          13       1.00      0.99      0.99        72\n",
            "          14       1.00      1.00      1.00        27\n",
            "          16       1.00      1.00      1.00        10\n",
            "          17       0.96      0.95      0.95        91\n",
            "          18       0.93      0.99      0.96        78\n",
            "          19       1.00      1.00      1.00        36\n",
            "\n",
            "    accuracy                           0.98      1073\n",
            "   macro avg       0.99      0.99      0.98      1073\n",
            "weighted avg       0.98      0.98      0.98      1073\n",
            "\n"
          ]
        }
      ]
    },
    {
      "cell_type": "markdown",
      "source": [
        "#### Check Model"
      ],
      "metadata": {
        "id": "4AHxaYcq40H3"
      }
    },
    {
      "cell_type": "code",
      "source": [
        "# showing the first test sample result label\n",
        "np.argmax(predictions[0])"
      ],
      "metadata": {
        "id": "bOt2UPu7NbUW",
        "colab": {
          "base_uri": "https://localhost:8080/"
        },
        "outputId": "3f863b30-d8f7-4057-d693-a0aa4a6a0c02"
      },
      "execution_count": 69,
      "outputs": [
        {
          "output_type": "execute_result",
          "data": {
            "text/plain": [
              "10"
            ]
          },
          "metadata": {},
          "execution_count": 69
        }
      ]
    },
    {
      "cell_type": "code",
      "source": [
        "# showing the true label of the first test sample\n",
        "test_df.iloc[0]"
      ],
      "metadata": {
        "colab": {
          "base_uri": "https://localhost:8080/"
        },
        "id": "Fy915bOg41-o",
        "outputId": "70d93c7d-369b-4da3-de18-421936cdc27f"
      },
      "execution_count": 70,
      "outputs": [
        {
          "output_type": "execute_result",
          "data": {
            "text/plain": [
              "text         colour up colour protection hair bath oway col...\n",
              "label                                          Health & Beauty\n",
              "label_int                                                   10\n",
              "Name: 2856, dtype: object"
            ]
          },
          "metadata": {},
          "execution_count": 70
        }
      ]
    },
    {
      "cell_type": "markdown",
      "source": [
        "## Finally in this code we achieved, loss: 0.1043 - accuracy: 0.9786\n",
        "\n",
        "\n"
      ],
      "metadata": {
        "id": "E3uoiCiW5iwR"
      }
    },
    {
      "cell_type": "markdown",
      "source": [
        "**Author:** https://farrokhkarimi.github.io/\n",
        "\n",
        "**Editor:** [Zahra Shahlaie](https://github.com/ZahraShahlaie)"
      ],
      "metadata": {
        "id": "CSw7kwIQipyc"
      }
    }
  ]
}